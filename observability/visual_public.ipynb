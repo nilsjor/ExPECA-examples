{
 "cells": [
  {
   "cell_type": "markdown",
   "metadata": {
    "colab_type": "text",
    "id": "view-in-github"
   },
   "source": [
    "<a href=\"https://colab.research.google.com/github/KTH-EXPECA/examples/blob/main/observability/visual_public.ipynb\" target=\"_parent\"><img src=\"https://colab.research.google.com/assets/colab-badge.svg\" alt=\"Open In Colab\"/></a>"
   ]
  },
  {
   "cell_type": "markdown",
   "metadata": {},
   "source": [
    "# Set variables"
   ]
  },
  {
   "cell_type": "code",
   "execution_count": null,
   "metadata": {},
   "outputs": [],
   "source": [
    "project = \"demo_project\"\n",
    "worker_name = \"worker-01\""
   ]
  },
  {
   "cell_type": "markdown",
   "metadata": {
    "id": "W9YICZf_mJBy"
   },
   "source": [
    "# Authentication and Dependencies\n",
    "\n",
    "Login to Chameleon and download openrc.sh file from [here](https://testbed.expeca.proj.kth.se/project/api_access/openrc/). Upload it here next to this notebook and continue.\n",
    "\n",
    "In the next cell, we setup the authentication method to be able to use Openstack clients."
   ]
  },
  {
   "cell_type": "code",
   "execution_count": null,
   "metadata": {
    "colab": {
     "base_uri": "https://localhost:8080/"
    },
    "id": "KLT-J26lJ5ae",
    "outputId": "4ad354c2-71a0-4b61-d78b-1023e0812d72"
   },
   "outputs": [],
   "source": [
    "import os, re\n",
    "from getpass import getpass\n",
    "\n",
    "openrc_path = \"/content/\" + project + \"-openrc.sh\"\n",
    "\n",
    "with open(openrc_path, 'r') as f:\n",
    "    script_content = f.read()\n",
    "    pattern = r'export\\s+(\\w+)\\s*=\\s*(\"[^\"]+\"|[^\"\\n]+)'\n",
    "    matches = re.findall(pattern, script_content)\n",
    "\n",
    "    for name, value in matches:\n",
    "        os.environ[name] = value.strip('\"')\n",
    "\n",
    "password = getpass('enter your expeca password:')\n",
    "os.environ['OS_PASSWORD'] = password"
   ]
  },
  {
   "cell_type": "markdown",
   "metadata": {
    "id": "5bXlipy4m1bs"
   },
   "source": [
    "Install required packages and dependencies. Ignore the warnings."
   ]
  },
  {
   "cell_type": "code",
   "execution_count": null,
   "metadata": {
    "colab": {
     "base_uri": "https://localhost:8080/"
    },
    "id": "3uZ_rN5iFlhp",
    "outputId": "f493cc5e-0e2a-4b65-e3ac-65bec5c5dd3a"
   },
   "outputs": [],
   "source": [
    "!pip uninstall -q -y moviepy\n",
    "!pip install -q jedi\n",
    "!pip install -q git+https://github.com/KTH-EXPECA/python-chi"
   ]
  },
  {
   "cell_type": "markdown",
   "metadata": {
    "id": "VkDR3RsFpKSv"
   },
   "source": [
    "Import packages"
   ]
  },
  {
   "cell_type": "code",
   "execution_count": null,
   "metadata": {
    "id": "gWqW34Pc7YJp"
   },
   "outputs": [],
   "source": [
    "import json, time\n",
    "from loguru import logger\n",
    "import chi.network, chi.container, chi.network\n",
    "from chi.expeca import reserve, list_reservations, unreserve_byid, get_container_status, wait_until_container_removed, show_reservation_byname, restart_sdr, make_sdr_ni, make_sdr_mango, sdr_tools, get_available_publicips, get_segment_ids, get_radio_interfaces, get_worker_interfaces"
   ]
  },
  {
   "cell_type": "markdown",
   "metadata": {
    "id": "Rd4EsDjdqRFU"
   },
   "source": [
    "# Reserve resources\n",
    "\n",
    "In the next cells, we reserve 1 worker."
   ]
  },
  {
   "cell_type": "code",
   "execution_count": null,
   "metadata": {
    "colab": {
     "base_uri": "https://localhost:8080/"
    },
    "id": "1pauMnGZ8KSP",
    "outputId": "42dc727f-1261-4c8b-f78d-d0f5bd0f4532"
   },
   "outputs": [],
   "source": [
    "# reserve worker\n",
    "worker_lease = show_reservation_byname(worker_name+\"-lease\")\n",
    "if not worker_lease:\n",
    "    worker_lease = reserve(\n",
    "        { \"type\":\"device\", \"name\":worker_name, \"duration\": { \"days\":7, \"hours\":0 } }\n",
    "    )\n",
    "worker_reservation_id = worker_lease[\"reservations\"][0][\"id\"]\n",
    "\n",
    "leaseslist = list_reservations(brief=True)\n",
    "print(json.dumps(leaseslist,indent=4))"
   ]
  },
  {
   "cell_type": "markdown",
   "metadata": {
    "id": "Md8kUWS3Ymhb"
   },
   "source": [
    "# Run containers"
   ]
  },
  {
   "cell_type": "markdown",
   "metadata": {},
   "source": [
    "Run a container for InfluxDB, MQTT, and Grafana, with a public IP"
   ]
  },
  {
   "cell_type": "code",
   "execution_count": null,
   "metadata": {},
   "outputs": [],
   "source": [
    "# check public IPs and select one\n",
    "available_pub_ips = get_available_publicips()\n",
    "pub_ip = available_pub_ips[0]\n",
    "logger.info(f\"Available public ips: {available_pub_ips}.\")\n",
    "logger.info(f\"We choose {pub_ip} for this container.\")\n",
    "\n",
    "# check available interfaces of the worker\n",
    "interfaces = list(get_worker_interfaces(worker_name).values())[0]\n",
    "available_ifs = []\n",
    "for interface in interfaces.keys():\n",
    "  if len(interfaces[interface]['connections']) == 0:\n",
    "    available_ifs.append(interface)\n",
    "logger.info(f\"Available interfaces on {worker_name}: {available_ifs}\")\n",
    "if len(available_ifs) < 2:\n",
    "  logger.info(f\"{json.dumps(interfaces, indent=4)}\")\n",
    "  raise Exception(f\"Did not find enough interfaces on {worker_name}\")\n",
    "\n",
    "# run container\n",
    "publicnet = chi.network.get_network(\"serverpublic\")\n",
    "container_name = \"visual-public\"\n",
    "chi.container.create_container(\n",
    "    name = container_name,\n",
    "    image = \"sman4ever/visual:latest\",\n",
    "    reservation_id = worker_reservation_id,\n",
    "    environment = {\n",
    "        \"DNS_IP\":\"8.8.8.8\",\n",
    "        \"GATEWAY_IP\":\"130.237.11.97\",\n",
    "        \"PASS\":\"defaultdefault\",\n",
    "        \"MQTT_USER\":\"admin\",\n",
    "        \"MQTT_PASS\":\"defaultdefault\",\n",
    "    },\n",
    "    mounts = [],\n",
    "    nets = [\n",
    "        { \"network\" : publicnet['id'] },\n",
    "    ],\n",
    "    labels = {\n",
    "        \"networks.1.interface\":available_ifs[0],\n",
    "        \"networks.1.ip\":pub_ip+\"/27\",\n",
    "        \"capabilities.privileged\":\"true\",\n",
    "    },\n",
    ")\n",
    "chi.container.wait_for_active(container_name)\n",
    "logger.success(f\"created {container_name} container, reachable at {pub_ip}\")"
   ]
  }
 ],
 "metadata": {
  "colab": {
   "collapsed_sections": [
    "W9YICZf_mJBy",
    "Rd4EsDjdqRFU",
    "qGLRVmiXHmf4",
    "9y4TchLY9jVx",
    "3CCjzjCT-oIl",
    "p2joHHj_EZtq"
   ],
   "include_colab_link": true,
   "provenance": []
  },
  "kernelspec": {
   "display_name": "Python 3",
   "name": "python3"
  },
  "language_info": {
   "name": "python"
  }
 },
 "nbformat": 4,
 "nbformat_minor": 0
}
