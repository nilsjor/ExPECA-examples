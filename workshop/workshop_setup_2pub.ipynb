{
 "cells": [
  {
   "cell_type": "markdown",
   "metadata": {
    "colab_type": "text",
    "id": "view-in-github"
   },
   "source": [
    "<a href=\"https://colab.research.google.com/github/KTH-EXPECA/examples/blob/main/workshop/workshop_setup_2pub.ipynb\" target=\"_parent\"><img src=\"https://colab.research.google.com/assets/colab-badge.svg\" alt=\"Open In Colab\"/></a>"
   ]
  },
  {
   "cell_type": "markdown",
   "metadata": {},
   "source": [
    "# Set variables"
   ]
  },
  {
   "cell_type": "code",
   "execution_count": null,
   "metadata": {},
   "outputs": [],
   "source": [
    "project = \"workshop01\"\n",
    "sdr_name = \"sdr-04\"\n",
    "adv_name = \"adv-08\"\n",
    "worker_name = \"worker-01\""
   ]
  },
  {
   "cell_type": "markdown",
   "metadata": {
    "id": "W9YICZf_mJBy"
   },
   "source": [
    "# Authentication and Dependencies\n",
    "\n",
    "Login to Chameleon and download openrc.sh file from [here](https://testbed.expeca.proj.kth.se/project/api_access/openrc/). Upload it here next to this notebook and continue.\n",
    "\n",
    "In the next cell, we setup the authentication method to be able to use Openstack clients."
   ]
  },
  {
   "cell_type": "code",
   "execution_count": null,
   "metadata": {
    "colab": {
     "base_uri": "https://localhost:8080/"
    },
    "id": "KLT-J26lJ5ae",
    "outputId": "4ad354c2-71a0-4b61-d78b-1023e0812d72"
   },
   "outputs": [],
   "source": [
    "import os, re\n",
    "from getpass import getpass\n",
    "\n",
    "openrc_path = \"/content/\" + project + \"-openrc.sh\"\n",
    "\n",
    "with open(openrc_path, 'r') as f:\n",
    "    script_content = f.read()\n",
    "    pattern = r'export\\s+(\\w+)\\s*=\\s*(\"[^\"]+\"|[^\"\\n]+)'\n",
    "    matches = re.findall(pattern, script_content)\n",
    "\n",
    "    for name, value in matches:\n",
    "        os.environ[name] = value.strip('\"')\n",
    "\n",
    "password = getpass('enter your expeca password:')\n",
    "os.environ['OS_PASSWORD'] = password"
   ]
  },
  {
   "cell_type": "markdown",
   "metadata": {
    "id": "5bXlipy4m1bs"
   },
   "source": [
    "Install required packages and dependencies. Ignore the warnings."
   ]
  },
  {
   "cell_type": "code",
   "execution_count": null,
   "metadata": {
    "colab": {
     "base_uri": "https://localhost:8080/"
    },
    "id": "3uZ_rN5iFlhp",
    "outputId": "f493cc5e-0e2a-4b65-e3ac-65bec5c5dd3a"
   },
   "outputs": [],
   "source": [
    "!pip uninstall -q -y moviepy\n",
    "!pip install -q jedi\n",
    "!pip install -q git+https://github.com/KTH-EXPECA/python-chi"
   ]
  },
  {
   "cell_type": "markdown",
   "metadata": {
    "id": "VkDR3RsFpKSv"
   },
   "source": [
    "Import packages"
   ]
  },
  {
   "cell_type": "code",
   "execution_count": null,
   "metadata": {
    "id": "gWqW34Pc7YJp"
   },
   "outputs": [],
   "source": [
    "import json, time\n",
    "from loguru import logger\n",
    "import chi.network, chi.container, chi.network\n",
    "from chi.expeca import reserve, list_reservations, unreserve_byid, get_container_status, wait_until_container_removed, show_reservation_byname, restart_sdr, make_sdr_ni, make_sdr_mango, sdr_tools, get_available_publicips, get_segment_ids, get_radio_interfaces, get_worker_interfaces"
   ]
  },
  {
   "cell_type": "markdown",
   "metadata": {
    "id": "Rd4EsDjdqRFU"
   },
   "source": [
    "# Reserve resources\n",
    "\n",
    "In the next cells, we reserve 1 SDR, 1 worker, and 1 Advantech 5G router."
   ]
  },
  {
   "cell_type": "code",
   "execution_count": null,
   "metadata": {
    "colab": {
     "base_uri": "https://localhost:8080/"
    },
    "id": "2F6_71uUkay6",
    "outputId": "18892713-f28a-45c8-8131-abff54363c1a"
   },
   "outputs": [],
   "source": [
    "# Check the SDR's health and the status of its ports, both ports are supposed to be up, otherwise contact support\n",
    "sdr_status = get_radio_interfaces(sdr_name)\n",
    "logger.info(f\"{json.dumps(sdr_status, indent=4)}\")\n",
    "for port in sdr_status.keys():\n",
    "  if sdr_status[port]['linkstate'] == 'Down':\n",
    "    logger.warning(f\"port {port} on {sdr_name} is down.\")\n",
    "  if sdr_status[port]['linkstate'] == 'Up':\n",
    "    logger.success(f\"port {port} on {sdr_name} is up.\")"
   ]
  },
  {
   "cell_type": "code",
   "execution_count": null,
   "metadata": {
    "colab": {
     "base_uri": "https://localhost:8080/"
    },
    "id": "1pauMnGZ8KSP",
    "outputId": "42dc727f-1261-4c8b-f78d-d0f5bd0f4532"
   },
   "outputs": [],
   "source": [
    "# Reserve the SDR\n",
    "segment_ids = get_segment_ids(sdr_name)\n",
    "\n",
    "# reserve RJ45 port\n",
    "rj45_lease = show_reservation_byname(sdr_name + \"-rj45-lease\")\n",
    "if not rj45_lease:\n",
    "    rj45_lease = reserve(\n",
    "        { \"type\":\"network\", \"name\": sdr_name+\"-rj45\", \"net_name\": sdr_name+\"-rj45\", \"segment_id\": segment_ids['rj45'], \"duration\": { \"days\":7, \"hours\":0 } }\n",
    "    )\n",
    "\n",
    "# reserve SFP port\n",
    "sfp_lease = show_reservation_byname(sdr_name + \"-sfp-lease\")\n",
    "if not sfp_lease:\n",
    "    sfp_lease = reserve(\n",
    "        { \"type\":\"network\", \"name\": sdr_name+\"-sfp\", \"net_name\": sdr_name+\"-sfp\", \"segment_id\": segment_ids['sfp'], \"duration\": { \"days\":7, \"hours\":0 } }\n",
    "    )\n",
    "\n",
    "# reserve worker\n",
    "worker_lease = show_reservation_byname(worker_name+\"-lease\")\n",
    "if not worker_lease:\n",
    "    worker_lease = reserve(\n",
    "        { \"type\":\"device\", \"name\":worker_name, \"duration\": { \"days\":7, \"hours\":0 } }\n",
    "    )\n",
    "worker_reservation_id = worker_lease[\"reservations\"][0][\"id\"]\n",
    "\n",
    "# reserve advantech router\n",
    "segment_ids = get_segment_ids(adv_name)\n",
    "adv_lease = show_reservation_byname(adv_name + \"-lease\")\n",
    "if not adv_lease:\n",
    "    adv_lease = reserve(\n",
    "        { \"type\":\"network\", \"name\": adv_name, \"net_name\": adv_name, \"segment_id\": segment_ids['rj45'], \"duration\": { \"days\":7, \"hours\":0 } }\n",
    "    )\n",
    "\n",
    "leaseslist = list_reservations(brief=True)\n",
    "print(json.dumps(leaseslist,indent=4))"
   ]
  },
  {
   "cell_type": "markdown",
   "metadata": {
    "id": "Md8kUWS3Ymhb"
   },
   "source": [
    "# Run containers"
   ]
  },
  {
   "cell_type": "markdown",
   "metadata": {
    "id": "il_hsBTLlOTF"
   },
   "source": [
    "Run a container for the advantech router"
   ]
  },
  {
   "cell_type": "code",
   "execution_count": null,
   "metadata": {},
   "outputs": [],
   "source": [
    "# check public IPs and select one\n",
    "available_pub_ips = get_available_publicips()\n",
    "if len(available_pub_ips) == 0:\n",
    "  raise Exception(\"There is no available public IPs to reserve.\")\n",
    "pub_ip = available_pub_ips[0]\n",
    "logger.info(f\"Available public ips: {available_pub_ips}.\")\n",
    "logger.info(f\"We choose {pub_ip} for this container.\")\n",
    "\n",
    "# check available interfaces of the worker\n",
    "interfaces = list(get_worker_interfaces(worker_name).values())[0]\n",
    "available_ifs = []\n",
    "for interface in interfaces.keys():\n",
    "  if len(interfaces[interface]['connections']) == 0:\n",
    "#     if interfaces[interface]['speed'] == '1000':\n",
    "    available_ifs.append(interface)\n",
    "# logger.info(f\"Available 1Gbps interfaces on {worker_name}: {available_ifs}\")\n",
    "logger.info(f\"Available interfaces on {worker_name}: {available_ifs}\")\n",
    "if len(available_ifs) < 2:\n",
    "  logger.info(f\"{json.dumps(interfaces, indent=4)}\")\n",
    "#   raise Exception(f\"Did not find enough 1Gbps interfaces on {worker_name}\")\n",
    "  raise Exception(f\"Did not find enough interfaces on {worker_name}\")\n",
    "\n",
    "# run the container\n",
    "publicnet = chi.network.get_network(\"serverpublic\")\n",
    "advnet = chi.network.get_network(adv_name+\"-net\")\n",
    "container_name = adv_name + \"-end-node\"\n",
    "chi.container.create_container(\n",
    "    name = container_name,\n",
    "    image = \"samiemostafavi/sshd-dind\",\n",
    "    reservation_id = worker_reservation_id,\n",
    "    environment = {\n",
    "        \"DNS_IP\":\"8.8.8.8\",\n",
    "        \"GATEWAY_IP\":\"130.237.11.97\",\n",
    "        \"PASS\":\"expeca\"\n",
    "    },    nets = [\n",
    "        { \"network\" : publicnet['id'] },\n",
    "        { \"network\" : advnet['id'] },\n",
    "    ],\n",
    "    labels = {\n",
    "        \"networks.1.interface\":available_ifs[1],\n",
    "        \"networks.1.ip\":pub_ip+\"/27\",\n",
    "        \"capabilities.privileged\":\"true\",\n",
    "        \"networks.2.interface\":available_ifs[0],\n",
    "        \"networks.2.ip\":\"10.42.3.2/24\",\n",
    "        \"networks.2.routes\":\"192.168.70.128/26-10.42.3.1\",\n",
    "\n",
    "    },\n",
    ")\n",
    "chi.container.wait_for_active(container_name)\n",
    "logger.success(f\"created {container_name} container.\")\n",
    "\n",
    "# install iperf3 + ip utilities in the container\n",
    "command = \"apt-get update && apt-get install -y iproute2 iperf3 iputils-ping tshark tcpdump\"\n",
    "result = chi.container.execute(\n",
    "    container_ref=container_name,\n",
    "    command=\"curl -s -X POST -H \\\"Content-Type: application/json\\\" -d '{\\\"cmd\\\": \\\"\" + command + \"\\\"}' http://localhost:50505/\",\n",
    ")\n",
    "logger.info(f\"{result}\")"
   ]
  },
  {
   "cell_type": "markdown",
   "metadata": {},
   "source": [
    "Run a container for the SDR, with a public IP"
   ]
  },
  {
   "cell_type": "code",
   "execution_count": null,
   "metadata": {
    "colab": {
     "base_uri": "https://localhost:8080/"
    },
    "id": "c9ZnK9DdhnEj",
    "outputId": "fb51ec31-8d1a-4435-9d90-8a1969189e2f"
   },
   "outputs": [],
   "source": [
    "# check public IPs and select one\n",
    "available_pub_ips = get_available_publicips()\n",
    "if len(available_pub_ips) == 0:\n",
    "  raise Exception(\"There is no available public IPs to reserve.\")\n",
    "pub_ip = available_pub_ips[0]\n",
    "logger.info(f\"Available public ips: {available_pub_ips}.\")\n",
    "logger.info(f\"We choose {pub_ip} for this container.\")\n",
    "\n",
    "# check available interfaces on the worker\n",
    "interfaces = list(get_worker_interfaces(worker_name).values())[0]\n",
    "available_ifs = []\n",
    "for interface in interfaces.keys():\n",
    "  if len(interfaces[interface]['connections']) == 0:\n",
    "    available_ifs.append(interface)\n",
    "logger.info(f\"Available interfaces on {worker_name}: {available_ifs}\")\n",
    "# we need one 10Gbps interface for the SDR,\n",
    "# and one port with any speed for the public interface\n",
    "port_10g = None\n",
    "port_any = None\n",
    "for interface in available_ifs:\n",
    "  if (port_10g is None) and (interfaces[interface]['speed'] == '10000'):\n",
    "    port_10g = interface\n",
    "    continue\n",
    "  if port_any is None:\n",
    "    port_any = interface\n",
    "if (port_10g is None) or (port_any is None):\n",
    "  logger.info(f\"{json.dumps(interfaces, indent=4)}\")\n",
    "  raise Exception(f\"Did not find proper interfaces on {worker_name}\")\n",
    "else:\n",
    "  logger.success(f\"we choose {port_10g} for the SDR and {port_any} for the public access\")\n",
    "\n",
    "# run the container\n",
    "sdrsfpnet = chi.network.get_network(sdr_name+\"-sfp-net\")\n",
    "publicnet = chi.network.get_network(\"serverpublic\")\n",
    "container_name = sdr_name + \"-public-host\"\n",
    "chi.container.create_container(\n",
    "    name = container_name,\n",
    "    image = \"samiemostafavi/sshd-dind-oai\",\n",
    "    reservation_id = worker_reservation_id,\n",
    "    environment = {\n",
    "        \"DNS_IP\":\"8.8.8.8\",\n",
    "        \"GATEWAY_IP\":\"130.237.11.97\",\n",
    "        \"PASS\":\"expeca\"\n",
    "    },\n",
    "    mounts = [],\n",
    "    nets = [\n",
    "        { \"network\" : publicnet['id'] },\n",
    "        { \"network\" : sdrsfpnet['id'] },\n",
    "    ],\n",
    "    labels = {\n",
    "        \"networks.1.interface\":port_any,\n",
    "        \"networks.1.ip\":pub_ip+\"/27\",\n",
    "        \"capabilities.privileged\":\"true\",\n",
    "        \"networks.2.interface\":port_10g,\n",
    "        \"networks.2.ip\":\"10.30.10.120/24\",\n",
    "    },\n",
    ")\n",
    "chi.container.wait_for_active(container_name)\n",
    "logger.success(f\"created {container_name} container, reachable at {pub_ip}.\")\n",
    "\n",
    "# install iperf3 + ip utilities in the container\n",
    "command = \"apt-get update && apt-get install -y iproute2 iperf3 iputils-ping tshark tcpdump\"\n",
    "result = chi.container.execute(\n",
    "    container_ref=container_name,\n",
    "    command=\"curl -s -X POST -H \\\"Content-Type: application/json\\\" -d '{\\\"cmd\\\": \\\"\" + command + \"\\\"}' http://localhost:50505/\",\n",
    ")\n",
    "logger.info(f\"{result}\")\n"
   ]
  },
  {
   "cell_type": "markdown",
   "metadata": {},
   "source": [
    "# Connection verification"
   ]
  },
  {
   "cell_type": "markdown",
   "metadata": {},
   "source": [
    "This cell can be run to test SDR connection from the advantech router end node, using iperf3 client. \"iperf3 -s\" server command is first needed on the SDR side.\n",
    "The printout from iperf3 can then be viewed via the log window for the container."
   ]
  },
  {
   "cell_type": "code",
   "execution_count": null,
   "metadata": {},
   "outputs": [],
   "source": [
    "# Use iperf3 client to test the SDR connection\n",
    "container_name = container_name = adv_name + \"-end-node\"\n",
    "command = \"iperf3 -c 192.168.70.129 -u -b 100M --get-server-output\"\n",
    "result = chi.container.execute(\n",
    "    container_ref=container_name,\n",
    "    command=\"curl -s -X POST -H \\\"Content-Type: application/json\\\" -d '{\\\"cmd\\\": \\\"\" + command + \"\\\"}' http://localhost:50505/\",\n",
    ")\n",
    "logger.info(f\"{result}\")\n"
   ]
  }
 ],
 "metadata": {
  "colab": {
   "collapsed_sections": [
    "W9YICZf_mJBy",
    "Rd4EsDjdqRFU",
    "qGLRVmiXHmf4",
    "9y4TchLY9jVx",
    "3CCjzjCT-oIl",
    "p2joHHj_EZtq"
   ],
   "include_colab_link": true,
   "provenance": []
  },
  "kernelspec": {
   "display_name": "Python 3",
   "name": "python3"
  },
  "language_info": {
   "name": "python"
  }
 },
 "nbformat": 4,
 "nbformat_minor": 0
}
