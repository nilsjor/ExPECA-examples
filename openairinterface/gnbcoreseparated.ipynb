{
  "cells": [
    {
      "cell_type": "markdown",
      "metadata": {
        "id": "view-in-github",
        "colab_type": "text"
      },
      "source": [
        "<a href=\"https://colab.research.google.com/github/KTH-EXPECA/examples/blob/main/openairinterface/gnbcoreseparated.ipynb\" target=\"_parent\"><img src=\"https://colab.research.google.com/assets/colab-badge.svg\" alt=\"Open In Colab\"/></a>"
      ]
    },
    {
      "cell_type": "markdown",
      "metadata": {
        "id": "W9YICZf_mJBy"
      },
      "source": [
        "# Authentication and Dependencies\n",
        "\n",
        "Login to Chameleon and download openrc.sh file from [here](https://testbed.expeca.proj.kth.se/project/api_access/openrc/). Upload it here next to this notebook and continue.\n",
        "\n",
        "In the next cell, we setup the authentication method to be able to use Openstack clients."
      ]
    },
    {
      "cell_type": "code",
      "execution_count": 12,
      "metadata": {
        "colab": {
          "base_uri": "https://localhost:8080/"
        },
        "id": "KLT-J26lJ5ae",
        "outputId": "5e95314b-0481-4e2b-f1d7-0e30bac41dce"
      },
      "outputs": [
        {
          "name": "stdout",
          "output_type": "stream",
          "text": [
            "enter your expeca password:··········\n"
          ]
        }
      ],
      "source": [
        "import os, re\n",
        "from getpass import getpass\n",
        "\n",
        "with open('/content/demo_project-openrc.sh', 'r') as f:\n",
        "    script_content = f.read()\n",
        "    pattern = r'export\\s+(\\w+)\\s*=\\s*(\"[^\"]+\"|[^\"\\n]+)'\n",
        "    matches = re.findall(pattern, script_content)\n",
        "\n",
        "    for name, value in matches:\n",
        "        os.environ[name] = value.strip('\"')\n",
        "\n",
        "password = getpass('enter your expeca password:')\n",
        "os.environ['OS_PASSWORD'] = password"
      ]
    },
    {
      "cell_type": "markdown",
      "metadata": {
        "id": "5bXlipy4m1bs"
      },
      "source": [
        "Install required packages and dependencies. Ignore the warnings."
      ]
    },
    {
      "cell_type": "code",
      "execution_count": 13,
      "metadata": {
        "colab": {
          "base_uri": "https://localhost:8080/"
        },
        "id": "3uZ_rN5iFlhp",
        "outputId": "fae78226-561b-4a94-cc61-0dd71df76a91"
      },
      "outputs": [
        {
          "output_type": "stream",
          "name": "stdout",
          "text": [
            "\u001b[33mWARNING: Skipping moviepy as it is not installed.\u001b[0m\u001b[33m\n",
            "\u001b[0m  Preparing metadata (setup.py) ... \u001b[?25l\u001b[?25hdone\n",
            "  Preparing metadata (setup.py) ... \u001b[?25l\u001b[?25hdone\n"
          ]
        }
      ],
      "source": [
        "!pip uninstall -q -y moviepy\n",
        "!pip install -q jedi\n",
        "!pip install -q git+https://github.com/KTH-EXPECA/python-chi"
      ]
    },
    {
      "cell_type": "markdown",
      "metadata": {
        "id": "VkDR3RsFpKSv"
      },
      "source": [
        "Import packages"
      ]
    },
    {
      "cell_type": "code",
      "execution_count": 14,
      "metadata": {
        "id": "gWqW34Pc7YJp"
      },
      "outputs": [],
      "source": [
        "import json, time\n",
        "from loguru import logger\n",
        "import chi.network, chi.container, chi.network\n",
        "from chi.expeca import reserve, list_reservations, unreserve_byid, get_container_status, wait_until_container_removed, show_reservation_byname, restart_sdr, make_sdr_ni, make_sdr_mango, sdr_tools, get_available_publicips, get_segment_ids, get_radio_interfaces, get_worker_interfaces"
      ]
    },
    {
      "cell_type": "markdown",
      "metadata": {
        "id": "Rd4EsDjdqRFU"
      },
      "source": [
        "# Reserve resources\n",
        "\n",
        "In the next cell, we reserve 1 SDR and 1 worker."
      ]
    },
    {
      "cell_type": "code",
      "source": [
        "# Check the SDR's health and the status of its ports, both ports are supposed to be up, otherwise contact support\n",
        "sdr_name = \"sdr-10\"\n",
        "sdr_status = get_radio_interfaces(sdr_name)\n",
        "logger.info(f\"{json.dumps(sdr_status, indent=4)}\")\n",
        "for port in sdr_status.keys():\n",
        "  if sdr_status[port]['linkstate'] == 'Down':\n",
        "    logger.warning(f\"port {port} on {sdr_name} is down.\")\n",
        "  if sdr_status[port]['linkstate'] == 'Up':\n",
        "    logger.success(f\"port {port} on {sdr_name} is up.\")"
      ],
      "metadata": {
        "colab": {
          "base_uri": "https://localhost:8080/"
        },
        "id": "2F6_71uUkay6",
        "outputId": "064123c5-9ea0-4418-b353-056e64a1729e"
      },
      "execution_count": 4,
      "outputs": [
        {
          "output_type": "stream",
          "name": "stderr",
          "text": [
            "\u001b[32m2024-07-16 15:20:09.187\u001b[0m | \u001b[1mINFO    \u001b[0m | \u001b[36m__main__\u001b[0m:\u001b[36m<cell line: 4>\u001b[0m:\u001b[36m4\u001b[0m - \u001b[1m{\n",
            "    \"sdr_10_mango\": {\n",
            "        \"backpressure\": \"Disabled\",\n",
            "        \"duplex\": \"Full\",\n",
            "        \"flowctrl\": \"Off\",\n",
            "        \"linkstate\": \"Up\",\n",
            "        \"mdixmode\": \"On\",\n",
            "        \"neg\": \"Enabled\",\n",
            "        \"port\": \"te1/0/2\",\n",
            "        \"segment_id\": 119,\n",
            "        \"speed\": \"1000\",\n",
            "        \"stitches\": {\n",
            "            \"119\": []\n",
            "        },\n",
            "        \"type\": \"10G-Copper\"\n",
            "    },\n",
            "    \"sdr_10_ni\": {\n",
            "        \"backpressure\": \"Disabled\",\n",
            "        \"duplex\": \"Full\",\n",
            "        \"flowctrl\": \"Off\",\n",
            "        \"linkstate\": \"Up\",\n",
            "        \"mdixmode\": \"Off\",\n",
            "        \"neg\": \"Disabled\",\n",
            "        \"port\": \"te2/0/16\",\n",
            "        \"segment_id\": 120,\n",
            "        \"speed\": \"10000\",\n",
            "        \"stitches\": {\n",
            "            \"120\": []\n",
            "        },\n",
            "        \"type\": \"10G-Fiber\"\n",
            "    }\n",
            "}\u001b[0m\n",
            "\u001b[32m2024-07-16 15:20:09.189\u001b[0m | \u001b[32m\u001b[1mSUCCESS \u001b[0m | \u001b[36m__main__\u001b[0m:\u001b[36m<cell line: 5>\u001b[0m:\u001b[36m9\u001b[0m - \u001b[32m\u001b[1mport sdr_10_mango on sdr-10 is up.\u001b[0m\n",
            "\u001b[32m2024-07-16 15:20:09.192\u001b[0m | \u001b[32m\u001b[1mSUCCESS \u001b[0m | \u001b[36m__main__\u001b[0m:\u001b[36m<cell line: 5>\u001b[0m:\u001b[36m9\u001b[0m - \u001b[32m\u001b[1mport sdr_10_ni on sdr-10 is up.\u001b[0m\n"
          ]
        }
      ]
    },
    {
      "cell_type": "code",
      "execution_count": 15,
      "metadata": {
        "colab": {
          "base_uri": "https://localhost:8080/"
        },
        "id": "1pauMnGZ8KSP",
        "outputId": "10978fac-3989-4360-a9b7-5f2b15830fcf"
      },
      "outputs": [
        {
          "output_type": "stream",
          "name": "stderr",
          "text": [
            "\u001b[32m2024-07-16 18:08:43.885\u001b[0m | \u001b[1mINFO    \u001b[0m | \u001b[36mchi.expeca\u001b[0m:\u001b[36mreserve\u001b[0m:\u001b[36m243\u001b[0m - \u001b[1mreserving worker-07\u001b[0m\n",
            "\u001b[32m2024-07-16 18:08:46.146\u001b[0m | \u001b[1mINFO    \u001b[0m | \u001b[36mchi.expeca\u001b[0m:\u001b[36mwait_until_lease_status\u001b[0m:\u001b[36m138\u001b[0m - \u001b[1mwaiting 120 seconds for worker-07-lease with id 7cbadf29-69a2-400a-bf1f-782e6dc702b3 to become \"ACTIVE\"\u001b[0m\n",
            "\u001b[32m2024-07-16 18:08:51.300\u001b[0m | \u001b[1mINFO    \u001b[0m | \u001b[36mchi.expeca\u001b[0m:\u001b[36mwait_until_lease_status\u001b[0m:\u001b[36m145\u001b[0m - \u001b[1mlease worker-07-lease with id 7cbadf29-69a2-400a-bf1f-782e6dc702b3 is PENDING.\u001b[0m\n",
            "\u001b[32m2024-07-16 18:08:56.474\u001b[0m | \u001b[1mINFO    \u001b[0m | \u001b[36mchi.expeca\u001b[0m:\u001b[36mwait_until_lease_status\u001b[0m:\u001b[36m145\u001b[0m - \u001b[1mlease worker-07-lease with id 7cbadf29-69a2-400a-bf1f-782e6dc702b3 is PENDING.\u001b[0m\n",
            "\u001b[32m2024-07-16 18:09:01.625\u001b[0m | \u001b[1mINFO    \u001b[0m | \u001b[36mchi.expeca\u001b[0m:\u001b[36mwait_until_lease_status\u001b[0m:\u001b[36m145\u001b[0m - \u001b[1mlease worker-07-lease with id 7cbadf29-69a2-400a-bf1f-782e6dc702b3 is PENDING.\u001b[0m\n",
            "\u001b[32m2024-07-16 18:09:06.780\u001b[0m | \u001b[1mINFO    \u001b[0m | \u001b[36mchi.expeca\u001b[0m:\u001b[36mwait_until_lease_status\u001b[0m:\u001b[36m145\u001b[0m - \u001b[1mlease worker-07-lease with id 7cbadf29-69a2-400a-bf1f-782e6dc702b3 is PENDING.\u001b[0m\n",
            "\u001b[32m2024-07-16 18:09:11.938\u001b[0m | \u001b[1mINFO    \u001b[0m | \u001b[36mchi.expeca\u001b[0m:\u001b[36mwait_until_lease_status\u001b[0m:\u001b[36m145\u001b[0m - \u001b[1mlease worker-07-lease with id 7cbadf29-69a2-400a-bf1f-782e6dc702b3 is ACTIVE.\u001b[0m\n",
            "\u001b[32m2024-07-16 18:09:11.939\u001b[0m | \u001b[32m\u001b[1mSUCCESS \u001b[0m | \u001b[36mchi.expeca\u001b[0m:\u001b[36mtry_to_create_lease\u001b[0m:\u001b[36m285\u001b[0m - \u001b[32m\u001b[1mdone\u001b[0m\n"
          ]
        },
        {
          "output_type": "stream",
          "name": "stdout",
          "text": [
            "[\n",
            "    {\n",
            "        \"name\": \"sdr-10-rj45-lease\",\n",
            "        \"id\": \"18b7fbc7-1482-4e2f-9f13-632ee4500e1e\",\n",
            "        \"reservation_id\": \"cc53d8fb-9b3e-4e65-9778-8b53dd6ab6a1\",\n",
            "        \"status\": \"ACTIVE\",\n",
            "        \"end_date\": \"2024-07-22T19:07:00.000000\"\n",
            "    },\n",
            "    {\n",
            "        \"name\": \"adv-06-lease\",\n",
            "        \"id\": \"450200ac-6df7-4d2b-a217-d4aa006d5d97\",\n",
            "        \"reservation_id\": \"233590da-2e3c-4be0-86be-204f891ba820\",\n",
            "        \"status\": \"ACTIVE\",\n",
            "        \"end_date\": \"2024-07-23T16:08:00.000000\"\n",
            "    },\n",
            "    {\n",
            "        \"name\": \"worker-07-lease\",\n",
            "        \"id\": \"7cbadf29-69a2-400a-bf1f-782e6dc702b3\",\n",
            "        \"reservation_id\": \"6a3ae604-c8f3-4243-af4c-db1999dccb19\",\n",
            "        \"status\": \"ACTIVE\",\n",
            "        \"end_date\": \"2024-07-23T18:08:00.000000\"\n",
            "    },\n",
            "    {\n",
            "        \"name\": \"sdr-10-sfp-lease\",\n",
            "        \"id\": \"ad69a46f-013b-4f69-a486-a2ad3dbe06aa\",\n",
            "        \"reservation_id\": \"ed41686e-061d-4fc3-b754-987d3452ced3\",\n",
            "        \"status\": \"ACTIVE\",\n",
            "        \"end_date\": \"2024-07-22T19:08:00.000000\"\n",
            "    },\n",
            "    {\n",
            "        \"name\": \"worker-01-lease\",\n",
            "        \"id\": \"ede1d246-2245-455a-a511-6623f79b204a\",\n",
            "        \"reservation_id\": \"f17f42f8-2928-4df7-b922-d0b9e3ac0933\",\n",
            "        \"status\": \"ACTIVE\",\n",
            "        \"end_date\": \"2024-07-22T19:09:00.000000\"\n",
            "    }\n",
            "]\n"
          ]
        }
      ],
      "source": [
        "# Reserve the SDR\n",
        "segment_ids = get_segment_ids(sdr_name)\n",
        "\n",
        "# reserve RJ45 port\n",
        "rj45_lease = show_reservation_byname(sdr_name + \"-rj45-lease\")\n",
        "if not rj45_lease:\n",
        "    rj45_lease = reserve(\n",
        "        { \"type\":\"network\", \"name\": sdr_name+\"-rj45\", \"net_name\": sdr_name+\"-rj45\", \"segment_id\": segment_ids['rj45'], \"duration\": { \"days\":7, \"hours\":0 } }\n",
        "    )\n",
        "\n",
        "# reserve SFP port\n",
        "sfp_lease = show_reservation_byname(sdr_name + \"-sfp-lease\")\n",
        "if not sfp_lease:\n",
        "    sfp_lease = reserve(\n",
        "        { \"type\":\"network\", \"name\": sdr_name+\"-sfp\", \"net_name\": sdr_name+\"-sfp\", \"segment_id\": segment_ids['sfp'], \"duration\": { \"days\":7, \"hours\":0 } }\n",
        "    )\n",
        "\n",
        "worker_name = 'worker-07'\n",
        "# reserve worker\n",
        "worker_lease = show_reservation_byname(worker_name+\"-lease\")\n",
        "if not worker_lease:\n",
        "    worker_lease = reserve(\n",
        "        { \"type\":\"device\", \"name\":worker_name, \"duration\": { \"days\":7, \"hours\":0 } }\n",
        "    )\n",
        "worker_reservation_id = worker_lease[\"reservations\"][0][\"id\"]\n",
        "\n",
        "\n",
        "leaseslist = list_reservations(brief=True)\n",
        "print(json.dumps(leaseslist,indent=4))"
      ]
    },
    {
      "cell_type": "markdown",
      "metadata": {
        "id": "tNYpBeUgpn15"
      },
      "source": [
        "# Configure the SDRs"
      ]
    },
    {
      "cell_type": "markdown",
      "metadata": {
        "id": "qGLRVmiXHmf4"
      },
      "source": [
        "## Change the sdrs' firmwares to Mango or NI"
      ]
    },
    {
      "cell_type": "code",
      "execution_count": null,
      "metadata": {
        "colab": {
          "base_uri": "https://localhost:8080/"
        },
        "id": "QV7oHbSu7g5F",
        "outputId": "37a59c5c-4694-4e45-9590-ad207985b59f"
      },
      "outputs": [
        {
          "name": "stderr",
          "output_type": "stream",
          "text": [
            "\u001b[32m2023-09-01 08:04:04.639\u001b[0m | \u001b[32m\u001b[1mSUCCESS \u001b[0m | \u001b[36mchi.expeca\u001b[0m:\u001b[36mmake_sdr_mango\u001b[0m:\u001b[36m299\u001b[0m - \u001b[32m\u001b[1mcreated make-sdr-mango container.\u001b[0m\n",
            "\u001b[32m2023-09-01 08:04:04.641\u001b[0m | \u001b[1mINFO    \u001b[0m | \u001b[36mchi.expeca\u001b[0m:\u001b[36mmake_sdr_mango\u001b[0m:\u001b[36m301\u001b[0m - \u001b[1mwaiting 2 minutes for the sdr-09 to change design.\u001b[0m\n",
            "\u001b[32m2023-09-01 08:05:06.410\u001b[0m | \u001b[32m\u001b[1mSUCCESS \u001b[0m | \u001b[36mchi.expeca\u001b[0m:\u001b[36mmake_sdr_mango\u001b[0m:\u001b[36m315\u001b[0m - \u001b[32m\u001b[1mSERVICE=change_design env variable is set\n",
            "running change_design...\n",
            "You have chosen sdr-09 and design mango\n",
            "sdr-09 is reachable: {'mango': {'ip': '10.30.1.17', 'port': '22', 'tenant-port': 'te1/0/26', 'up': False}, 'ni': {'ip': '10.30.1.18', 'port': '22', 'tenant-port': 'te4/0/13', 'up': True}}\n",
            "SSHing to 10.30.1.18, username:root, password: \n",
            "running command on 10.30.1.18: \n",
            "cp /uboot/mango_bootbin/BOOT.bin /uboot/ ; /sbin/reboot > /dev/null 2>&1 &\n",
            "command stdout: \n",
            "\n",
            "command sdterr: \n",
            "\n",
            "Waiting 200 seconds for the new desgin to load\n",
            "10 seconds to the next poll...\n",
            "10 seconds to the next poll...\n",
            "10 seconds to the next poll...\n",
            "10 seconds to the next poll...\n",
            "10 seconds to the next poll...\n",
            "sdr-09 design has been changed to mango\n",
            "\u001b[0m\n",
            "\u001b[32m2023-09-01 08:05:06.772\u001b[0m | \u001b[1mINFO    \u001b[0m | \u001b[36mchi.expeca\u001b[0m:\u001b[36mwait_until_container_removed\u001b[0m:\u001b[36m30\u001b[0m - \u001b[1mwaiting 30 seconds for make-sdr-mango container to be removed\u001b[0m\n",
            "\u001b[32m2023-09-01 08:05:11.927\u001b[0m | \u001b[1mINFO    \u001b[0m | \u001b[36mchi.expeca\u001b[0m:\u001b[36mwait_until_container_removed\u001b[0m:\u001b[36m37\u001b[0m - \u001b[1mcontainer make-sdr-mango is in Deleting state.\u001b[0m\n",
            "\u001b[32m2023-09-01 08:05:17.105\u001b[0m | \u001b[1mINFO    \u001b[0m | \u001b[36mchi.expeca\u001b[0m:\u001b[36mwait_until_container_removed\u001b[0m:\u001b[36m37\u001b[0m - \u001b[1mcontainer make-sdr-mango is in None state.\u001b[0m\n"
          ]
        }
      ],
      "source": [
        "# change sdr design to ni using the reserved worker\n",
        "sdrnet = chi.network.get_network(sdr_name+\"-rj45-net\")\n",
        "make_sdr_ni(sdr_name,sdrnet['id'],worker_reservation_id,\"ens1\")\n",
        "\n",
        "# wait 10 seconds\n",
        "#time.sleep(10)\n",
        "\n",
        "# change sdr design to mango using the reserved worker\n",
        "#sdrnet = chi.network.get_network(sdr_name+\"-rj45-net\")\n",
        "#make_sdr_mango(sdr_name,sdrnet['id'],worker_reservation_id,\"ens1\")"
      ]
    },
    {
      "cell_type": "markdown",
      "metadata": {
        "id": "qlEedPyQpdZp"
      },
      "source": [
        "## Reboot the SDRs"
      ]
    },
    {
      "cell_type": "code",
      "execution_count": null,
      "metadata": {
        "colab": {
          "base_uri": "https://localhost:8080/"
        },
        "id": "KrijEz7oNkfv",
        "outputId": "a012436b-1be0-495a-e1a9-28419f2c3cb7"
      },
      "outputs": [
        {
          "name": "stderr",
          "output_type": "stream",
          "text": [
            "\u001b[32m2023-09-01 10:10:24.442\u001b[0m | \u001b[32m\u001b[1mSUCCESS \u001b[0m | \u001b[36mchi.expeca\u001b[0m:\u001b[36mrestart_sdr\u001b[0m:\u001b[36m255\u001b[0m - \u001b[32m\u001b[1mcreated reboot-sdr container.\u001b[0m\n",
            "\u001b[32m2023-09-01 10:10:24.445\u001b[0m | \u001b[1mINFO    \u001b[0m | \u001b[36mchi.expeca\u001b[0m:\u001b[36mrestart_sdr\u001b[0m:\u001b[36m257\u001b[0m - \u001b[1mwaiting 2 minutes for the sdr-09 to reboot.\u001b[0m\n",
            "\u001b[32m2023-09-01 10:11:15.129\u001b[0m | \u001b[32m\u001b[1mSUCCESS \u001b[0m | \u001b[36mchi.expeca\u001b[0m:\u001b[36mrestart_sdr\u001b[0m:\u001b[36m267\u001b[0m - \u001b[32m\u001b[1mSERVICE=reboot env variable is set\n",
            "running reboot...\n",
            "You have chosen sdr-09\n",
            "sdr-09 is reachable: {'mango': {'ip': '10.30.1.17', 'port': '22', 'tenant-port': 'te1/0/26', 'up': True}, 'ni': {'ip': '10.30.1.18', 'port': '22', 'tenant-port': 'te4/0/13'}}\n",
            "SSHing to 10.30.1.17, username:root, password: root\n",
            "running command on 10.30.1.17: \n",
            "/sbin/reboot > /dev/null 2>&1 &\n",
            "Waiting 200 seconds for the sdr to load\n",
            "10 seconds to the next poll...\n",
            "10 seconds to the next poll...\n",
            "10 seconds to the next poll...\n",
            "10 seconds to the next poll...\n",
            "sdr-09 mango is up again.\n",
            "\u001b[0m\n",
            "\u001b[32m2023-09-01 10:11:15.612\u001b[0m | \u001b[1mINFO    \u001b[0m | \u001b[36mchi.expeca\u001b[0m:\u001b[36mwait_until_container_removed\u001b[0m:\u001b[36m30\u001b[0m - \u001b[1mwaiting 30 seconds for reboot-sdr container to be removed\u001b[0m\n",
            "\u001b[32m2023-09-01 10:11:20.836\u001b[0m | \u001b[1mINFO    \u001b[0m | \u001b[36mchi.expeca\u001b[0m:\u001b[36mwait_until_container_removed\u001b[0m:\u001b[36m37\u001b[0m - \u001b[1mcontainer reboot-sdr is in Deleting state.\u001b[0m\n",
            "\u001b[32m2023-09-01 10:11:26.064\u001b[0m | \u001b[1mINFO    \u001b[0m | \u001b[36mchi.expeca\u001b[0m:\u001b[36mwait_until_container_removed\u001b[0m:\u001b[36m37\u001b[0m - \u001b[1mcontainer reboot-sdr is in None state.\u001b[0m\n"
          ]
        }
      ],
      "source": [
        "# reset sdr using the reserved worker\n",
        "sdrnet = chi.network.get_network(sdr_name+\"-rj45-net\")\n",
        "restart_sdr(sdr_name,sdrnet['id'],worker_reservation_id,\"ens1\")\n"
      ]
    },
    {
      "cell_type": "markdown",
      "source": [
        "# Run A Public Container to Test the SDR"
      ],
      "metadata": {
        "id": "Md8kUWS3Ymhb"
      }
    },
    {
      "cell_type": "markdown",
      "source": [
        "Run a public container to test the SDR via its SFP port"
      ],
      "metadata": {
        "id": "il_hsBTLlOTF"
      }
    },
    {
      "cell_type": "code",
      "source": [
        "# advantech router reservation\n",
        "adv_name = \"adv-06\"\n",
        "segment_ids = get_segment_ids(adv_name)\n",
        "adv_lease = show_reservation_byname(name + \"-lease\")\n",
        "if not adv_lease:\n",
        "    adv_lease = reserve(\n",
        "        { \"type\":\"network\", \"name\": adv_name, \"net_name\": adv_name, \"segment_id\": segment_ids['rj45'], \"duration\": { \"days\":7, \"hours\":0 } }\n",
        "    )"
      ],
      "metadata": {
        "id": "8kLy5K_VTPDU",
        "outputId": "95f03f57-2189-472b-8519-4bcf0632e1b2",
        "colab": {
          "base_uri": "https://localhost:8080/"
        }
      },
      "execution_count": 11,
      "outputs": [
        {
          "output_type": "stream",
          "name": "stderr",
          "text": [
            "\u001b[32m2024-07-16 16:08:42.721\u001b[0m | \u001b[1mINFO    \u001b[0m | \u001b[36mchi.expeca\u001b[0m:\u001b[36mreserve\u001b[0m:\u001b[36m243\u001b[0m - \u001b[1mreserving adv-06\u001b[0m\n",
            "\u001b[32m2024-07-16 16:08:45.291\u001b[0m | \u001b[1mINFO    \u001b[0m | \u001b[36mchi.expeca\u001b[0m:\u001b[36mwait_until_lease_status\u001b[0m:\u001b[36m138\u001b[0m - \u001b[1mwaiting 120 seconds for adv-06-lease with id 450200ac-6df7-4d2b-a217-d4aa006d5d97 to become \"ACTIVE\"\u001b[0m\n",
            "\u001b[32m2024-07-16 16:08:50.448\u001b[0m | \u001b[1mINFO    \u001b[0m | \u001b[36mchi.expeca\u001b[0m:\u001b[36mwait_until_lease_status\u001b[0m:\u001b[36m145\u001b[0m - \u001b[1mlease adv-06-lease with id 450200ac-6df7-4d2b-a217-d4aa006d5d97 is PENDING.\u001b[0m\n",
            "\u001b[32m2024-07-16 16:08:55.602\u001b[0m | \u001b[1mINFO    \u001b[0m | \u001b[36mchi.expeca\u001b[0m:\u001b[36mwait_until_lease_status\u001b[0m:\u001b[36m145\u001b[0m - \u001b[1mlease adv-06-lease with id 450200ac-6df7-4d2b-a217-d4aa006d5d97 is PENDING.\u001b[0m\n",
            "\u001b[32m2024-07-16 16:09:00.756\u001b[0m | \u001b[1mINFO    \u001b[0m | \u001b[36mchi.expeca\u001b[0m:\u001b[36mwait_until_lease_status\u001b[0m:\u001b[36m145\u001b[0m - \u001b[1mlease adv-06-lease with id 450200ac-6df7-4d2b-a217-d4aa006d5d97 is PENDING.\u001b[0m\n",
            "\u001b[32m2024-07-16 16:09:05.938\u001b[0m | \u001b[1mINFO    \u001b[0m | \u001b[36mchi.expeca\u001b[0m:\u001b[36mwait_until_lease_status\u001b[0m:\u001b[36m145\u001b[0m - \u001b[1mlease adv-06-lease with id 450200ac-6df7-4d2b-a217-d4aa006d5d97 is STARTING.\u001b[0m\n",
            "\u001b[32m2024-07-16 16:09:11.098\u001b[0m | \u001b[1mINFO    \u001b[0m | \u001b[36mchi.expeca\u001b[0m:\u001b[36mwait_until_lease_status\u001b[0m:\u001b[36m145\u001b[0m - \u001b[1mlease adv-06-lease with id 450200ac-6df7-4d2b-a217-d4aa006d5d97 is STARTING.\u001b[0m\n",
            "\u001b[32m2024-07-16 16:09:16.243\u001b[0m | \u001b[1mINFO    \u001b[0m | \u001b[36mchi.expeca\u001b[0m:\u001b[36mwait_until_lease_status\u001b[0m:\u001b[36m145\u001b[0m - \u001b[1mlease adv-06-lease with id 450200ac-6df7-4d2b-a217-d4aa006d5d97 is STARTING.\u001b[0m\n",
            "\u001b[32m2024-07-16 16:09:21.400\u001b[0m | \u001b[1mINFO    \u001b[0m | \u001b[36mchi.expeca\u001b[0m:\u001b[36mwait_until_lease_status\u001b[0m:\u001b[36m145\u001b[0m - \u001b[1mlease adv-06-lease with id 450200ac-6df7-4d2b-a217-d4aa006d5d97 is ACTIVE.\u001b[0m\n",
            "\u001b[32m2024-07-16 16:09:21.402\u001b[0m | \u001b[32m\u001b[1mSUCCESS \u001b[0m | \u001b[36mchi.expeca\u001b[0m:\u001b[36mtry_to_create_lease\u001b[0m:\u001b[36m285\u001b[0m - \u001b[32m\u001b[1mdone\u001b[0m\n"
          ]
        }
      ]
    },
    {
      "cell_type": "code",
      "source": [
        "# Create core network\n",
        "corenet = chi.network.create_network(\"oai-core-net\")\n",
        "chi.network.create_subnet(\"oai-core-subnet\",corenet[\"id\"],\"192.168.70.128/26\",gateway_ip=\"192.168.70.190\",enable_dhcp=False)\n",
        "logger.success(\"oai-core-net is created.\")"
      ],
      "metadata": {
        "id": "QUhF5rBu7gA1",
        "outputId": "7da48eaa-ecb1-45cf-a9d8-a7723717f275",
        "colab": {
          "base_uri": "https://localhost:8080/"
        }
      },
      "execution_count": 18,
      "outputs": [
        {
          "output_type": "stream",
          "name": "stderr",
          "text": [
            "\u001b[32m2024-07-16 19:09:40.115\u001b[0m | \u001b[32m\u001b[1mSUCCESS \u001b[0m | \u001b[36m__main__\u001b[0m:\u001b[36m<cell line: 4>\u001b[0m:\u001b[36m4\u001b[0m - \u001b[32m\u001b[1moai-core-net is created.\u001b[0m\n"
          ]
        }
      ]
    },
    {
      "cell_type": "code",
      "source": [
        "# Assign workers\n",
        "core_worker_name = 'worker-07'\n",
        "gnb_worker_name = 'worker-01'\n",
        "\n",
        "core_worker_reservation_id = None\n",
        "gnb_worker_reservation_id = None\n",
        "leaseslist = list_reservations(brief=True)\n",
        "for lease in leaseslist:\n",
        "  if core_worker_name in lease['name']:\n",
        "    core_worker_reservation_id = lease['reservation_id']\n",
        "    logger.success(f\"core {core_worker_name} reservation found\")\n",
        "  if gnb_worker_name in lease['name']:\n",
        "    gnb_worker_reservation_id = lease['reservation_id']\n",
        "    logger.success(f\"gnb {gnb_worker_name} reservation found\")"
      ],
      "metadata": {
        "id": "SJ_SJwBa76Pc",
        "outputId": "0378d448-5a94-4bda-efd1-2ea32559f2a3",
        "colab": {
          "base_uri": "https://localhost:8080/"
        }
      },
      "execution_count": 17,
      "outputs": [
        {
          "output_type": "stream",
          "name": "stderr",
          "text": [
            "\u001b[32m2024-07-16 19:09:16.202\u001b[0m | \u001b[32m\u001b[1mSUCCESS \u001b[0m | \u001b[36m__main__\u001b[0m:\u001b[36m<cell line: 8>\u001b[0m:\u001b[36m11\u001b[0m - \u001b[32m\u001b[1mcore worker-07 reservation found\u001b[0m\n",
            "\u001b[32m2024-07-16 19:09:16.204\u001b[0m | \u001b[32m\u001b[1mSUCCESS \u001b[0m | \u001b[36m__main__\u001b[0m:\u001b[36m<cell line: 8>\u001b[0m:\u001b[36m14\u001b[0m - \u001b[32m\u001b[1mgnb worker-01 reservation found\u001b[0m\n"
          ]
        }
      ]
    },
    {
      "cell_type": "code",
      "source": [
        "# Run corenetwork container\n",
        "worker_name = core_worker_name\n",
        "worker_reservation_id = core_worker_reservation_id\n",
        "\n",
        "# check public IPs and select one\n",
        "available_pub_ips = get_available_publicips()\n",
        "if len(available_pub_ips) == 0:\n",
        "  raise Exception(\"There is no available public IPs to reserve.\")\n",
        "pub_ip = available_pub_ips[0]\n",
        "logger.info(f\"Available public ips: {available_pub_ips}.\")\n",
        "logger.info(f\"We choose {pub_ip} for this container.\")\n",
        "\n",
        "# check available interfaces on the worker\n",
        "interfaces = list(get_worker_interfaces(worker_name).values())[0]\n",
        "available_ifs = []\n",
        "for interface in interfaces.keys():\n",
        "  if len(interfaces[interface]['connections']) == 0:\n",
        "    available_ifs.append(interface)\n",
        "logger.info(f\"Available interfaces on {worker_name}: {available_ifs}\")\n",
        "# we need 2 interfaces\n",
        "# one for public access and one for core network\n",
        "if len(available_ifs) < 2:\n",
        "  logger.info(f\"{interfaces}\")\n",
        "  raise Exception(f\"did not find 2 free interfaces on worker {worker_name}\")\n",
        "\n",
        "# run the gnb container\n",
        "publicnet = chi.network.get_network(\"serverpublic\")\n",
        "oaicorenet = chi.network.get_network(\"oai-core-net\")\n",
        "container_name = \"oai-core-host\"\n",
        "chi.container.create_container(\n",
        "    name = container_name,\n",
        "    image = \"samiemostafavi/sshd-dind\",\n",
        "    reservation_id = worker_reservation_id,\n",
        "    environment = {\n",
        "        \"DNS_IP\":\"8.8.8.8\",\n",
        "        \"GATEWAY_IP\":\"130.237.11.97\",\n",
        "        \"PASS\":\"expeca\"\n",
        "    },\n",
        "    mounts = [],\n",
        "    nets = [\n",
        "        { \"network\" : publicnet['id'] },\n",
        "        { \"network\" : oaicorenet['id'] },\n",
        "    ],\n",
        "    labels = {\n",
        "        \"networks.1.interface\":available_ifs[0],\n",
        "        \"networks.1.ip\":pub_ip+\"/27\",\n",
        "        \"networks.1.gateway\":\"130.237.11.97\",\n",
        "        \"networks.2.interface\":available_ifs[1],\n",
        "        \"networks.2.ip\":\"192.168.70.190/26\",\n",
        "        \"capabilities.privileged\":\"true\",\n",
        "    },\n",
        ")\n",
        "chi.container.wait_for_active(container_name)\n",
        "logger.success(f\"created {container_name} container, reachable at {pub_ip}.\")"
      ],
      "metadata": {
        "id": "yS2wZanQ5Rjb",
        "outputId": "4210317e-130d-47ba-e60c-ed2ebb67241c",
        "colab": {
          "base_uri": "https://localhost:8080/"
        }
      },
      "execution_count": 19,
      "outputs": [
        {
          "output_type": "stream",
          "name": "stderr",
          "text": [
            "\u001b[32m2024-07-16 19:10:11.866\u001b[0m | \u001b[1mINFO    \u001b[0m | \u001b[36m__main__\u001b[0m:\u001b[36m<cell line: 10>\u001b[0m:\u001b[36m10\u001b[0m - \u001b[1mAvailable public ips: ['130.237.11.114', '130.237.11.115', '130.237.11.116', '130.237.11.117', '130.237.11.119', '130.237.11.120', '130.237.11.121', '130.237.11.123'].\u001b[0m\n",
            "\u001b[32m2024-07-16 19:10:11.868\u001b[0m | \u001b[1mINFO    \u001b[0m | \u001b[36m__main__\u001b[0m:\u001b[36m<cell line: 11>\u001b[0m:\u001b[36m11\u001b[0m - \u001b[1mWe choose 130.237.11.114 for this container.\u001b[0m\n",
            "\u001b[32m2024-07-16 19:10:25.281\u001b[0m | \u001b[1mINFO    \u001b[0m | \u001b[36m__main__\u001b[0m:\u001b[36m<cell line: 19>\u001b[0m:\u001b[36m19\u001b[0m - \u001b[1mAvailable interfaces on worker-07: ['eno12409', 'eno12419', 'eno12429', 'ens1']\u001b[0m\n",
            "\u001b[32m2024-07-16 19:11:01.810\u001b[0m | \u001b[32m\u001b[1mSUCCESS \u001b[0m | \u001b[36m__main__\u001b[0m:\u001b[36m<cell line: 54>\u001b[0m:\u001b[36m54\u001b[0m - \u001b[32m\u001b[1mcreated oai-core-host container, reachable at 130.237.11.114.\u001b[0m\n"
          ]
        }
      ]
    },
    {
      "cell_type": "code",
      "source": [
        "# Run gnb container\n",
        "worker_name = gnb_worker_name\n",
        "worker_reservation_id = gnb_worker_reservation_id\n",
        "\n",
        "# check public IPs and select one\n",
        "available_pub_ips = get_available_publicips()\n",
        "if len(available_pub_ips) == 0:\n",
        "  raise Exception(\"There is no available public IPs to reserve.\")\n",
        "pub_ip = available_pub_ips[0]\n",
        "logger.info(f\"Available public ips: {available_pub_ips}.\")\n",
        "logger.info(f\"We choose {pub_ip} for this container.\")\n",
        "\n",
        "# check available interfaces on the worker\n",
        "interfaces = list(get_worker_interfaces(worker_name).values())[0]\n",
        "available_ifs = []\n",
        "for interface in interfaces.keys():\n",
        "  if len(interfaces[interface]['connections']) == 0:\n",
        "    available_ifs.append(interface)\n",
        "logger.info(f\"Available interfaces on {worker_name}: {available_ifs}\")\n",
        "# we need one 10Gbps interface for the SDR,\n",
        "# and one port with any speed for the public interface\n",
        "port_10g = None\n",
        "port1_any = None\n",
        "port2_any = None\n",
        "for interface in available_ifs:\n",
        "  if (port_10g is None) and (interfaces[interface]['speed'] == '10000'):\n",
        "    port_10g = interface\n",
        "    continue\n",
        "  if port1_any is None:\n",
        "    port1_any = interface\n",
        "    continue\n",
        "  if port2_any is None:\n",
        "    port2_any = interface\n",
        "    continue\n",
        "if (port_10g is None) or (port1_any is None) or (port2_any is None):\n",
        "  logger.info(f\"{json.dumps(interfaces, indent=4)}\")\n",
        "  raise Exception(f\"Did not find proper interfaces on {worker_name}\")\n",
        "else:\n",
        "  logger.success(f\"we choose {port_10g} for the SDR, {port1_any} for the public access, and {port2_any} for the core network.\")\n",
        "\n",
        "# run the gnb container\n",
        "sdrsfpnet = chi.network.get_network(sdr_name+\"-sfp-net\")\n",
        "publicnet = chi.network.get_network(\"serverpublic\")\n",
        "oaicorenet = chi.network.get_network(\"oai-core-net\")\n",
        "container_name = \"gnb-sdr-host\"\n",
        "chi.container.create_container(\n",
        "    name = container_name,\n",
        "    image = \"samiemostafavi/sshd-image\",\n",
        "    reservation_id = worker_reservation_id,\n",
        "    environment = {\n",
        "        \"DNS_IP\":\"8.8.8.8\",\n",
        "        \"GATEWAY_IP\":\"130.237.11.97\",\n",
        "        \"PASS\":\"expeca\"\n",
        "    },\n",
        "    mounts = [],\n",
        "    nets = [\n",
        "        { \"network\" : publicnet['id'] },\n",
        "        { \"network\" : oaicorenet['id'] },\n",
        "        { \"network\" : sdrsfpnet['id'] },\n",
        "    ],\n",
        "    labels = {\n",
        "        \"networks.1.interface\":port1_any,\n",
        "        \"networks.1.ip\":pub_ip+\"/27\",\n",
        "        \"networks.1.gateway\":\"130.237.11.97\",\n",
        "        \"networks.2.interface\":port2_any,\n",
        "        \"networks.2.ip\":\"192.168.70.129/26\",\n",
        "        \"capabilities.privileged\":\"true\",\n",
        "        \"networks.3.interface\":port_10g,\n",
        "        \"networks.3.ip\":\"10.30.10.120/24\",\n",
        "    },\n",
        ")\n",
        "chi.container.wait_for_active(container_name)\n",
        "logger.success(f\"created {container_name} container, reachable at {pub_ip}.\")\n"
      ],
      "metadata": {
        "colab": {
          "base_uri": "https://localhost:8080/"
        },
        "id": "c9ZnK9DdhnEj",
        "outputId": "a08f859b-f84e-4e16-b7d7-2520b5b03f55"
      },
      "execution_count": 20,
      "outputs": [
        {
          "output_type": "stream",
          "name": "stderr",
          "text": [
            "\u001b[32m2024-07-16 19:14:26.250\u001b[0m | \u001b[1mINFO    \u001b[0m | \u001b[36m__main__\u001b[0m:\u001b[36m<cell line: 10>\u001b[0m:\u001b[36m10\u001b[0m - \u001b[1mAvailable public ips: ['130.237.11.115', '130.237.11.116', '130.237.11.117', '130.237.11.119', '130.237.11.120', '130.237.11.121', '130.237.11.123'].\u001b[0m\n",
            "\u001b[32m2024-07-16 19:14:26.252\u001b[0m | \u001b[1mINFO    \u001b[0m | \u001b[36m__main__\u001b[0m:\u001b[36m<cell line: 11>\u001b[0m:\u001b[36m11\u001b[0m - \u001b[1mWe choose 130.237.11.115 for this container.\u001b[0m\n",
            "\u001b[32m2024-07-16 19:14:39.133\u001b[0m | \u001b[1mINFO    \u001b[0m | \u001b[36m__main__\u001b[0m:\u001b[36m<cell line: 19>\u001b[0m:\u001b[36m19\u001b[0m - \u001b[1mAvailable interfaces on worker-01: ['eno12399', 'eno12409', 'eno12419', 'eno12429', 'ens1f1']\u001b[0m\n",
            "\u001b[32m2024-07-16 19:14:39.135\u001b[0m | \u001b[32m\u001b[1mSUCCESS \u001b[0m | \u001b[36m__main__\u001b[0m:\u001b[36m<cell line: 35>\u001b[0m:\u001b[36m39\u001b[0m - \u001b[32m\u001b[1mwe choose ens1f1 for the SDR, eno12399 for the public access, and eno12409 for the core network.\u001b[0m\n",
            "\u001b[32m2024-07-16 19:15:17.352\u001b[0m | \u001b[32m\u001b[1mSUCCESS \u001b[0m | \u001b[36m__main__\u001b[0m:\u001b[36m<cell line: 73>\u001b[0m:\u001b[36m73\u001b[0m - \u001b[32m\u001b[1mcreated gnb-sdr-host container, reachable at 130.237.11.115.\u001b[0m\n"
          ]
        }
      ]
    },
    {
      "cell_type": "markdown",
      "source": [
        "\n",
        "The following must be set in the docker compose as for the network\n",
        "```\n",
        "public_net:\n",
        "    driver: macvlan\n",
        "    driver_opts:\n",
        "        parent: net2\n",
        "    ipam:\n",
        "        config:\n",
        "            - subnet: 192.168.70.128/26\n",
        "    name: oai-cn5g-public-net\n",
        "```"
      ],
      "metadata": {
        "id": "0U3iQNFOclXC"
      }
    }
  ],
  "metadata": {
    "colab": {
      "collapsed_sections": [
        "W9YICZf_mJBy",
        "Rd4EsDjdqRFU",
        "qGLRVmiXHmf4",
        "9y4TchLY9jVx",
        "3CCjzjCT-oIl",
        "p2joHHj_EZtq"
      ],
      "provenance": [],
      "include_colab_link": true
    },
    "kernelspec": {
      "display_name": "Python 3",
      "name": "python3"
    },
    "language_info": {
      "name": "python"
    }
  },
  "nbformat": 4,
  "nbformat_minor": 0
}