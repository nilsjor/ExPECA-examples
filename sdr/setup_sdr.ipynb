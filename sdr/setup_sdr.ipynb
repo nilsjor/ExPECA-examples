{
  "cells": [
    {
      "cell_type": "markdown",
      "metadata": {
        "id": "view-in-github",
        "colab_type": "text"
      },
      "source": [
        "<a href=\"https://colab.research.google.com/github/KTH-EXPECA/examples/blob/main/sdr/setup_sdr.ipynb\" target=\"_parent\"><img src=\"https://colab.research.google.com/assets/colab-badge.svg\" alt=\"Open In Colab\"/></a>"
      ]
    },
    {
      "cell_type": "markdown",
      "metadata": {
        "id": "W9YICZf_mJBy"
      },
      "source": [
        "# Authentication and Dependencies\n",
        "\n",
        "Login to Chameleon and download openrc.sh file from [here](https://testbed.expeca.proj.kth.se/project/api_access/openrc/). Upload it here next to this notebook and continue.\n",
        "\n",
        "In the next cell, we setup the authentication method to be able to use Openstack clients."
      ]
    },
    {
      "cell_type": "code",
      "execution_count": 1,
      "metadata": {
        "colab": {
          "base_uri": "https://localhost:8080/"
        },
        "id": "KLT-J26lJ5ae",
        "outputId": "cecadc25-e5cd-4003-ec0e-08a36a0eece6"
      },
      "outputs": [
        {
          "name": "stdout",
          "output_type": "stream",
          "text": [
            "enter your expeca password:··········\n"
          ]
        }
      ],
      "source": [
        "import os, re\n",
        "from getpass import getpass\n",
        "\n",
        "with open('/content/demo_project-openrc.sh', 'r') as f:\n",
        "    script_content = f.read()\n",
        "    pattern = r'export\\s+(\\w+)\\s*=\\s*(\"[^\"]+\"|[^\"\\n]+)'\n",
        "    matches = re.findall(pattern, script_content)\n",
        "\n",
        "    for name, value in matches:\n",
        "        os.environ[name] = value.strip('\"')\n",
        "\n",
        "password = getpass('enter your expeca password:')\n",
        "os.environ['OS_PASSWORD'] = password"
      ]
    },
    {
      "cell_type": "markdown",
      "metadata": {
        "id": "5bXlipy4m1bs"
      },
      "source": [
        "Install required packages and dependencies. Ignore the warnings."
      ]
    },
    {
      "cell_type": "code",
      "execution_count": 2,
      "metadata": {
        "colab": {
          "base_uri": "https://localhost:8080/"
        },
        "id": "3uZ_rN5iFlhp",
        "outputId": "dc76e3e4-fb4c-4fd5-c885-7ca4c6e095f4"
      },
      "outputs": [
        {
          "output_type": "stream",
          "name": "stdout",
          "text": [
            "\u001b[?25l     \u001b[90m━━━━━━━━━━━━━━━━━━━━━━━━━━━━━━━━━━━━━━━━\u001b[0m \u001b[32m0.0/1.6 MB\u001b[0m \u001b[31m?\u001b[0m eta \u001b[36m-:--:--\u001b[0m\r\u001b[2K     \u001b[91m━━━━\u001b[0m\u001b[90m╺\u001b[0m\u001b[90m━━━━━━━━━━━━━━━━━━━━━━━━━━━━━━━━━━━\u001b[0m \u001b[32m0.2/1.6 MB\u001b[0m \u001b[31m5.1 MB/s\u001b[0m eta \u001b[36m0:00:01\u001b[0m\r\u001b[2K     \u001b[91m━━━━━━━━━━━━━━━━━━━━━━━━━━━━━━━━━━━━━━━\u001b[0m\u001b[91m╸\u001b[0m \u001b[32m1.6/1.6 MB\u001b[0m \u001b[31m26.9 MB/s\u001b[0m eta \u001b[36m0:00:01\u001b[0m\r\u001b[2K     \u001b[90m━━━━━━━━━━━━━━━━━━━━━━━━━━━━━━━━━━━━━━━━\u001b[0m \u001b[32m1.6/1.6 MB\u001b[0m \u001b[31m20.6 MB/s\u001b[0m eta \u001b[36m0:00:00\u001b[0m\n",
            "\u001b[?25h  Preparing metadata (setup.py) ... \u001b[?25l\u001b[?25hdone\n",
            "  Preparing metadata (setup.py) ... \u001b[?25l\u001b[?25hdone\n",
            "\u001b[2K     \u001b[90m━━━━━━━━━━━━━━━━━━━━━━━━━━━━━━━━━━━━━━━━\u001b[0m \u001b[32m59.4/59.4 kB\u001b[0m \u001b[31m1.7 MB/s\u001b[0m eta \u001b[36m0:00:00\u001b[0m\n",
            "\u001b[2K     \u001b[90m━━━━━━━━━━━━━━━━━━━━━━━━━━━━━━━━━━━━━━━━\u001b[0m \u001b[32m66.5/66.5 kB\u001b[0m \u001b[31m5.0 MB/s\u001b[0m eta \u001b[36m0:00:00\u001b[0m\n",
            "\u001b[2K     \u001b[90m━━━━━━━━━━━━━━━━━━━━━━━━━━━━━━━━━━━━━━━━\u001b[0m \u001b[32m324.3/324.3 kB\u001b[0m \u001b[31m20.1 MB/s\u001b[0m eta \u001b[36m0:00:00\u001b[0m\n",
            "\u001b[2K     \u001b[90m━━━━━━━━━━━━━━━━━━━━━━━━━━━━━━━━━━━━━━━━\u001b[0m \u001b[32m1.7/1.7 MB\u001b[0m \u001b[31m34.0 MB/s\u001b[0m eta \u001b[36m0:00:00\u001b[0m\n",
            "\u001b[2K     \u001b[90m━━━━━━━━━━━━━━━━━━━━━━━━━━━━━━━━━━━━━━━━\u001b[0m \u001b[32m225.9/225.9 kB\u001b[0m \u001b[31m20.7 MB/s\u001b[0m eta \u001b[36m0:00:00\u001b[0m\n",
            "\u001b[2K     \u001b[90m━━━━━━━━━━━━━━━━━━━━━━━━━━━━━━━━━━━━━━━━\u001b[0m \u001b[32m62.5/62.5 kB\u001b[0m \u001b[31m8.4 MB/s\u001b[0m eta \u001b[36m0:00:00\u001b[0m\n",
            "\u001b[2K     \u001b[90m━━━━━━━━━━━━━━━━━━━━━━━━━━━━━━━━━━━━━━━━\u001b[0m \u001b[32m256.1/256.1 kB\u001b[0m \u001b[31m23.1 MB/s\u001b[0m eta \u001b[36m0:00:00\u001b[0m\n",
            "\u001b[2K     \u001b[90m━━━━━━━━━━━━━━━━━━━━━━━━━━━━━━━━━━━━━━━━\u001b[0m \u001b[32m205.7/205.7 kB\u001b[0m \u001b[31m17.3 MB/s\u001b[0m eta \u001b[36m0:00:00\u001b[0m\n",
            "\u001b[2K     \u001b[90m━━━━━━━━━━━━━━━━━━━━━━━━━━━━━━━━━━━━━━━━\u001b[0m \u001b[32m253.7/253.7 kB\u001b[0m \u001b[31m17.5 MB/s\u001b[0m eta \u001b[36m0:00:00\u001b[0m\n",
            "\u001b[2K     \u001b[90m━━━━━━━━━━━━━━━━━━━━━━━━━━━━━━━━━━━━━━━━\u001b[0m \u001b[32m515.5/515.5 kB\u001b[0m \u001b[31m33.7 MB/s\u001b[0m eta \u001b[36m0:00:00\u001b[0m\n",
            "\u001b[2K     \u001b[90m━━━━━━━━━━━━━━━━━━━━━━━━━━━━━━━━━━━━━━━━\u001b[0m \u001b[32m295.5/295.5 kB\u001b[0m \u001b[31m16.8 MB/s\u001b[0m eta \u001b[36m0:00:00\u001b[0m\n",
            "\u001b[2K     \u001b[90m━━━━━━━━━━━━━━━━━━━━━━━━━━━━━━━━━━━━━━━━\u001b[0m \u001b[32m336.0/336.0 kB\u001b[0m \u001b[31m25.7 MB/s\u001b[0m eta \u001b[36m0:00:00\u001b[0m\n",
            "\u001b[2K     \u001b[90m━━━━━━━━━━━━━━━━━━━━━━━━━━━━━━━━━━━━━━━━\u001b[0m \u001b[32m155.1/155.1 kB\u001b[0m \u001b[31m18.6 MB/s\u001b[0m eta \u001b[36m0:00:00\u001b[0m\n",
            "\u001b[2K     \u001b[90m━━━━━━━━━━━━━━━━━━━━━━━━━━━━━━━━━━━━━━━━\u001b[0m \u001b[32m160.3/160.3 kB\u001b[0m \u001b[31m16.4 MB/s\u001b[0m eta \u001b[36m0:00:00\u001b[0m\n",
            "\u001b[2K     \u001b[90m━━━━━━━━━━━━━━━━━━━━━━━━━━━━━━━━━━━━━━━━\u001b[0m \u001b[32m283.7/283.7 kB\u001b[0m \u001b[31m26.0 MB/s\u001b[0m eta \u001b[36m0:00:00\u001b[0m\n",
            "\u001b[2K     \u001b[90m━━━━━━━━━━━━━━━━━━━━━━━━━━━━━━━━━━━━━━━━\u001b[0m \u001b[32m856.7/856.7 kB\u001b[0m \u001b[31m45.6 MB/s\u001b[0m eta \u001b[36m0:00:00\u001b[0m\n",
            "\u001b[2K     \u001b[90m━━━━━━━━━━━━━━━━━━━━━━━━━━━━━━━━━━━━━━━━\u001b[0m \u001b[32m81.2/81.2 kB\u001b[0m \u001b[31m10.4 MB/s\u001b[0m eta \u001b[36m0:00:00\u001b[0m\n",
            "\u001b[2K     \u001b[90m━━━━━━━━━━━━━━━━━━━━━━━━━━━━━━━━━━━━━━━━\u001b[0m \u001b[32m53.6/53.6 kB\u001b[0m \u001b[31m6.2 MB/s\u001b[0m eta \u001b[36m0:00:00\u001b[0m\n",
            "\u001b[2K     \u001b[90m━━━━━━━━━━━━━━━━━━━━━━━━━━━━━━━━━━━━━━━━\u001b[0m \u001b[32m49.7/49.7 kB\u001b[0m \u001b[31m5.8 MB/s\u001b[0m eta \u001b[36m0:00:00\u001b[0m\n",
            "\u001b[2K     \u001b[90m━━━━━━━━━━━━━━━━━━━━━━━━━━━━━━━━━━━━━━━━\u001b[0m \u001b[32m58.7/58.7 kB\u001b[0m \u001b[31m7.3 MB/s\u001b[0m eta \u001b[36m0:00:00\u001b[0m\n",
            "\u001b[?25h  Preparing metadata (setup.py) ... \u001b[?25l\u001b[?25hdone\n",
            "\u001b[2K     \u001b[90m━━━━━━━━━━━━━━━━━━━━━━━━━━━━━━━━━━━━━━━━\u001b[0m \u001b[32m46.9/46.9 kB\u001b[0m \u001b[31m5.8 MB/s\u001b[0m eta \u001b[36m0:00:00\u001b[0m\n",
            "\u001b[2K     \u001b[90m━━━━━━━━━━━━━━━━━━━━━━━━━━━━━━━━━━━━━━━━\u001b[0m \u001b[32m73.8/73.8 kB\u001b[0m \u001b[31m8.7 MB/s\u001b[0m eta \u001b[36m0:00:00\u001b[0m\n",
            "\u001b[2K     \u001b[90m━━━━━━━━━━━━━━━━━━━━━━━━━━━━━━━━━━━━━━━━\u001b[0m \u001b[32m101.4/101.4 kB\u001b[0m \u001b[31m12.8 MB/s\u001b[0m eta \u001b[36m0:00:00\u001b[0m\n",
            "\u001b[2K     \u001b[90m━━━━━━━━━━━━━━━━━━━━━━━━━━━━━━━━━━━━━━━━\u001b[0m \u001b[32m89.6/89.6 kB\u001b[0m \u001b[31m13.1 MB/s\u001b[0m eta \u001b[36m0:00:00\u001b[0m\n",
            "\u001b[2K     \u001b[90m━━━━━━━━━━━━━━━━━━━━━━━━━━━━━━━━━━━━━━━━\u001b[0m \u001b[32m128.7/128.7 kB\u001b[0m \u001b[31m13.8 MB/s\u001b[0m eta \u001b[36m0:00:00\u001b[0m\n",
            "\u001b[2K     \u001b[90m━━━━━━━━━━━━━━━━━━━━━━━━━━━━━━━━━━━━━━━━\u001b[0m \u001b[32m397.2/397.2 kB\u001b[0m \u001b[31m37.5 MB/s\u001b[0m eta \u001b[36m0:00:00\u001b[0m\n",
            "\u001b[2K     \u001b[90m━━━━━━━━━━━━━━━━━━━━━━━━━━━━━━━━━━━━━━━━\u001b[0m \u001b[32m137.9/137.9 kB\u001b[0m \u001b[31m17.3 MB/s\u001b[0m eta \u001b[36m0:00:00\u001b[0m\n",
            "\u001b[2K     \u001b[90m━━━━━━━━━━━━━━━━━━━━━━━━━━━━━━━━━━━━━━━━\u001b[0m \u001b[32m2.3/2.3 MB\u001b[0m \u001b[31m68.7 MB/s\u001b[0m eta \u001b[36m0:00:00\u001b[0m\n",
            "\u001b[2K     \u001b[90m━━━━━━━━━━━━━━━━━━━━━━━━━━━━━━━━━━━━━━━━\u001b[0m \u001b[32m147.8/147.8 kB\u001b[0m \u001b[31m17.0 MB/s\u001b[0m eta \u001b[36m0:00:00\u001b[0m\n",
            "\u001b[2K     \u001b[90m━━━━━━━━━━━━━━━━━━━━━━━━━━━━━━━━━━━━━━━━\u001b[0m \u001b[32m1.1/1.1 MB\u001b[0m \u001b[31m56.6 MB/s\u001b[0m eta \u001b[36m0:00:00\u001b[0m\n",
            "\u001b[2K     \u001b[90m━━━━━━━━━━━━━━━━━━━━━━━━━━━━━━━━━━━━━━━━\u001b[0m \u001b[32m147.2/147.2 kB\u001b[0m \u001b[31m17.0 MB/s\u001b[0m eta \u001b[36m0:00:00\u001b[0m\n",
            "\u001b[?25h  Building wheel for python-chi (setup.py) ... \u001b[?25l\u001b[?25hdone\n",
            "  Building wheel for python-blazarclient (setup.py) ... \u001b[?25l\u001b[?25hdone\n",
            "  Building wheel for netifaces (setup.py) ... \u001b[?25l\u001b[?25hdone\n"
          ]
        }
      ],
      "source": [
        "!pip uninstall -q -y moviepy\n",
        "!pip install -q jedi\n",
        "!pip install -q git+https://github.com/KTH-EXPECA/python-chi"
      ]
    },
    {
      "cell_type": "markdown",
      "metadata": {
        "id": "VkDR3RsFpKSv"
      },
      "source": [
        "Import packages"
      ]
    },
    {
      "cell_type": "code",
      "execution_count": 3,
      "metadata": {
        "id": "gWqW34Pc7YJp"
      },
      "outputs": [],
      "source": [
        "import json, time\n",
        "from loguru import logger\n",
        "import chi.network, chi.container, chi.network\n",
        "from chi.expeca import reserve, list_reservations, unreserve_byid, get_container_status, wait_until_container_removed, show_reservation_byname, restart_sdr, make_sdr_ni, make_sdr_mango, sdr_tools, get_available_publicips, get_segment_ids, get_radio_interfaces, get_worker_interfaces"
      ]
    },
    {
      "cell_type": "markdown",
      "metadata": {
        "id": "Rd4EsDjdqRFU"
      },
      "source": [
        "# Reserve resources\n",
        "\n",
        "In the next cell, we reserve 1 SDR and 1 worker."
      ]
    },
    {
      "cell_type": "code",
      "source": [
        "# Check the SDR's health and the status of its ports, both ports are supposed to be up, otherwise contact support\n",
        "sdr_name = \"sdr-10\"\n",
        "sdr_status = get_radio_interfaces(sdr_name)\n",
        "logger.info(f\"{json.dumps(sdr_status, indent=4)}\")\n",
        "for port in sdr_status.keys():\n",
        "  if sdr_status[port]['linkstate'] == 'Down':\n",
        "    logger.warning(f\"port {port} on {sdr_name} is down.\")\n",
        "  if sdr_status[port]['linkstate'] == 'Up':\n",
        "    logger.success(f\"port {port} on {sdr_name} is up.\")"
      ],
      "metadata": {
        "colab": {
          "base_uri": "https://localhost:8080/"
        },
        "id": "2F6_71uUkay6",
        "outputId": "064123c5-9ea0-4418-b353-056e64a1729e"
      },
      "execution_count": 4,
      "outputs": [
        {
          "output_type": "stream",
          "name": "stderr",
          "text": [
            "\u001b[32m2024-07-16 15:20:09.187\u001b[0m | \u001b[1mINFO    \u001b[0m | \u001b[36m__main__\u001b[0m:\u001b[36m<cell line: 4>\u001b[0m:\u001b[36m4\u001b[0m - \u001b[1m{\n",
            "    \"sdr_10_mango\": {\n",
            "        \"backpressure\": \"Disabled\",\n",
            "        \"duplex\": \"Full\",\n",
            "        \"flowctrl\": \"Off\",\n",
            "        \"linkstate\": \"Up\",\n",
            "        \"mdixmode\": \"On\",\n",
            "        \"neg\": \"Enabled\",\n",
            "        \"port\": \"te1/0/2\",\n",
            "        \"segment_id\": 119,\n",
            "        \"speed\": \"1000\",\n",
            "        \"stitches\": {\n",
            "            \"119\": []\n",
            "        },\n",
            "        \"type\": \"10G-Copper\"\n",
            "    },\n",
            "    \"sdr_10_ni\": {\n",
            "        \"backpressure\": \"Disabled\",\n",
            "        \"duplex\": \"Full\",\n",
            "        \"flowctrl\": \"Off\",\n",
            "        \"linkstate\": \"Up\",\n",
            "        \"mdixmode\": \"Off\",\n",
            "        \"neg\": \"Disabled\",\n",
            "        \"port\": \"te2/0/16\",\n",
            "        \"segment_id\": 120,\n",
            "        \"speed\": \"10000\",\n",
            "        \"stitches\": {\n",
            "            \"120\": []\n",
            "        },\n",
            "        \"type\": \"10G-Fiber\"\n",
            "    }\n",
            "}\u001b[0m\n",
            "\u001b[32m2024-07-16 15:20:09.189\u001b[0m | \u001b[32m\u001b[1mSUCCESS \u001b[0m | \u001b[36m__main__\u001b[0m:\u001b[36m<cell line: 5>\u001b[0m:\u001b[36m9\u001b[0m - \u001b[32m\u001b[1mport sdr_10_mango on sdr-10 is up.\u001b[0m\n",
            "\u001b[32m2024-07-16 15:20:09.192\u001b[0m | \u001b[32m\u001b[1mSUCCESS \u001b[0m | \u001b[36m__main__\u001b[0m:\u001b[36m<cell line: 5>\u001b[0m:\u001b[36m9\u001b[0m - \u001b[32m\u001b[1mport sdr_10_ni on sdr-10 is up.\u001b[0m\n"
          ]
        }
      ]
    },
    {
      "cell_type": "code",
      "execution_count": 5,
      "metadata": {
        "colab": {
          "base_uri": "https://localhost:8080/"
        },
        "id": "1pauMnGZ8KSP",
        "outputId": "aea9e1ad-485b-4a7d-8151-33edf0c727fa"
      },
      "outputs": [
        {
          "output_type": "stream",
          "name": "stdout",
          "text": [
            "[\n",
            "    {\n",
            "        \"name\": \"sdr-10-rj45-lease\",\n",
            "        \"id\": \"18b7fbc7-1482-4e2f-9f13-632ee4500e1e\",\n",
            "        \"reservation_id\": \"cc53d8fb-9b3e-4e65-9778-8b53dd6ab6a1\",\n",
            "        \"status\": \"ACTIVE\",\n",
            "        \"end_date\": \"2024-07-22T19:07:00.000000\"\n",
            "    },\n",
            "    {\n",
            "        \"name\": \"sdr-10-sfp-lease\",\n",
            "        \"id\": \"ad69a46f-013b-4f69-a486-a2ad3dbe06aa\",\n",
            "        \"reservation_id\": \"ed41686e-061d-4fc3-b754-987d3452ced3\",\n",
            "        \"status\": \"ACTIVE\",\n",
            "        \"end_date\": \"2024-07-22T19:08:00.000000\"\n",
            "    },\n",
            "    {\n",
            "        \"name\": \"worker-01-lease\",\n",
            "        \"id\": \"ede1d246-2245-455a-a511-6623f79b204a\",\n",
            "        \"reservation_id\": \"f17f42f8-2928-4df7-b922-d0b9e3ac0933\",\n",
            "        \"status\": \"ACTIVE\",\n",
            "        \"end_date\": \"2024-07-22T19:09:00.000000\"\n",
            "    }\n",
            "]\n"
          ]
        }
      ],
      "source": [
        "# Reserve the SDR\n",
        "segment_ids = get_segment_ids(sdr_name)\n",
        "\n",
        "# reserve RJ45 port\n",
        "rj45_lease = show_reservation_byname(sdr_name + \"-rj45-lease\")\n",
        "if not rj45_lease:\n",
        "    rj45_lease = reserve(\n",
        "        { \"type\":\"network\", \"name\": sdr_name+\"-rj45\", \"net_name\": sdr_name+\"-rj45\", \"segment_id\": segment_ids['rj45'], \"duration\": { \"days\":7, \"hours\":0 } }\n",
        "    )\n",
        "\n",
        "# reserve SFP port\n",
        "sfp_lease = show_reservation_byname(sdr_name + \"-sfp-lease\")\n",
        "if not sfp_lease:\n",
        "    sfp_lease = reserve(\n",
        "        { \"type\":\"network\", \"name\": sdr_name+\"-sfp\", \"net_name\": sdr_name+\"-sfp\", \"segment_id\": segment_ids['sfp'], \"duration\": { \"days\":7, \"hours\":0 } }\n",
        "    )\n",
        "\n",
        "worker_name = 'worker-01'\n",
        "# reserve worker\n",
        "worker_lease = show_reservation_byname(worker_name+\"-lease\")\n",
        "if not worker_lease:\n",
        "    worker_lease = reserve(\n",
        "        { \"type\":\"device\", \"name\":worker_name, \"duration\": { \"days\":7, \"hours\":0 } }\n",
        "    )\n",
        "worker_reservation_id = worker_lease[\"reservations\"][0][\"id\"]\n",
        "\n",
        "\n",
        "leaseslist = list_reservations(brief=True)\n",
        "print(json.dumps(leaseslist,indent=4))"
      ]
    },
    {
      "cell_type": "markdown",
      "metadata": {
        "id": "tNYpBeUgpn15"
      },
      "source": [
        "# Configure the SDRs"
      ]
    },
    {
      "cell_type": "markdown",
      "metadata": {
        "id": "qGLRVmiXHmf4"
      },
      "source": [
        "## Change the sdrs' firmwares to Mango or NI"
      ]
    },
    {
      "cell_type": "code",
      "execution_count": null,
      "metadata": {
        "colab": {
          "base_uri": "https://localhost:8080/"
        },
        "id": "QV7oHbSu7g5F",
        "outputId": "37a59c5c-4694-4e45-9590-ad207985b59f"
      },
      "outputs": [
        {
          "name": "stderr",
          "output_type": "stream",
          "text": [
            "\u001b[32m2023-09-01 08:04:04.639\u001b[0m | \u001b[32m\u001b[1mSUCCESS \u001b[0m | \u001b[36mchi.expeca\u001b[0m:\u001b[36mmake_sdr_mango\u001b[0m:\u001b[36m299\u001b[0m - \u001b[32m\u001b[1mcreated make-sdr-mango container.\u001b[0m\n",
            "\u001b[32m2023-09-01 08:04:04.641\u001b[0m | \u001b[1mINFO    \u001b[0m | \u001b[36mchi.expeca\u001b[0m:\u001b[36mmake_sdr_mango\u001b[0m:\u001b[36m301\u001b[0m - \u001b[1mwaiting 2 minutes for the sdr-09 to change design.\u001b[0m\n",
            "\u001b[32m2023-09-01 08:05:06.410\u001b[0m | \u001b[32m\u001b[1mSUCCESS \u001b[0m | \u001b[36mchi.expeca\u001b[0m:\u001b[36mmake_sdr_mango\u001b[0m:\u001b[36m315\u001b[0m - \u001b[32m\u001b[1mSERVICE=change_design env variable is set\n",
            "running change_design...\n",
            "You have chosen sdr-09 and design mango\n",
            "sdr-09 is reachable: {'mango': {'ip': '10.30.1.17', 'port': '22', 'tenant-port': 'te1/0/26', 'up': False}, 'ni': {'ip': '10.30.1.18', 'port': '22', 'tenant-port': 'te4/0/13', 'up': True}}\n",
            "SSHing to 10.30.1.18, username:root, password: \n",
            "running command on 10.30.1.18: \n",
            "cp /uboot/mango_bootbin/BOOT.bin /uboot/ ; /sbin/reboot > /dev/null 2>&1 &\n",
            "command stdout: \n",
            "\n",
            "command sdterr: \n",
            "\n",
            "Waiting 200 seconds for the new desgin to load\n",
            "10 seconds to the next poll...\n",
            "10 seconds to the next poll...\n",
            "10 seconds to the next poll...\n",
            "10 seconds to the next poll...\n",
            "10 seconds to the next poll...\n",
            "sdr-09 design has been changed to mango\n",
            "\u001b[0m\n",
            "\u001b[32m2023-09-01 08:05:06.772\u001b[0m | \u001b[1mINFO    \u001b[0m | \u001b[36mchi.expeca\u001b[0m:\u001b[36mwait_until_container_removed\u001b[0m:\u001b[36m30\u001b[0m - \u001b[1mwaiting 30 seconds for make-sdr-mango container to be removed\u001b[0m\n",
            "\u001b[32m2023-09-01 08:05:11.927\u001b[0m | \u001b[1mINFO    \u001b[0m | \u001b[36mchi.expeca\u001b[0m:\u001b[36mwait_until_container_removed\u001b[0m:\u001b[36m37\u001b[0m - \u001b[1mcontainer make-sdr-mango is in Deleting state.\u001b[0m\n",
            "\u001b[32m2023-09-01 08:05:17.105\u001b[0m | \u001b[1mINFO    \u001b[0m | \u001b[36mchi.expeca\u001b[0m:\u001b[36mwait_until_container_removed\u001b[0m:\u001b[36m37\u001b[0m - \u001b[1mcontainer make-sdr-mango is in None state.\u001b[0m\n"
          ]
        }
      ],
      "source": [
        "# change sdr design to ni using the reserved worker\n",
        "sdrnet = chi.network.get_network(sdr_name+\"-rj45-net\")\n",
        "make_sdr_ni(sdr_name,sdrnet['id'],worker_reservation_id,\"ens1\")\n",
        "\n",
        "# wait 10 seconds\n",
        "#time.sleep(10)\n",
        "\n",
        "# change sdr design to mango using the reserved worker\n",
        "#sdrnet = chi.network.get_network(sdr_name+\"-rj45-net\")\n",
        "#make_sdr_mango(sdr_name,sdrnet['id'],worker_reservation_id,\"ens1\")"
      ]
    },
    {
      "cell_type": "markdown",
      "metadata": {
        "id": "qlEedPyQpdZp"
      },
      "source": [
        "## Reboot the SDRs"
      ]
    },
    {
      "cell_type": "code",
      "execution_count": null,
      "metadata": {
        "colab": {
          "base_uri": "https://localhost:8080/"
        },
        "id": "KrijEz7oNkfv",
        "outputId": "a012436b-1be0-495a-e1a9-28419f2c3cb7"
      },
      "outputs": [
        {
          "name": "stderr",
          "output_type": "stream",
          "text": [
            "\u001b[32m2023-09-01 10:10:24.442\u001b[0m | \u001b[32m\u001b[1mSUCCESS \u001b[0m | \u001b[36mchi.expeca\u001b[0m:\u001b[36mrestart_sdr\u001b[0m:\u001b[36m255\u001b[0m - \u001b[32m\u001b[1mcreated reboot-sdr container.\u001b[0m\n",
            "\u001b[32m2023-09-01 10:10:24.445\u001b[0m | \u001b[1mINFO    \u001b[0m | \u001b[36mchi.expeca\u001b[0m:\u001b[36mrestart_sdr\u001b[0m:\u001b[36m257\u001b[0m - \u001b[1mwaiting 2 minutes for the sdr-09 to reboot.\u001b[0m\n",
            "\u001b[32m2023-09-01 10:11:15.129\u001b[0m | \u001b[32m\u001b[1mSUCCESS \u001b[0m | \u001b[36mchi.expeca\u001b[0m:\u001b[36mrestart_sdr\u001b[0m:\u001b[36m267\u001b[0m - \u001b[32m\u001b[1mSERVICE=reboot env variable is set\n",
            "running reboot...\n",
            "You have chosen sdr-09\n",
            "sdr-09 is reachable: {'mango': {'ip': '10.30.1.17', 'port': '22', 'tenant-port': 'te1/0/26', 'up': True}, 'ni': {'ip': '10.30.1.18', 'port': '22', 'tenant-port': 'te4/0/13'}}\n",
            "SSHing to 10.30.1.17, username:root, password: root\n",
            "running command on 10.30.1.17: \n",
            "/sbin/reboot > /dev/null 2>&1 &\n",
            "Waiting 200 seconds for the sdr to load\n",
            "10 seconds to the next poll...\n",
            "10 seconds to the next poll...\n",
            "10 seconds to the next poll...\n",
            "10 seconds to the next poll...\n",
            "sdr-09 mango is up again.\n",
            "\u001b[0m\n",
            "\u001b[32m2023-09-01 10:11:15.612\u001b[0m | \u001b[1mINFO    \u001b[0m | \u001b[36mchi.expeca\u001b[0m:\u001b[36mwait_until_container_removed\u001b[0m:\u001b[36m30\u001b[0m - \u001b[1mwaiting 30 seconds for reboot-sdr container to be removed\u001b[0m\n",
            "\u001b[32m2023-09-01 10:11:20.836\u001b[0m | \u001b[1mINFO    \u001b[0m | \u001b[36mchi.expeca\u001b[0m:\u001b[36mwait_until_container_removed\u001b[0m:\u001b[36m37\u001b[0m - \u001b[1mcontainer reboot-sdr is in Deleting state.\u001b[0m\n",
            "\u001b[32m2023-09-01 10:11:26.064\u001b[0m | \u001b[1mINFO    \u001b[0m | \u001b[36mchi.expeca\u001b[0m:\u001b[36mwait_until_container_removed\u001b[0m:\u001b[36m37\u001b[0m - \u001b[1mcontainer reboot-sdr is in None state.\u001b[0m\n"
          ]
        }
      ],
      "source": [
        "# reset sdr using the reserved worker\n",
        "sdrnet = chi.network.get_network(sdr_name+\"-rj45-net\")\n",
        "restart_sdr(sdr_name,sdrnet['id'],worker_reservation_id,\"ens1\")\n"
      ]
    },
    {
      "cell_type": "markdown",
      "source": [
        "# Run A Public Container to Test the SDR"
      ],
      "metadata": {
        "id": "Md8kUWS3Ymhb"
      }
    },
    {
      "cell_type": "markdown",
      "source": [
        "Run a public container to test the SDR via its SFP port"
      ],
      "metadata": {
        "id": "il_hsBTLlOTF"
      }
    },
    {
      "cell_type": "code",
      "source": [
        "# check public IPs and select one\n",
        "available_pub_ips = get_available_publicips()\n",
        "if len(available_pub_ips) == 0:\n",
        "  raise Exception(\"There is no available public IPs to reserve.\")\n",
        "pub_ip = available_pub_ips[0]\n",
        "logger.info(f\"Available public ips: {available_pub_ips}.\")\n",
        "logger.info(f\"We choose {pub_ip} for this container.\")\n",
        "\n",
        "# check available interfaces on the worker\n",
        "interfaces = list(get_worker_interfaces(worker_name).values())[0]\n",
        "available_ifs = []\n",
        "for interface in interfaces.keys():\n",
        "  if len(interfaces[interface]['connections']) == 0:\n",
        "    available_ifs.append(interface)\n",
        "logger.info(f\"Available interfaces on {worker_name}: {available_ifs}\")\n",
        "# we need one 10Gbps interface for the SDR,\n",
        "# and one port with any speed for the public interface\n",
        "port_10g = None\n",
        "port_any = None\n",
        "for interface in available_ifs:\n",
        "  if (port_10g is None) and (interfaces[interface]['speed'] == '10000'):\n",
        "    port_10g = interface\n",
        "    continue\n",
        "  if port_any is None:\n",
        "    port_any = interface\n",
        "if (port_10g is None) or (port_any is None):\n",
        "  logger.info(f\"{json.dumps(interfaces, indent=4)}\")\n",
        "  raise Exception(f\"Did not find proper interfaces on {worker_name}\")\n",
        "else:\n",
        "  logger.success(f\"we choose {port_10g} for the SDR and {port_any} for the public access\")\n",
        "\n",
        "# run the container\n",
        "sdrsfpnet = chi.network.get_network(sdr_name+\"-sfp-net\")\n",
        "publicnet = chi.network.get_network(\"serverpublic\")\n",
        "container_name = \"my-public-sdr-host\"\n",
        "chi.container.create_container(\n",
        "    name = container_name,\n",
        "    image = \"samiemostafavi/sshd-dind\",\n",
        "    reservation_id = worker_reservation_id,\n",
        "    environment = {\n",
        "        \"DNS_IP\":\"8.8.8.8\",\n",
        "        \"GATEWAY_IP\":\"130.237.11.97\",\n",
        "        \"PASS\":\"expeca\"\n",
        "    },\n",
        "    mounts = [],\n",
        "    nets = [\n",
        "        { \"network\" : publicnet['id'] },\n",
        "        { \"network\" : sdrsfpnet['id'] },\n",
        "    ],\n",
        "    labels = {\n",
        "        \"networks.1.interface\":port_any,\n",
        "        \"networks.1.ip\":pub_ip+\"/27\",\n",
        "        \"networks.1.gateway\":\"130.237.11.97\",\n",
        "        \"capabilities.privileged\":\"true\",\n",
        "        \"networks.2.interface\":port_10g,\n",
        "        \"networks.2.ip\":\"10.30.10.120/24\",\n",
        "    },\n",
        ")\n",
        "chi.container.wait_for_active(container_name)\n",
        "logger.success(f\"created {container_name} container, reachable at {pub_ip}.\")\n"
      ],
      "metadata": {
        "colab": {
          "base_uri": "https://localhost:8080/"
        },
        "id": "c9ZnK9DdhnEj",
        "outputId": "18a15234-82e9-4b34-e070-e464a9d7606b"
      },
      "execution_count": 10,
      "outputs": [
        {
          "output_type": "stream",
          "name": "stderr",
          "text": [
            "\u001b[32m2024-07-16 15:31:16.872\u001b[0m | \u001b[1mINFO    \u001b[0m | \u001b[36m__main__\u001b[0m:\u001b[36m<cell line: 6>\u001b[0m:\u001b[36m6\u001b[0m - \u001b[1mAvailable public ips: ['130.237.11.114', '130.237.11.115', '130.237.11.116', '130.237.11.117', '130.237.11.119', '130.237.11.120', '130.237.11.121', '130.237.11.123'].\u001b[0m\n",
            "\u001b[32m2024-07-16 15:31:16.875\u001b[0m | \u001b[1mINFO    \u001b[0m | \u001b[36m__main__\u001b[0m:\u001b[36m<cell line: 7>\u001b[0m:\u001b[36m7\u001b[0m - \u001b[1mWe choose 130.237.11.114 for this container.\u001b[0m\n",
            "\u001b[32m2024-07-16 15:31:30.267\u001b[0m | \u001b[1mINFO    \u001b[0m | \u001b[36m__main__\u001b[0m:\u001b[36m<cell line: 15>\u001b[0m:\u001b[36m15\u001b[0m - \u001b[1mAvailable interfaces on worker-01: ['eno12399', 'eno12409', 'eno12419', 'eno12429', 'ens1f1']\u001b[0m\n",
            "\u001b[32m2024-07-16 15:31:30.270\u001b[0m | \u001b[32m\u001b[1mSUCCESS \u001b[0m | \u001b[36m__main__\u001b[0m:\u001b[36m<cell line: 26>\u001b[0m:\u001b[36m30\u001b[0m - \u001b[32m\u001b[1mwe choose ens1f1 for the SDR and eno12399 for the public access\u001b[0m\n",
            "\u001b[32m2024-07-16 15:32:02.265\u001b[0m | \u001b[32m\u001b[1mSUCCESS \u001b[0m | \u001b[36m__main__\u001b[0m:\u001b[36m<cell line: 60>\u001b[0m:\u001b[36m60\u001b[0m - \u001b[32m\u001b[1mcreated my-public-sdr-host container, reachable at 130.237.11.114.\u001b[0m\n"
          ]
        }
      ]
    }
  ],
  "metadata": {
    "colab": {
      "collapsed_sections": [
        "W9YICZf_mJBy",
        "Rd4EsDjdqRFU",
        "qGLRVmiXHmf4",
        "9y4TchLY9jVx",
        "3CCjzjCT-oIl",
        "p2joHHj_EZtq"
      ],
      "provenance": [],
      "include_colab_link": true
    },
    "kernelspec": {
      "display_name": "Python 3",
      "name": "python3"
    },
    "language_info": {
      "name": "python"
    }
  },
  "nbformat": 4,
  "nbformat_minor": 0
}