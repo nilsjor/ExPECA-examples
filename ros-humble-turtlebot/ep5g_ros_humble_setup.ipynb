{
  "cells": [
    {
      "cell_type": "markdown",
      "metadata": {},
      "source": [
        "Login to Chameleon and download openrc.sh file from [here](https://testbed.expeca.proj.kth.se/project/api_access/openrc/). Upload it here next to this notebook and continue.\n",
        "\n",
        "In the next cell, we setup the authentication method to be able to use Openstack clients."
      ]
    },
    {
      "cell_type": "code",
      "execution_count": null,
      "metadata": {},
      "outputs": [],
      "source": [
        "import os, re\n",
        "from getpass import getpass\n",
        "\n",
        "with open('nils-project-openrc.sh', 'r') as f:\n",
        "    script_content = f.read()\n",
        "    pattern = r'export\\s+(\\w+)\\s*=\\s*(\"[^\"]+\"|[^\"\\n]+)'\n",
        "    matches = re.findall(pattern, script_content)\n",
        "\n",
        "    for name, value in matches:\n",
        "        os.environ[name] = value.strip('\"')\n",
        "\n",
        "# password read from file"
      ]
    },
    {
      "cell_type": "markdown",
      "metadata": {},
      "source": [
        "Install required packages and dependencies. Ignore the warnings."
      ]
    },
    {
      "cell_type": "code",
      "execution_count": null,
      "metadata": {},
      "outputs": [],
      "source": [
        "!pip uninstall -q -y moviepy\n",
        "!pip install -q jedi\n",
        "!pip install -q git+https://github.com/KTH-EXPECA/python-chi"
      ]
    },
    {
      "cell_type": "markdown",
      "metadata": {},
      "source": [
        "Import packages and define custom functions"
      ]
    },
    {
      "cell_type": "code",
      "execution_count": null,
      "metadata": {},
      "outputs": [],
      "source": [
        "import json\n",
        "from loguru import logger\n",
        "import chi.network, chi.container\n",
        "from chi.expeca import reserve, list_reservations, unreserve_byid, get_container_status, wait_until_container_removed, get_available_publicips, get_worker_interfaces, get_segment_ids\n",
        "\n",
        "def get_reservation_id_by_name(name):\n",
        "    for lease in list_reservations(brief=True):\n",
        "        if name in lease['name']:\n",
        "            return lease['reservation_id']\n",
        "\n",
        "def get_available_interface(worker_name, number=1):\n",
        "    interfaces = list(get_worker_interfaces(worker_name).values())[0]\n",
        "    available_ifs = []\n",
        "    for interface in interfaces.keys():\n",
        "        if len(interfaces[interface]['connections']) == 0:\n",
        "            available_ifs.append(interface)\n",
        "    if len(available_ifs) < number:\n",
        "        logger.info(f\"{json.dumps(interfaces, indent=4)}\")\n",
        "        raise Exception(f\"Did not find enough interfaces on {worker_name}\")\n",
        "    return sorted(available_ifs)[:number]\n",
        "\n",
        "def get_network_id_by_name(name):\n",
        "    for network in chi.network.list_networks():\n",
        "        if name in network['name']:\n",
        "            return network['id']\n",
        "    raise Exception(f\"Network {name} not found\")\n",
        "\n",
        "def get_segment_id(name):\n",
        "    result = get_segment_ids(name)\n",
        "    return next(iter(result.values()))"
      ]
    },
    {
      "cell_type": "markdown",
      "metadata": {},
      "source": [
        "Project settings"
      ]
    },
    {
      "cell_type": "code",
      "execution_count": null,
      "metadata": {},
      "outputs": [],
      "source": [
        "# Fixed IP addresses\n",
        "ep5g_gw_addr = \"10.30.111.10\"\n",
        "public_gw_addr = \"130.237.11.97\"\n",
        "ue_gw_addr = \"10.42.3.1\"\n",
        "ue_priv_addr = \"10.42.3.2\"\n",
        "ue_cidr = \"172.16.0.0/16\"\n",
        "adv_nat_addr = {\n",
        "    \"adv-01\": \"172.16.0.8\",\n",
        "    \"adv-02\": \"172.16.0.88\",\n",
        "    \"adv-03\": \"172.16.0.40\",\n",
        "    \"adv-04\": \"172.16.0.96\",\n",
        "    \"adv-05\": \"172.16.0.64\",\n",
        "    \"adv-06\": \"172.16.0.72\",\n",
        "    \"adv-07\": \"172.16.0.104\",\n",
        "    \"adv-08\": \"172.16.0.56\",\n",
        "}\n",
        "\n",
        "# User-defined edge network\n",
        "edge_cidr = \"10.70.70.0/24\"\n",
        "edge_gw_addr = \"10.70.70.1\"\n",
        "edge_h1_addr = \"10.70.70.10\"\n",
        "edge_h2_addr = \"10.70.70.20\"\n",
        "edge_h3_addr = \"10.70.70.30\"\n",
        "edge_h4_addr = \"10.70.70.40\"\n",
        "\n",
        "# Routes\n",
        "route_from_edge_to_ue = \"-\".join([ue_cidr,edge_gw_addr])\n",
        "route_from_ue_to_edge = \"-\".join([edge_cidr,ue_gw_addr])\n",
        "\n",
        "# Assigning workers\n",
        "edge_node_worker =\"worker-01\"\n",
        "ue1_node_worker = \"worker-08\"\n",
        "\n",
        "# Assigning router\n",
        "ue1_adv_name = \"adv-04\"\n",
        "ue1_nat_addr = adv_nat_addr[ue1_adv_name]"
      ]
    },
    {
      "cell_type": "markdown",
      "metadata": {},
      "source": [
        "Reserve the required equipment and resources"
      ]
    },
    {
      "cell_type": "code",
      "execution_count": null,
      "metadata": {},
      "outputs": [],
      "source": [
        "experiment_duration = {\"days\": 0, \"hours\": 16}\n",
        "\n",
        "# List of required leases with details\n",
        "required_leases = [\n",
        "    { \n",
        "        \"type\": \"network\",\n",
        "        \"name\": \"ep5g\",\n",
        "        \"net_name\": \"ep5g-vip\",\n",
        "        \"segment_id\": get_segment_id(\"ep5g\"),\n",
        "        \"duration\": experiment_duration\n",
        "    },\n",
        "    {\n",
        "        \"type\": \"network\",\n",
        "        \"name\": ue1_adv_name,\n",
        "        \"net_name\": ue1_adv_name,\n",
        "        \"segment_id\": get_segment_id(ue1_adv_name),\n",
        "        \"duration\": experiment_duration,\n",
        "    },\n",
        "    {\n",
        "        \"type\": \"device\",\n",
        "        \"name\": edge_node_worker,\n",
        "        \"duration\": experiment_duration,\n",
        "    },\n",
        "    {\n",
        "        \"type\": \"device\",\n",
        "        \"name\": ue1_node_worker,\n",
        "        \"duration\": experiment_duration,\n",
        "    },\n",
        "]\n",
        "\n",
        "# List of previously existing leases\n",
        "existing_leases = list_reservations(brief=True)\n",
        "\n",
        "# Reserve outstanding resources\n",
        "for required_lease in required_leases:\n",
        "    lease_name_with_suffix = required_lease[\"name\"] + \"-lease\"\n",
        "\n",
        "    # Check if the resource is already leased\n",
        "    is_already_leased = False\n",
        "    for existing_lease in existing_leases:\n",
        "        if existing_lease[\"name\"] == lease_name_with_suffix:\n",
        "            is_already_leased = True\n",
        "            break\n",
        "\n",
        "    # If it is already leased, check the lease status\n",
        "    if is_already_leased and existing_lease[\"status\"] == \"ACTIVE\":\n",
        "        logger.info(f\"Resource {required_lease['name']} is already leased and ACTIVE.\")\n",
        "        continue\n",
        "    if is_already_leased and existing_lease[\"status\"] == \"TERMINATED\":\n",
        "        logger.info(f\"Removing TERMINATED lease of {existing_lease['name']} before proceeding.\")\n",
        "        unreserve_byid(existing_lease[\"id\"])\n",
        "    \n",
        "    # If it is NOT already leased, reserve it (default case)\n",
        "    reserve(required_lease)"
      ]
    },
    {
      "cell_type": "markdown",
      "metadata": {},
      "source": [
        "Create networks and routers"
      ]
    },
    {
      "cell_type": "code",
      "execution_count": null,
      "metadata": {},
      "outputs": [],
      "source": [
        "# Create networks\n",
        "try: \n",
        "    edgenet = chi.network.get_network(\"edge-net\")\n",
        "    edge_subnet = chi.network.get_subnet(\"edge-subnet\")\n",
        "    logger.info(\"edge-net already exists.\")\n",
        "except:\n",
        "    edgenet = chi.network.create_network(\"edge-net\")\n",
        "    edge_subnet = chi.network.create_subnet(\n",
        "        subnet_name = \"edge-subnet\", \n",
        "        network_id = edgenet[\"id\"], \n",
        "        cidr = edge_cidr, \n",
        "        gateway_ip = edge_gw_addr, \n",
        "        enable_dhcp = False\n",
        "    )\n",
        "    logger.success(\"edge-net is created.\")\n",
        "\n",
        "# Create router from edge-net to epg5\n",
        "ep5g_net = chi.network.get_network(\"ep5g-vip-net\")\n",
        "\n",
        "try:\n",
        "    chi.network.get_router(\"edge-router\")\n",
        "    logger.info(\"Router already exists.\")\n",
        "except:\n",
        "    router = chi.network.create_router(\"edge-router\", \"public\")\n",
        "    chi.network.add_subnet_to_router(router[\"id\"], edge_subnet[\"id\"])\n",
        "    chi.network.add_subnet_to_router(router[\"id\"], ep5g_net[\"subnets\"][0])\n",
        "    chi.network.add_route_to_router(router[\"id\"], ue_cidr, ep5g_gw_addr)\n",
        "    logger.success(\"Router created and subnets added.\")"
      ]
    },
    {
      "cell_type": "markdown",
      "metadata": {},
      "source": [
        "Start server on edge"
      ]
    },
    {
      "cell_type": "code",
      "execution_count": null,
      "metadata": {},
      "outputs": [],
      "source": [
        "# edge_node_addr_public = get_available_publicips()[-1]\n",
        "# logger.info(f\"Public IP address will be {edge_node_addr_public} for this container.\")\n",
        "\n",
        "edge_node_interfaces = get_available_interface(edge_node_worker, number=2)\n",
        "logger.info(f\"Using interface(s): {edge_node_interfaces}\")\n",
        "\n",
        "edge_node_container_name = \"edge-server\"\n",
        "edge_node_image_name = \"nilsjor/ros-humble-turtlebot:husarnet-edge-server-v1.1\"\n",
        "\n",
        "with open(\"husarnet-joincode.txt\", 'r') as file:\n",
        "    edge_node_env_vars = {\n",
        "        \"HUSARNET_JOIN_CODE\": file.read().strip(),\n",
        "        \"HUSARNET_HOSTNAME\": edge_node_container_name,\n",
        "        \"DNS_IP\": \"1.1.1.1\",\n",
        "        \"GATEWAY_IP\": edge_gw_addr,\n",
        "        # \"GATEWAY_IP\": public_gw_addr,\n",
        "    }\n",
        "\n",
        "edge_node_labels = {\n",
        "    \"networks.1.interface\": edge_node_interfaces[0],\n",
        "    \"networks.1.routes\": route_from_edge_to_ue,\n",
        "    \"networks.1.ip\": edge_h1_addr + \"/24\",\n",
        "    \"networks.1.gateway\": edge_gw_addr,\n",
        "    # \"networks.2.interface\": edge_node_interfaces[1],\n",
        "    # \"networks.2.ip\": edge_node_addr_public + \"/27\",\n",
        "    # \"networks.2.gateway\": public_gw_addr,\n",
        "    \"capabilities.privileged\": \"true\",\n",
        "}\n",
        "\n",
        "try:\n",
        "    chi.container.destroy_container(edge_node_container_name)\n",
        "    wait_until_container_removed(edge_node_container_name)\n",
        "    logger.success(\"Previous container destroyed.\")\n",
        "except:\n",
        "    logger.info(\"No previous container found.\")\n",
        "\n",
        "edge_node_container = chi.container.create_container(\n",
        "    name = edge_node_container_name,\n",
        "    image = edge_node_image_name,\n",
        "    reservation_id = get_reservation_id_by_name(edge_node_worker),\n",
        "    environment = edge_node_env_vars,\n",
        "    nets = [\n",
        "        { \"network\": edgenet['id'] },\n",
        "        # { \"network\": get_network_id_by_name(\"serverpublic\") },\n",
        "    ],\n",
        "    labels = edge_node_labels,\n",
        ")\n",
        "chi.container.wait_for_active(edge_node_container_name)\n",
        "logger.success(\"Container deployed and active.\")"
      ]
    },
    {
      "cell_type": "markdown",
      "metadata": {},
      "source": [
        "Start UE1"
      ]
    },
    {
      "cell_type": "code",
      "execution_count": null,
      "metadata": {},
      "outputs": [],
      "source": [
        "ue_node_interfaces = get_available_interface(ue1_node_worker)\n",
        "logger.info(f\"Using interface(s): {ue_node_interfaces}\")\n",
        "\n",
        "ue_node_container_name = \"ue-node\"\n",
        "ue_node_image_name = \"nilsjor/ros-humble-turtlebot:husarnet-device-node-v1.1\"\n",
        "\n",
        "with open(\"husarnet-joincode.txt\", 'r') as file:\n",
        "    ue_node_env_vars = {\n",
        "        \"HUSARNET_JOIN_CODE\": file.read().strip(),\n",
        "        \"HUSARNET_HOSTNAME\": ue_node_container_name,\n",
        "        \"DNS_IP\": \"1.1.1.1\",\n",
        "        \"GATEWAY_IP\": ue_gw_addr,\n",
        "    }\n",
        "\n",
        "ue_node_labels = {\n",
        "    \"networks.1.interface\": ue_node_interfaces[0],\n",
        "    \"networks.1.ip\": ue_priv_addr + \"/24\",\n",
        "    \"networks.1.routes\": route_from_ue_to_edge,\n",
        "    \"networks.1.gateway\": ue_gw_addr,\n",
        "    \"capabilities.privileged\": \"true\",\n",
        "}\n",
        "\n",
        "try:\n",
        "    chi.container.destroy_container(ue_node_container_name)\n",
        "    wait_until_container_removed(ue_node_container_name)\n",
        "    logger.success(\"Previous container destroyed.\")\n",
        "except:\n",
        "    logger.info(\"No previous container found.\")\n",
        "\n",
        "ue_node_container = chi.container.create_container(\n",
        "    name = ue_node_container_name,\n",
        "    image = ue_node_image_name,\n",
        "    reservation_id = get_reservation_id_by_name(ue1_node_worker),\n",
        "    environment = ue_node_env_vars,\n",
        "    nets = [\n",
        "        { \"network\": get_network_id_by_name(ue1_adv_name) },\n",
        "    ],\n",
        "    labels = ue_node_labels,\n",
        ")\n",
        "\n",
        "chi.container.wait_for_active(ue_node_container_name)\n",
        "logger.success(\"Container deployed and active.\")"
      ]
    },
    {
      "cell_type": "markdown",
      "metadata": {},
      "source": [
        "TODO: Reconfigure router to disconnect UE1 from the public internet"
      ]
    },
    {
      "cell_type": "code",
      "execution_count": null,
      "metadata": {},
      "outputs": [],
      "source": []
    },
    {
      "cell_type": "markdown",
      "metadata": {},
      "source": [
        "## Teardown"
      ]
    },
    {
      "cell_type": "markdown",
      "metadata": {},
      "source": [
        "Destroy all containers"
      ]
    },
    {
      "cell_type": "code",
      "execution_count": null,
      "metadata": {},
      "outputs": [],
      "source": [
        "try:\n",
        "    status = get_container_status(edge_node_container_name)\n",
        "    chi.container.destroy_container(edge_node_container_name)\n",
        "    wait_until_container_removed(edge_node_container_name)\n",
        "except:\n",
        "    logger.info(\"No edge-node container found.\")\n",
        "\n",
        "try:\n",
        "    status = get_container_status(ue_node_container_name)\n",
        "    chi.container.destroy_container(ue_node_container_name)\n",
        "    wait_until_container_removed(ue_node_container_name)\n",
        "except:\n",
        "    logger.info(\"No ue-node container found.\")\n",
        "\n",
        "logger.info(\"Stopped and removed all containers\")"
      ]
    },
    {
      "cell_type": "markdown",
      "metadata": {},
      "source": [
        "Manually check if any dangling ports are left behind. Enter their ID (not name) in the next cell and run it to delete them."
      ]
    },
    {
      "cell_type": "code",
      "execution_count": null,
      "metadata": {},
      "outputs": [],
      "source": [
        "dangling_ports = [\n",
        "    \n",
        "]\n",
        "\n",
        "for port in dangling_ports:\n",
        "    try:\n",
        "        chi.network.delete_port(port)\n",
        "    except:\n",
        "        logger.info(f\"Port {port} not found.\")"
      ]
    },
    {
      "cell_type": "markdown",
      "metadata": {},
      "source": [
        "Proceed to clean up the rest of the project."
      ]
    },
    {
      "cell_type": "code",
      "execution_count": null,
      "metadata": {},
      "outputs": [],
      "source": [
        "# find the router again\n",
        "router = None\n",
        "try:\n",
        "    router = chi.network.get_router(\"edge-router\")\n",
        "except Exception as ex:\n",
        "    logger.info(\"Could not find edge-router.\")\n",
        "\n",
        "if router:\n",
        "    # remove all routes from the router\n",
        "    chi.network.remove_all_routes_from_router(router[\"id\"])\n",
        "    logger.success(\"Removed all routes from router.\")\n",
        "\n",
        "    # remove all subnets from the router\n",
        "    subnets = chi.network.list_subnets()\n",
        "    logger.info(f\"Checking all {len(subnets)} subnets.\")\n",
        "    for subnet in subnets:\n",
        "        try:\n",
        "            chi.network.remove_subnet_from_router(router[\"id\"],subnet[\"id\"])\n",
        "        except Exception as ex:\n",
        "            pass\n",
        "    logger.success(\"Removed all subnets from router\")\n",
        "\n",
        "    chi.network.delete_router(router[\"id\"])\n",
        "    logger.success(\"Deleted the router\")\n",
        "\n",
        "edgenet = None\n",
        "try:\n",
        "    edgenet = chi.network.get_network(\"edge-net\")\n",
        "except Exception as ex:\n",
        "    logger.info(\"Could not find edge-net.\")\n",
        "\n",
        "if edgenet:\n",
        "    chi.network.delete_network(edgenet[\"id\"])\n",
        "    logger.success(\"Deleted the edge-net\")"
      ]
    },
    {
      "cell_type": "markdown",
      "metadata": {},
      "source": [
        "Terminate reservations"
      ]
    },
    {
      "cell_type": "code",
      "execution_count": null,
      "metadata": {},
      "outputs": [],
      "source": [
        "leaseslist = list_reservations(brief=True)\n",
        "for lease in leaseslist:\n",
        "    unreserve_byid(lease[\"id\"])\n",
        "    logger.success(\"Removed \" + lease[\"name\"])\n",
        "\n",
        "logger.info(\"no leases remaining.\")"
      ]
    }
  ],
  "metadata": {
    "kernelspec": {
      "display_name": "Python 3",
      "name": "python3"
    },
    "language_info": {
      "codemirror_mode": {
        "name": "ipython",
        "version": 3
      },
      "file_extension": ".py",
      "mimetype": "text/x-python",
      "name": "python",
      "nbconvert_exporter": "python",
      "pygments_lexer": "ipython3",
      "version": "3.9.5"
    }
  },
  "nbformat": 4,
  "nbformat_minor": 0
}
