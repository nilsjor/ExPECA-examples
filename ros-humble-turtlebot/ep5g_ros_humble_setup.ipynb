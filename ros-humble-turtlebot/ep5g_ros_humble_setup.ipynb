{
  "cells": [
    {
      "cell_type": "markdown",
      "metadata": {},
      "source": [
        "Login to Chameleon and download openrc.sh file from [here](https://testbed.expeca.proj.kth.se/project/api_access/openrc/). Upload it here next to this notebook and continue.\n",
        "\n",
        "In the next cell, we setup the authentication method to be able to use Openstack clients."
      ]
    },
    {
      "cell_type": "code",
      "execution_count": null,
      "metadata": {},
      "outputs": [],
      "source": [
        "import os, re\n",
        "from getpass import getpass\n",
        "\n",
        "with open('nils-project-openrc.sh', 'r') as f:\n",
        "    script_content = f.read()\n",
        "    pattern = r'export\\s+(\\w+)\\s*=\\s*(\"[^\"]+\"|[^\"\\n]+)'\n",
        "    matches = re.findall(pattern, script_content)\n",
        "\n",
        "    for name, value in matches:\n",
        "        os.environ[name] = value.strip('\"')\n",
        "\n",
        "# password read from file"
      ]
    },
    {
      "cell_type": "markdown",
      "metadata": {},
      "source": [
        "Install required packages and dependencies. Ignore the warnings."
      ]
    },
    {
      "cell_type": "code",
      "execution_count": null,
      "metadata": {},
      "outputs": [],
      "source": [
        "!pip uninstall -q -y moviepy\n",
        "!pip install -q jedi\n",
        "!pip install -q git+https://github.com/KTH-EXPECA/python-chi"
      ]
    },
    {
      "cell_type": "markdown",
      "metadata": {},
      "source": [
        "Import packages"
      ]
    },
    {
      "cell_type": "code",
      "execution_count": null,
      "metadata": {},
      "outputs": [],
      "source": [
        "import json\n",
        "from loguru import logger\n",
        "import chi.network, chi.container\n",
        "from chi.expeca import reserve, list_reservations, unreserve_byid, get_container_status, wait_until_container_removed, get_available_publicips, get_worker_interfaces"
      ]
    },
    {
      "cell_type": "markdown",
      "metadata": {},
      "source": [
        "Reserve the required equipment and resources"
      ]
    },
    {
      "cell_type": "code",
      "execution_count": null,
      "metadata": {},
      "outputs": [],
      "source": [
        "experiment_duration = {\"days\": 1, \"hours\": 0}\n",
        "\n",
        "# List of required leases with details\n",
        "required_leases = [\n",
        "    { \n",
        "        \"type\": \"network\",\n",
        "        \"name\": \"ep5g\",\n",
        "        \"net_name\": \"ep5g-vip\",\n",
        "        \"segment_id\": \"100\",\n",
        "        \"duration\": experiment_duration\n",
        "    },\n",
        "    {\n",
        "        \"type\": \"network\",\n",
        "        \"name\": \"adv-04\",\n",
        "        \"net_name\": \"adv-04\",\n",
        "        \"segment_id\": \"134\",\n",
        "        \"duration\": experiment_duration,\n",
        "    },\n",
        "    {\n",
        "        \"type\": \"device\",\n",
        "        \"name\": \"worker-08\",\n",
        "        \"duration\": experiment_duration,\n",
        "    },\n",
        "    {\n",
        "        \"type\": \"device\",\n",
        "        \"name\": \"worker-03\",\n",
        "        \"duration\": experiment_duration,\n",
        "    },\n",
        "]\n",
        "\n",
        "# List of previously existing leases\n",
        "existing_leases = list_reservations(brief=True)\n",
        "\n",
        "# Reserve outstanding resources\n",
        "for required_lease in required_leases:\n",
        "    lease_name_with_suffix = required_lease[\"name\"] + \"-lease\"\n",
        "    is_already_leased = any(\n",
        "        existing_lease[\"name\"] == lease_name_with_suffix \n",
        "        and existing_lease[\"status\"] == \"ACTIVE\" \n",
        "        for existing_lease in existing_leases\n",
        "    )\n",
        "    if is_already_leased:\n",
        "        logger.info(f\"Resource {required_lease['name']} is already leased.\")\n",
        "        continue\n",
        "    else:\n",
        "        reserve(required_lease)\n",
        "\n",
        "def get_reservation_id_by_name(name):\n",
        "    for lease in list_reservations(brief=True):\n",
        "        if name in lease['name']:\n",
        "            return lease['reservation_id']"
      ]
    },
    {
      "cell_type": "markdown",
      "metadata": {},
      "source": [
        "Create networks"
      ]
    },
    {
      "cell_type": "code",
      "execution_count": null,
      "metadata": {},
      "outputs": [],
      "source": [
        "# Create nils-edgenet for talker\n",
        "try: \n",
        "    edgenet = chi.network.get_network(\"nils-edgenet\")\n",
        "    edgenet_subnet = chi.network.get_subnet(\"nils-edgenet-subnet\")\n",
        "    logger.info(\"nils-edgenet already exists.\")\n",
        "except:\n",
        "    edgenet = chi.network.create_network(\"nils-edgenet\")\n",
        "    edgenet_subnet = chi.network.create_subnet(\n",
        "        \"nils-edgenet-subnet\", \n",
        "        edgenet[\"id\"], \n",
        "        \"10.70.70.0/24\", \n",
        "        gateway_ip=\"10.70.70.1\", \n",
        "        enable_dhcp=False\n",
        "    )\n",
        "    logger.success(\"nils-edgenet is created.\")"
      ]
    },
    {
      "cell_type": "markdown",
      "metadata": {},
      "source": [
        "Create routers"
      ]
    },
    {
      "cell_type": "code",
      "execution_count": null,
      "metadata": {},
      "outputs": [],
      "source": [
        "ep5gnet = chi.network.get_network(\"ep5g-vip-net\")\n",
        "\n",
        "try:\n",
        "    chi.network.get_router(\"nils-router\")\n",
        "    logger.info(\"Router already exists.\")\n",
        "except:\n",
        "    router = chi.network.create_router(\"nils-router\", \"public\")\n",
        "    chi.network.add_subnet_to_router(router[\"id\"], edgenet_subnet[\"id\"])\n",
        "    chi.network.add_subnet_to_router(router[\"id\"], ep5gnet[\"subnets\"][0])\n",
        "    chi.network.add_route_to_router(router[\"id\"],\"172.16.0.0/16\",\"10.30.111.10\")\n",
        "    logger.success(\"Router created and subnets added.\")"
      ]
    },
    {
      "cell_type": "markdown",
      "metadata": {},
      "source": [
        "Project settings"
      ]
    },
    {
      "cell_type": "code",
      "execution_count": null,
      "metadata": {},
      "outputs": [],
      "source": [
        "discovery_addr = \"10.70.70.80\"\n",
        "talker_addr = \"10.70.70.90\"\n",
        "listener_addr = \"10.42.3.2\"\n",
        "listener_nat_addr = \"172.16.0.96\"\n",
        "\n",
        "discovery_addr_l2tp = \"172.18.0.2\"\n",
        "listener_addr_l2tp = \"172.18.0.3\"\n",
        "broadcast_addr_l2tp = \"172.18.0.255\"\n",
        "\n",
        "discovery_worker =\"worker-03\"\n",
        "talker_worker = \"worker-03\"\n",
        "listener_worker = \"worker-08\""
      ]
    },
    {
      "cell_type": "markdown",
      "metadata": {},
      "source": [
        "Start discovery-server"
      ]
    },
    {
      "cell_type": "code",
      "execution_count": null,
      "metadata": {},
      "outputs": [],
      "source": [
        "discovery_container_name = \"discovery-server\"\n",
        "\n",
        "try:\n",
        "    chi.container.destroy_container(discovery_container_name)\n",
        "    wait_until_container_removed(discovery_container_name)\n",
        "    logger.success(\"Previous container destroyed.\")\n",
        "except:\n",
        "    logger.info(\"No previous container found.\")\n",
        "\n",
        "public_net = chi.network.get_network(\"serverpublic\")\n",
        "\n",
        "# check public IPs and select one\n",
        "available_ips = get_available_publicips()\n",
        "discovery_addr_public = available_ips[-1]\n",
        "logger.info(f\"Public IP address is {discovery_addr_public} for this container.\")\n",
        "\n",
        "discovery_image_name = \"nilsjor/ros-humble-turtlebot:discovery-v0.8\"\n",
        "\n",
        "discovery_env_vars = {\n",
        "    \"ROS_DISCOVERY_SERVER\":\"localhost:11811\",\n",
        "    \"DNS_IP\":\"1.1.1.1\",\n",
        "    \"GATEWAY_IP\":\"130.237.11.97\",\n",
        "    \"PASS\":\"turtlebot\",\n",
        "    \"L2TP_LOCAL_IP\":discovery_addr,\n",
        "    \"L2TP_REMOTE_IP\":listener_nat_addr,\n",
        "    \"L2TP_ENDPOINT_CIDR\":f\"{discovery_addr_l2tp}/24\",\n",
        "    \"L2TP_BROADCAST\":broadcast_addr_l2tp,\n",
        "}\n",
        "\n",
        "discovery_labels = {\n",
        "    \"networks.1.interface\":\"eno12399np0\",\n",
        "    \"networks.1.routes\":\"172.16.0.0/16-10.70.70.1\",\n",
        "    \"networks.1.ip\":f\"{discovery_addr}/24\",\n",
        "    \"networks.2.interface\":\"ens1f1\",\n",
        "    \"networks.2.ip\":f\"{discovery_addr_public}/27\",\n",
        "    \"networks.2.gateway\":\"130.237.11.97\",\n",
        "    \"capabilities.privileged\":\"true\",\n",
        "}\n",
        "\n",
        "discovery_container = chi.container.create_container(\n",
        "    name = discovery_container_name,\n",
        "    image = discovery_image_name,\n",
        "    reservation_id = get_reservation_id_by_name(discovery_worker),\n",
        "    environment = discovery_env_vars,\n",
        "    nets = [\n",
        "        { \"network\" : edgenet['id'] },\n",
        "        { \"network\" : public_net['id'] },\n",
        "    ],\n",
        "    labels = discovery_labels,\n",
        ")\n",
        "chi.container.wait_for_active(discovery_container_name)\n",
        "logger.success(\"Container deployed and active.\")"
      ]
    },
    {
      "cell_type": "markdown",
      "metadata": {},
      "source": [
        "Start talker"
      ]
    },
    {
      "cell_type": "code",
      "execution_count": null,
      "metadata": {},
      "outputs": [],
      "source": [
        "talker_image_name = \"nilsjor/ros-humble-turtlebot:talker-v0.5\"\n",
        "\n",
        "talker_env_vars = {\n",
        "    \"ROS_DISCOVERY_SERVER\":f\"{discovery_addr}:11811\",\n",
        "}\n",
        "\n",
        "talker_labels = {\n",
        "    \"networks.1.interface\":\"eno12409np1\",\n",
        "    \"networks.1.routes\":\"172.16.0.0/16-10.70.70.1\",\n",
        "    \"networks.1.ip\":f\"{talker_addr}/24\",\n",
        "}\n",
        "\n",
        "talker_container_name = \"talker\"\n",
        "\n",
        "try:\n",
        "    chi.container.destroy_container(talker_container_name)\n",
        "    wait_until_container_removed(talker_container_name)\n",
        "    logger.success(\"Previous container destroyed.\")\n",
        "except:\n",
        "    logger.info(\"No previous container found.\")\n",
        "\n",
        "talker_container = chi.container.create_container(\n",
        "    name = talker_container_name,\n",
        "    image = talker_image_name,\n",
        "    reservation_id = get_reservation_id_by_name(talker_worker),\n",
        "    environment = talker_env_vars,\n",
        "    nets = [\n",
        "        { \"network\" : edgenet['id'] },\n",
        "    ],\n",
        "    labels = talker_labels,\n",
        ")\n",
        "\n",
        "chi.container.wait_for_active(talker_container_name)\n",
        "logger.success(\"Container deployed and active.\")"
      ]
    },
    {
      "cell_type": "markdown",
      "metadata": {},
      "source": [
        "Start listener"
      ]
    },
    {
      "cell_type": "code",
      "execution_count": null,
      "metadata": {},
      "outputs": [],
      "source": [
        "devicenet = chi.network.get_network(\"adv-04-net\")\n",
        "\n",
        "listener_image_name = \"nilsjor/ros-humble-turtlebot:listener-v0.7\"\n",
        "\n",
        "listener_env_vars = {\n",
        "    \"ROS_DISCOVERY_SERVER\":f\"{discovery_addr_l2tp}:11811\",\n",
        "    \"L2TP_LOCAL_IP\":listener_addr, #TODO: test with listener_nat_addr as well...\n",
        "    \"L2TP_REMOTE_IP\":discovery_addr,\n",
        "    \"L2TP_ENDPOINT_CIDR\":f\"{listener_addr_l2tp}/24\",\n",
        "    \"L2TP_BROADCAST\":broadcast_addr_l2tp,\n",
        "}\n",
        "\n",
        "listener_labels = {\n",
        "    \"networks.1.interface\":\"eno12409\",\n",
        "    \"networks.1.ip\":f\"{listener_addr}/24\",\n",
        "    \"networks.1.routes\":\"10.70.70.0/24-10.42.3.1\",\n",
        "    \"capabilities.privileged\":\"true\",\n",
        "}\n",
        "\n",
        "listener_container_name = \"listener\"\n",
        "\n",
        "try:\n",
        "    chi.container.destroy_container(listener_container_name)\n",
        "    wait_until_container_removed(listener_container_name)\n",
        "    logger.success(\"Previous container destroyed.\")\n",
        "except:\n",
        "    logger.info(\"No previous container found.\")\n",
        "\n",
        "listener_container = chi.container.create_container(\n",
        "    name = listener_container_name,\n",
        "    image = listener_image_name,\n",
        "    reservation_id = get_reservation_id_by_name(listener_worker),\n",
        "    environment = listener_env_vars,\n",
        "    nets = [\n",
        "        { \"network\" : devicenet['id'] },\n",
        "    ],\n",
        "    labels = listener_labels,\n",
        ")\n",
        "\n",
        "chi.container.wait_for_active(listener_container_name)\n",
        "logger.success(\"Container deployed and active.\")"
      ]
    },
    {
      "cell_type": "code",
      "execution_count": null,
      "metadata": {},
      "outputs": [],
      "source": [
        "command = \"tcpdump -i net1\"\n",
        "result = chi.container.execute(\n",
        "    container_ref=discovery_container_name,\n",
        "    command=\"curl -s -X POST -H \\\"Content-Type: application/json\\\" -d '{\\\"cmd\\\": \\\"\" + command + \"\\\"}' http://localhost:50505/\",\n",
        ")\n",
        "logger.info(f\"{result}\")"
      ]
    },
    {
      "cell_type": "markdown",
      "metadata": {},
      "source": [
        "## Teardown"
      ]
    },
    {
      "cell_type": "markdown",
      "metadata": {},
      "source": [
        "Destroy all containers"
      ]
    },
    {
      "cell_type": "code",
      "execution_count": null,
      "metadata": {},
      "outputs": [],
      "source": [
        "try:\n",
        "    status = get_container_status(discovery_container_name)\n",
        "    chi.container.destroy_container(discovery_container_name)\n",
        "    wait_until_container_removed(discovery_container_name)\n",
        "except:\n",
        "    logger.info(\"No discovery container found.\")\n",
        "\n",
        "try:\n",
        "    status = get_container_status(talker_container_name)\n",
        "    chi.container.destroy_container(talker_container_name)\n",
        "    wait_until_container_removed(talker_container_name)\n",
        "except:\n",
        "    logger.info(\"No talker container found.\")\n",
        "\n",
        "try:\n",
        "    status = get_container_status(listener_container_name)\n",
        "    chi.container.destroy_container(listener_container_name)\n",
        "    wait_until_container_removed(listener_container_name)\n",
        "except:\n",
        "    logger.info(\"No listener container found.\")\n",
        "\n",
        "logger.info(f\"stopped and removed all containers\")"
      ]
    },
    {
      "cell_type": "markdown",
      "metadata": {},
      "source": [
        "Manually check if any \"ghost\" ports are left behind. Enter their ID (not name) in the next cell and run it to delete them."
      ]
    },
    {
      "cell_type": "code",
      "execution_count": null,
      "metadata": {},
      "outputs": [],
      "source": [
        "ghost_ports = [\n",
        "    \"281971be-4302-42f0-a3ab-394bff94ff12\",\n",
        "\n",
        "]\n",
        "for port in ghost_ports:\n",
        "    try:\n",
        "    chi.network.delete_port(port)\n",
        "except:\n",
        "    logger.info(f\"Port {port} not found.\")"
      ]
    },
    {
      "cell_type": "markdown",
      "metadata": {},
      "source": [
        "Proceed to clean up the rest of the project."
      ]
    },
    {
      "cell_type": "code",
      "execution_count": null,
      "metadata": {},
      "outputs": [],
      "source": [
        "# find the router again\n",
        "router = None\n",
        "try:\n",
        "    router = chi.network.get_router(\"nils-router\")\n",
        "except Exception as ex:\n",
        "    logger.info(f\"could not find nils-router.\")\n",
        "\n",
        "if router:\n",
        "    # remove all routes from the router\n",
        "    chi.network.remove_all_routes_from_router(router[\"id\"])\n",
        "    logger.success(f\"removed all routers from router\")\n",
        "\n",
        "    # remove all subnets from the router\n",
        "    subnets = chi.network.list_subnets()\n",
        "    logger.info(f\"checking all {len(subnets)} subnets.\")\n",
        "    for subnet in subnets:\n",
        "        try:\n",
        "            chi.network.remove_subnet_from_router(router[\"id\"],subnet[\"id\"])\n",
        "        except Exception as ex:\n",
        "            pass\n",
        "    logger.success(f\"removed all subnets from router\")\n",
        "\n",
        "    chi.network.delete_router(router[\"id\"])\n",
        "    logger.success(f\"deleted the router\")\n",
        "\n",
        "edgenet = None\n",
        "try:\n",
        "    edgenet = chi.network.get_network(\"nils-edgenet\")\n",
        "except Exception as ex:\n",
        "    logger.info(f\"could not find nils-edgenet.\")\n",
        "\n",
        "if edgenet:\n",
        "    chi.network.delete_network(edgenet[\"id\"])\n",
        "    logger.success(f\"deleted the nils-edgenet\")"
      ]
    },
    {
      "cell_type": "markdown",
      "metadata": {},
      "source": [
        "Terminate reservations"
      ]
    },
    {
      "cell_type": "code",
      "execution_count": null,
      "metadata": {},
      "outputs": [],
      "source": [
        "leaseslist = list_reservations(brief=True)\n",
        "for lease in leaseslist:\n",
        "    unreserve_byid(lease[\"id\"])\n",
        "    logger.success(\"Removed \" + lease[\"name\"])\n",
        "\n",
        "logger.info(\"no leases remaining.\")"
      ]
    }
  ],
  "metadata": {
    "kernelspec": {
      "display_name": "Python 3",
      "name": "python3"
    },
    "language_info": {
      "codemirror_mode": {
        "name": "ipython",
        "version": 3
      },
      "file_extension": ".py",
      "mimetype": "text/x-python",
      "name": "python",
      "nbconvert_exporter": "python",
      "pygments_lexer": "ipython3",
      "version": "3.9.5"
    }
  },
  "nbformat": 4,
  "nbformat_minor": 0
}
