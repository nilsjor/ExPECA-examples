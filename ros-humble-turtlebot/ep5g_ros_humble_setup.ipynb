{
  "cells": [
    {
      "cell_type": "markdown",
      "metadata": {},
      "source": [
        "Login to Chameleon and download openrc.sh file from [here](https://testbed.expeca.proj.kth.se/project/api_access/openrc/). Upload it here next to this notebook and continue.\n",
        "\n",
        "In the next cell, we setup the authentication method to be able to use Openstack clients."
      ]
    },
    {
      "cell_type": "code",
      "execution_count": null,
      "metadata": {},
      "outputs": [],
      "source": [
        "import os, re\n",
        "from getpass import getpass\n",
        "\n",
        "with open('nils-project-openrc.sh', 'r') as f:\n",
        "    script_content = f.read()\n",
        "    pattern = r'export\\s+(\\w+)\\s*=\\s*(\"[^\"]+\"|[^\"\\n]+)'\n",
        "    matches = re.findall(pattern, script_content)\n",
        "\n",
        "    for name, value in matches:\n",
        "        os.environ[name] = value.strip('\"')\n",
        "\n",
        "# password read from file"
      ]
    },
    {
      "cell_type": "markdown",
      "metadata": {},
      "source": [
        "Install required packages and dependencies. Ignore the warnings."
      ]
    },
    {
      "cell_type": "code",
      "execution_count": null,
      "metadata": {},
      "outputs": [],
      "source": [
        "!pip uninstall -q -y moviepy\n",
        "!pip install -q jedi\n",
        "!pip install -q git+https://github.com/KTH-EXPECA/python-chi"
      ]
    },
    {
      "cell_type": "markdown",
      "metadata": {},
      "source": [
        "Import packages"
      ]
    },
    {
      "cell_type": "code",
      "execution_count": null,
      "metadata": {},
      "outputs": [],
      "source": [
        "import json\n",
        "from loguru import logger\n",
        "import chi.network, chi.container\n",
        "from chi.expeca import reserve, list_reservations, unreserve_byid, get_container_status, wait_until_container_removed, get_available_publicips, get_worker_interfaces"
      ]
    },
    {
      "cell_type": "markdown",
      "metadata": {},
      "source": [
        "Reserve the required equipment and resources"
      ]
    },
    {
      "cell_type": "code",
      "execution_count": null,
      "metadata": {},
      "outputs": [],
      "source": [
        "experiment_duration = {\"days\": 1, \"hours\": 0}\n",
        "\n",
        "# List of required leases with details\n",
        "required_leases = [\n",
        "    { \n",
        "        \"type\": \"network\",\n",
        "        \"name\": \"ep5g\",\n",
        "        \"net_name\": \"ep5g-vip\",\n",
        "        \"segment_id\": \"100\",\n",
        "        \"duration\": experiment_duration\n",
        "    },\n",
        "    {\n",
        "        \"type\": \"network\",\n",
        "        \"name\": \"adv-04\",\n",
        "        \"net_name\": \"adv-04\",\n",
        "        \"segment_id\": \"134\",\n",
        "        \"duration\": experiment_duration,\n",
        "    },\n",
        "    {\n",
        "        \"type\": \"device\",\n",
        "        \"name\": \"worker-08\",\n",
        "        \"duration\": experiment_duration,\n",
        "    },\n",
        "    {\n",
        "        \"type\": \"device\",\n",
        "        \"name\": \"worker-03\",\n",
        "        \"duration\": experiment_duration,\n",
        "    },\n",
        "]\n",
        "\n",
        "# List of previously existing leases\n",
        "existing_leases = list_reservations(brief=True)\n",
        "\n",
        "# Reserve outstanding resources\n",
        "for required_lease in required_leases:\n",
        "    lease_name_with_suffix = required_lease[\"name\"] + \"-lease\"\n",
        "    is_already_leased = any(\n",
        "        existing_lease[\"name\"] == lease_name_with_suffix \n",
        "        and existing_lease[\"status\"] == \"ACTIVE\" \n",
        "        for existing_lease in existing_leases\n",
        "    )\n",
        "    if is_already_leased:\n",
        "        logger.info(f\"Resource {required_lease['name']} is already leased.\")\n",
        "        continue\n",
        "    else:\n",
        "        reserve(required_lease)\n",
        "\n",
        "def get_reservation_id_by_name(name):\n",
        "    for lease in list_reservations(brief=True):\n",
        "        if name in lease['name']:\n",
        "            return lease['reservation_id']"
      ]
    },
    {
      "cell_type": "markdown",
      "metadata": {},
      "source": [
        "Project settings"
      ]
    },
    {
      "cell_type": "code",
      "execution_count": null,
      "metadata": {},
      "outputs": [],
      "source": [
        "# User-defined edge network\n",
        "edge_cidr = \"10.70.70.0/24\"\n",
        "edge_gw_addr = \"10.70.70.1\"\n",
        "edge_h1_addr = \"10.70.70.10\"\n",
        "edge_h2_addr = \"10.70.70.20\"\n",
        "edge_h3_addr = \"10.70.70.30\"\n",
        "edge_h4_addr = \"10.70.70.40\"\n",
        "\n",
        "# Fixed IP addresses\n",
        "ue_gw_addr = \"10.42.3.1\"\n",
        "ue_priv_addr = \"10.42.3.2\"\n",
        "ep5g_gw_addr = \"10.30.111.10\"\n",
        "public_gw_addr = \"130.237.11.97\"\n",
        "ue_nat_cidr = \"172.16.0.0/16\"\n",
        "ue1_nat_addr = \"172.16.0.96\"   # adv-04\n",
        "ue2_nat_addr = \"172.16.0.64\"   # adv-05\n",
        "\n",
        "# Routes\n",
        "route_towards_ue = \"-\".join([ue_nat_cidr,edge_gw_addr])\n",
        "route_towards_edge = \"-\".join([edge_cidr,ue_gw_addr])\n",
        "\n",
        "# User-defined L2TP addresses\n",
        "l2tp_cidr = \"172.18.0.0/24\"\n",
        "l2tp_h1_addr = \"172.18.0.2\"\n",
        "l2tp_h2_addr = \"172.18.0.3\"\n",
        "\n",
        "# Assigning workers\n",
        "discovery_worker =\"worker-03\"\n",
        "edge_node_worker = \"worker-03\"\n",
        "ue1_node_worker = \"worker-08\"\n",
        "ue2_node_worker = \"worker-08\""
      ]
    },
    {
      "cell_type": "markdown",
      "metadata": {},
      "source": [
        "Create networks"
      ]
    },
    {
      "cell_type": "code",
      "execution_count": null,
      "metadata": {},
      "outputs": [],
      "source": [
        "# Create edge-net for talker\n",
        "try: \n",
        "    edgenet = chi.network.get_network(\"edge-net\")\n",
        "    edge_subnet = chi.network.get_subnet(\"edge-subnet\")\n",
        "    logger.info(\"edge-net already exists.\")\n",
        "except:\n",
        "    edgenet = chi.network.create_network(\"edge-net\")\n",
        "    edge_subnet = chi.network.create_subnet(\n",
        "        subnet_name = \"edge-subnet\", \n",
        "        network_id = edgenet[\"id\"], \n",
        "        cidr = edge_cidr, \n",
        "        gateway_ip = edge_gw_addr, \n",
        "        enable_dhcp = False\n",
        "    )\n",
        "    logger.success(\"edge-net is created.\")"
      ]
    },
    {
      "cell_type": "markdown",
      "metadata": {},
      "source": [
        "Create routers"
      ]
    },
    {
      "cell_type": "code",
      "execution_count": null,
      "metadata": {},
      "outputs": [],
      "source": [
        "ep5g_net = chi.network.get_network(\"ep5g-vip-net\")\n",
        "\n",
        "try:\n",
        "    chi.network.get_router(\"edge-router\")\n",
        "    logger.info(\"Router already exists.\")\n",
        "except:\n",
        "    router = chi.network.create_router(\"edge-router\", \"public\")\n",
        "    chi.network.add_subnet_to_router(router[\"id\"], edge_subnet[\"id\"])\n",
        "    chi.network.add_subnet_to_router(router[\"id\"], ep5g_net[\"subnets\"][0])\n",
        "    chi.network.add_route_to_router(router[\"id\"],\"172.16.0.0/16\",\"10.30.111.10\")\n",
        "    logger.success(\"Router created and subnets added.\")"
      ]
    },
    {
      "cell_type": "markdown",
      "metadata": {},
      "source": [
        "Start discovery-server on edge (\"host 1\")"
      ]
    },
    {
      "cell_type": "code",
      "execution_count": null,
      "metadata": {},
      "outputs": [],
      "source": [
        "available_ips = get_available_publicips()\n",
        "discovery_addr_public = available_ips[-1]\n",
        "logger.info(f\"Public IP address will be {discovery_addr_public} for this container.\")\n",
        "\n",
        "discovery_container_name = \"discovery-server\"\n",
        "discovery_image_name = \"nilsjor/ros-humble-turtlebot:discovery-v0.7\"\n",
        "\n",
        "discovery_addr = edge_h1_addr\n",
        "discovery_addr_l2tp = l2tp_h1_addr\n",
        "tunnel_dest_addr = ue1_nat_addr\n",
        "\n",
        "discovery_env_vars = {\n",
        "    \"ROS_DISCOVERY_SERVER\": \"localhost:11811\",\n",
        "    \"DNS_IP\": \"1.1.1.1\",\n",
        "    \"GATEWAY_IP\": public_gw_addr,\n",
        "    \"PASS\": \"turtlebot\",\n",
        "    \"L2TP_LOCAL_IP\": discovery_addr,\n",
        "    \"L2TP_REMOTE_IP\": tunnel_dest_addr,\n",
        "    \"L2TP_ENDPOINT_CIDR\": discovery_addr_l2tp + \"/24\",\n",
        "}\n",
        "\n",
        "discovery_labels = {\n",
        "    \"networks.1.interface\": \"eno12399np0\",\n",
        "    \"networks.1.routes\": route_towards_ue,\n",
        "    \"networks.1.ip\": discovery_addr + \"/24\",\n",
        "    \"networks.2.interface\": \"ens1f1\",\n",
        "    \"networks.2.ip\": discovery_addr_public + \"/27\",\n",
        "    \"networks.2.gateway\": public_gw_addr,\n",
        "    \"capabilities.privileged\": \"true\",\n",
        "}\n",
        "\n",
        "try:\n",
        "    chi.container.destroy_container(discovery_container_name)\n",
        "    wait_until_container_removed(discovery_container_name)\n",
        "    logger.success(\"Previous container destroyed.\")\n",
        "except:\n",
        "    logger.info(\"No previous container found.\")\n",
        "\n",
        "discovery_container = chi.container.create_container(\n",
        "    name = discovery_container_name,\n",
        "    image = discovery_image_name,\n",
        "    reservation_id = get_reservation_id_by_name(discovery_worker),\n",
        "    environment = discovery_env_vars,\n",
        "    nets = [\n",
        "        { \"network\": edgenet['id'] },\n",
        "        { \"network\": chi.network.get_network(\"serverpublic\")['id'] },\n",
        "    ],\n",
        "    labels = discovery_labels,\n",
        ")\n",
        "chi.container.wait_for_active(discovery_container_name)\n",
        "logger.success(\"Container deployed and active.\")\n",
        "\n",
        "# chi.container.execute(discovery_container_name, \"ip link set eth0 down\")"
      ]
    },
    {
      "cell_type": "markdown",
      "metadata": {},
      "source": [
        "Start edge node (\"host 2\")"
      ]
    },
    {
      "cell_type": "code",
      "execution_count": null,
      "metadata": {},
      "outputs": [],
      "source": [
        "edge_node_container_name = \"listener-edge\"\n",
        "edge_node_image_name = \"nilsjor/ros-humble-turtlebot:listener-v0.5\"\n",
        "\n",
        "edge_node_env_vars = {\n",
        "    \"ROS_DISCOVERY_SERVER\": discovery_addr + \":11811\",\n",
        "}\n",
        "\n",
        "edge_node_labels = {\n",
        "    \"networks.1.interface\": \"eno12409np1\",\n",
        "    \"networks.1.routes\": route_towards_ue,\n",
        "    \"networks.1.ip\": edge_h2_addr + \"/24\",\n",
        "    \"capabilities.privileged\": \"true\",\n",
        "}\n",
        "\n",
        "try:\n",
        "    chi.container.destroy_container(edge_node_container_name)\n",
        "    wait_until_container_removed(edge_node_container_name)\n",
        "    logger.success(\"Previous container destroyed.\")\n",
        "except:\n",
        "    logger.info(\"No previous container found.\")\n",
        "\n",
        "edge_node_container = chi.container.create_container(\n",
        "    name = edge_node_container_name,\n",
        "    image = edge_node_image_name,\n",
        "    reservation_id = get_reservation_id_by_name(edge_node_worker),\n",
        "    environment = edge_node_env_vars,\n",
        "    nets = [\n",
        "        { \"network\": edgenet['id'] },\n",
        "    ],\n",
        "    labels = edge_node_labels,\n",
        ")\n",
        "\n",
        "chi.container.wait_for_active(edge_node_container_name)\n",
        "logger.success(\"Container deployed and active.\")\n",
        "\n",
        "# chi.container.execute(edge_node_container_name, \"ip link set eth0 down\")"
      ]
    },
    {
      "cell_type": "markdown",
      "metadata": {},
      "source": [
        "Start UE1"
      ]
    },
    {
      "cell_type": "code",
      "execution_count": null,
      "metadata": {},
      "outputs": [],
      "source": [
        "ue_node_container_name = \"talker-device\"\n",
        "ue_node_image_name = \"nilsjor/ros-humble-turtlebot:talker-v0.6\"\n",
        "\n",
        "ue_node_env_vars = {\n",
        "    \"ROS_DISCOVERY_SERVER\": discovery_addr_l2tp + \":11811\",\n",
        "    \"L2TP_LOCAL_IP\": ue_priv_addr,\n",
        "    \"L2TP_REMOTE_IP\": discovery_addr,\n",
        "    \"L2TP_ENDPOINT_CIDR\": l2tp_h2_addr + \"/24\",\n",
        "}\n",
        "ue_node_labels = {\n",
        "    \"networks.1.interface\": \"eno12409\",\n",
        "    \"networks.1.ip\": ue_priv_addr + \"/24\",\n",
        "    \"networks.1.routes\": route_towards_edge,\n",
        "    \"capabilities.privileged\": \"true\",\n",
        "}\n",
        "\n",
        "try:\n",
        "    chi.container.destroy_container(ue_node_container_name)\n",
        "    wait_until_container_removed(ue_node_container_name)\n",
        "    logger.success(\"Previous container destroyed.\")\n",
        "except:\n",
        "    logger.info(\"No previous container found.\")\n",
        "\n",
        "ue_node_container = chi.container.create_container(\n",
        "    name = ue_node_container_name,\n",
        "    image = ue_node_image_name,\n",
        "    reservation_id = get_reservation_id_by_name(ue1_node_worker),\n",
        "    environment = ue_node_env_vars,\n",
        "    nets = [\n",
        "        { \"network\": chi.network.get_network(\"adv-04-net\")['id'] },\n",
        "    ],\n",
        "    labels = ue_node_labels,\n",
        ")\n",
        "\n",
        "chi.container.wait_for_active(ue_node_container_name)\n",
        "logger.success(\"Container deployed and active.\")\n",
        "\n",
        "# chi.container.execute(ue_node_container_name, \"ip link set eth0 down\")"
      ]
    },
    {
      "cell_type": "markdown",
      "metadata": {},
      "source": [
        "## Teardown"
      ]
    },
    {
      "cell_type": "markdown",
      "metadata": {},
      "source": [
        "Destroy all containers"
      ]
    },
    {
      "cell_type": "code",
      "execution_count": null,
      "metadata": {},
      "outputs": [],
      "source": [
        "try:\n",
        "    status = get_container_status(discovery_container_name)\n",
        "    chi.container.destroy_container(discovery_container_name)\n",
        "    wait_until_container_removed(discovery_container_name)\n",
        "except:\n",
        "    logger.info(\"No discovery container found.\")\n",
        "\n",
        "try:\n",
        "    status = get_container_status(edge_node_container_name)\n",
        "    chi.container.destroy_container(edge_node_container_name)\n",
        "    wait_until_container_removed(edge_node_container_name)\n",
        "except:\n",
        "    logger.info(\"No talker container found.\")\n",
        "\n",
        "try:\n",
        "    status = get_container_status(ue_node_container_name)\n",
        "    chi.container.destroy_container(ue_node_container_name)\n",
        "    wait_until_container_removed(ue_node_container_name)\n",
        "except:\n",
        "    logger.info(\"No listener container found.\")\n",
        "\n",
        "logger.info(\"Stopped and removed all containers\")"
      ]
    },
    {
      "cell_type": "markdown",
      "metadata": {},
      "source": [
        "Manually check if any \"ghost\" ports are left behind. Enter their ID (not name) in the next cell and run it to delete them."
      ]
    },
    {
      "cell_type": "code",
      "execution_count": null,
      "metadata": {},
      "outputs": [],
      "source": [
        "ghost_ports = [\n",
        "    \"ec7ef4c5-bc62-4af7-9f07-fd04bb0e2985\",\n",
        "]\n",
        "\n",
        "for port in ghost_ports:\n",
        "    try:\n",
        "        chi.network.delete_port(port)\n",
        "    except:\n",
        "        logger.info(f\"Port {port} not found.\")"
      ]
    },
    {
      "cell_type": "markdown",
      "metadata": {},
      "source": [
        "Proceed to clean up the rest of the project."
      ]
    },
    {
      "cell_type": "code",
      "execution_count": null,
      "metadata": {},
      "outputs": [],
      "source": [
        "# find the router again\n",
        "router = None\n",
        "try:\n",
        "    router = chi.network.get_router(\"edge-router\")\n",
        "except Exception as ex:\n",
        "    logger.info(\"Could not find edge-router.\")\n",
        "\n",
        "if router:\n",
        "    # remove all routes from the router\n",
        "    chi.network.remove_all_routes_from_router(router[\"id\"])\n",
        "    logger.success(\"Removed all routes from router.\")\n",
        "\n",
        "    # remove all subnets from the router\n",
        "    subnets = chi.network.list_subnets()\n",
        "    logger.info(f\"Checking all {len(subnets)} subnets.\")\n",
        "    for subnet in subnets:\n",
        "        try:\n",
        "            chi.network.remove_subnet_from_router(router[\"id\"],subnet[\"id\"])\n",
        "        except Exception as ex:\n",
        "            pass\n",
        "    logger.success(\"Removed all subnets from router\")\n",
        "\n",
        "    chi.network.delete_router(router[\"id\"])\n",
        "    logger.success(\"Deleted the router\")\n",
        "\n",
        "edgenet = None\n",
        "try:\n",
        "    edgenet = chi.network.get_network(\"edge-net\")\n",
        "except Exception as ex:\n",
        "    logger.info(\"Could not find edge-net.\")\n",
        "\n",
        "if edgenet:\n",
        "    chi.network.delete_network(edgenet[\"id\"])\n",
        "    logger.success(\"Deleted the edge-net\")"
      ]
    },
    {
      "cell_type": "markdown",
      "metadata": {},
      "source": [
        "Terminate reservations"
      ]
    },
    {
      "cell_type": "code",
      "execution_count": null,
      "metadata": {},
      "outputs": [],
      "source": [
        "leaseslist = list_reservations(brief=True)\n",
        "for lease in leaseslist:\n",
        "    unreserve_byid(lease[\"id\"])\n",
        "    logger.success(\"Removed \" + lease[\"name\"])\n",
        "\n",
        "logger.info(\"no leases remaining.\")"
      ]
    }
  ],
  "metadata": {
    "kernelspec": {
      "display_name": "Python 3",
      "name": "python3"
    },
    "language_info": {
      "codemirror_mode": {
        "name": "ipython",
        "version": 3
      },
      "file_extension": ".py",
      "mimetype": "text/x-python",
      "name": "python",
      "nbconvert_exporter": "python",
      "pygments_lexer": "ipython3",
      "version": "3.9.5"
    }
  },
  "nbformat": 4,
  "nbformat_minor": 0
}
