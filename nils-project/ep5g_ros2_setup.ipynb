{
  "cells": [
    {
      "cell_type": "markdown",
      "metadata": {
        "id": "W9YICZf_mJBy"
      },
      "source": [
        "Login to Chameleon and download openrc.sh file from [here](https://testbed.expeca.proj.kth.se/project/api_access/openrc/). Upload it here next to this notebook and continue.\n",
        "\n",
        "In the next cell, we setup the authentication method to be able to use Openstack clients."
      ]
    },
    {
      "cell_type": "code",
      "execution_count": null,
      "metadata": {
        "colab": {
          "base_uri": "https://localhost:8080/"
        },
        "id": "KLT-J26lJ5ae",
        "outputId": "09b4a918-6cd9-43e9-8041-000813d5392d"
      },
      "outputs": [],
      "source": [
        "import os, re\n",
        "from getpass import getpass\n",
        "\n",
        "with open('nils-project-openrc.sh', 'r') as f:\n",
        "    script_content = f.read()\n",
        "    pattern = r'export\\s+(\\w+)\\s*=\\s*(\"[^\"]+\"|[^\"\\n]+)'\n",
        "    matches = re.findall(pattern, script_content)\n",
        "\n",
        "    for name, value in matches:\n",
        "        os.environ[name] = value.strip('\"')\n",
        "\n",
        "# password read from file"
      ]
    },
    {
      "cell_type": "markdown",
      "metadata": {
        "id": "VkDR3RsFpKSv"
      },
      "source": [
        "Import packages"
      ]
    },
    {
      "cell_type": "code",
      "execution_count": null,
      "metadata": {
        "id": "gWqW34Pc7YJp"
      },
      "outputs": [],
      "source": [
        "import json\n",
        "from loguru import logger\n",
        "import chi.network, chi.container\n",
        "from chi.expeca import reserve, list_reservations, unreserve_byid, get_container_status, wait_until_container_removed"
      ]
    },
    {
      "cell_type": "markdown",
      "metadata": {
        "id": "Rd4EsDjdqRFU"
      },
      "source": [
        "Reserve the required equipment and resources"
      ]
    },
    {
      "cell_type": "code",
      "execution_count": null,
      "metadata": {
        "colab": {
          "base_uri": "https://localhost:8080/"
        },
        "id": "1pauMnGZ8KSP",
        "outputId": "d31fca6d-f10a-470a-e298-edd986afca37"
      },
      "outputs": [],
      "source": [
        "# worker reservation\n",
        "worker_lease = reserve(\n",
        "    { \"type\":\"device\", \"name\":\"worker-08\", \"duration\": { \"days\":7, \"hours\":0 } }\n",
        ")\n",
        "\n",
        "worker_reservation_id = worker_lease[\"reservations\"][0][\"id\"]\n",
        "\n",
        "leaseslist = list_reservations(brief=True)\n",
        "print(json.dumps(leaseslist,indent=4))"
      ]
    },
    {
      "cell_type": "markdown",
      "metadata": {},
      "source": [
        "Create networks"
      ]
    },
    {
      "cell_type": "code",
      "execution_count": null,
      "metadata": {
        "colab": {
          "base_uri": "https://localhost:8080/"
        },
        "id": "QV7oHbSu7g5F",
        "outputId": "31bd127c-4d72-46c8-a956-4a3c8a8c84d7"
      },
      "outputs": [],
      "source": [
        "# Create edge-net for talker\n",
        "edge_net = chi.network.create_network(\"edge-net\")\n",
        "edge_net_subnet = chi.network.create_subnet(\n",
        "    \"edge-net-subnet\", \n",
        "    edge_net[\"id\"], \n",
        "    \"10.70.70.0/24\", \n",
        "    gateway_ip=\"10.70.70.1\", \n",
        "    enable_dhcp=False\n",
        ")\n",
        "logger.success(\"edge-net is created.\")\n",
        "\n",
        "# Create end-net for listener\n",
        "end_net = chi.network.create_network(\"end-net\")\n",
        "end_net_subnet = chi.network.create_subnet(\n",
        "    \"end-net-subnet\", \n",
        "    end_net[\"id\"], \n",
        "    \"10.42.3.0/24\", \n",
        "    gateway_ip=\"10.42.3.1\", \n",
        "    enable_dhcp=False\n",
        ")\n",
        "logger.success(\"end-net is created.\")"
      ]
    },
    {
      "cell_type": "markdown",
      "metadata": {},
      "source": [
        "Create routers"
      ]
    },
    {
      "cell_type": "code",
      "execution_count": null,
      "metadata": {},
      "outputs": [],
      "source": [
        "end_net = chi.network.get_network(\"end-net\")\n",
        "edge_net = chi.network.get_network(\"edge-net\")"
      ]
    },
    {
      "cell_type": "code",
      "execution_count": null,
      "metadata": {},
      "outputs": [],
      "source": [
        "# Assuming router setup is already done and we just need to add subnets\n",
        "router = chi.network.create_router(\"ros-router\", \"public\")\n",
        "chi.network.add_subnet_to_router(router[\"id\"], edge_net_subnet[\"id\"])\n",
        "chi.network.add_subnet_to_router(router[\"id\"], end_net_subnet[\"id\"])\n",
        "logger.success(\"Subnets added to the router.\")"
      ]
    },
    {
      "cell_type": "code",
      "execution_count": null,
      "metadata": {},
      "outputs": [],
      "source": [
        "# routeadd = chi.network.add_route_to_router(router[\"id\"],\"10.70.70.0/24\",\"10.42.3.1\")\n",
        "# routeadd = chi.network.add_route_to_router(router[\"id\"],\"10.42.3.0/24\",\"10.70.70.1\")\n",
        "# logger.success(\"the routes added to the router\")"
      ]
    },
    {
      "cell_type": "code",
      "execution_count": null,
      "metadata": {},
      "outputs": [],
      "source": [
        "public_net = chi.network.get_network(\"serverpublic\")\n",
        "\n",
        "# Deploy talker container on edge-net\n",
        "talker_container = chi.container.create_container(\n",
        "    name = \"talker\",\n",
        "    image = \"ros:humble-ros-base\",\n",
        "    reservation_id = worker_reservation_id,  # from previous reservations\n",
        "        environment = {\n",
        "        \"DNS_IP\":\"8.8.8.8\",\n",
        "        \"GATEWAY_IP\":\"130.237.11.97\",\n",
        "        \"PASS\":\"expeca\",\n",
        "        \"ROS_DOMAIN_ID\": \"30\"\n",
        "    },\n",
        "    nets = [\n",
        "        { \"network\" : public_net['id'] },\n",
        "        { \"network\" : edge_net['id'] },\n",
        "    ],\n",
        "    labels = {\n",
        "        \"networks.1.interface\":\"ens1\",\n",
        "        \"networks.1.ip\":\"130.237.11.114/27\",\n",
        "        \"networks.1.gateway\":\"130.237.11.97\",\n",
        "        \"networks.2.interface\":\"eno12419\",\n",
        "        \"networks.2.ip\":\"10.70.70.3/24\",\n",
        "        \"networks.2.routes\":\"172.16.0.0/16-10.70.70.1\",\n",
        "        \"capabilities.privileged\":\"true\",\n",
        "    },\n",
        ")\n",
        "chi.container.wait_for_active(\"talker\")\n",
        "logger.success(\"Talker container deployed and active.\")"
      ]
    },
    {
      "cell_type": "code",
      "execution_count": null,
      "metadata": {},
      "outputs": [],
      "source": [
        "# Deploy listener container on end-net\n",
        "listener_container = chi.container.create_container(\n",
        "    name=\"listener\",\n",
        "    image=\"ros:humble-ros-base\",\n",
        "    reservation_id=worker_reservation_id,  # from previous reservations\n",
        "    environment={\"ROS_DOMAIN_ID\": \"30\"},\n",
        "    command=\"ros2 topic echo /chatter\",\n",
        "    nets=[{\"network\": end_net[\"id\"]}]\n",
        ")\n",
        "chi.container.wait_for_active(\"listener\")\n",
        "logger.success(\"Listener container deployed and active.\")\n"
      ]
    }
  ],
  "metadata": {
    "colab": {
      "authorship_tag": "ABX9TyPrq+cg0kilpS84MOIIGCn7",
      "include_colab_link": true,
      "provenance": []
    },
    "kernelspec": {
      "display_name": "Python 3",
      "name": "python3"
    },
    "language_info": {
      "codemirror_mode": {
        "name": "ipython",
        "version": 3
      },
      "file_extension": ".py",
      "mimetype": "text/x-python",
      "name": "python",
      "nbconvert_exporter": "python",
      "pygments_lexer": "ipython3",
      "version": "3.9.5"
    }
  },
  "nbformat": 4,
  "nbformat_minor": 0
}
