{
  "cells": [
    {
      "cell_type": "markdown",
      "metadata": {
        "id": "W9YICZf_mJBy"
      },
      "source": [
        "Login to Chameleon and download openrc.sh file from [here](https://testbed.expeca.proj.kth.se/project/api_access/openrc/). Upload it here next to this notebook and continue.\n",
        "\n",
        "In the next cell, we setup the authentication method to be able to use Openstack clients."
      ]
    },
    {
      "cell_type": "code",
      "execution_count": null,
      "metadata": {
        "colab": {
          "base_uri": "https://localhost:8080/"
        },
        "id": "KLT-J26lJ5ae",
        "outputId": "09b4a918-6cd9-43e9-8041-000813d5392d"
      },
      "outputs": [],
      "source": [
        "import os, re\n",
        "from getpass import getpass\n",
        "\n",
        "with open('nils-project-openrc.sh', 'r') as f:\n",
        "    script_content = f.read()\n",
        "    pattern = r'export\\s+(\\w+)\\s*=\\s*(\"[^\"]+\"|[^\"\\n]+)'\n",
        "    matches = re.findall(pattern, script_content)\n",
        "\n",
        "    for name, value in matches:\n",
        "        os.environ[name] = value.strip('\"')\n",
        "\n",
        "# password read from file"
      ]
    },
    {
      "cell_type": "markdown",
      "metadata": {},
      "source": [
        "Install required packages and dependencies. Ignore the warnings."
      ]
    },
    {
      "cell_type": "code",
      "execution_count": null,
      "metadata": {},
      "outputs": [],
      "source": [
        "!pip uninstall -q -y moviepy\n",
        "!pip install -q jedi\n",
        "!pip install -q git+https://github.com/KTH-EXPECA/python-chi"
      ]
    },
    {
      "cell_type": "markdown",
      "metadata": {
        "id": "VkDR3RsFpKSv"
      },
      "source": [
        "Import packages"
      ]
    },
    {
      "cell_type": "code",
      "execution_count": null,
      "metadata": {
        "id": "gWqW34Pc7YJp"
      },
      "outputs": [],
      "source": [
        "import json\n",
        "from loguru import logger\n",
        "import chi.network, chi.container\n",
        "from chi.expeca import reserve, list_reservations, unreserve_byid, get_container_status, wait_until_container_removed"
      ]
    },
    {
      "cell_type": "markdown",
      "metadata": {
        "id": "Rd4EsDjdqRFU"
      },
      "source": [
        "Reserve the required equipment and resources"
      ]
    },
    {
      "cell_type": "code",
      "execution_count": null,
      "metadata": {},
      "outputs": [],
      "source": [
        "worker_name = \"worker-08\"\n",
        "\n",
        "reservation_id = None\n",
        "\n",
        "# Check if the worker is already leased\n",
        "leaseslist = list_reservations(brief=True)\n",
        "for lease in leaseslist:\n",
        "    if lease[\"name\"] == worker_name+\"-lease\":\n",
        "        reservation_id = lease[\"reservation_id\"]\n",
        "        logger.info(\"Worker already leased with reservation id \" + reservation_id)\n",
        "        break\n",
        "\n",
        "# If the worker is not leased, lease it\n",
        "if not reservation_id:\n",
        "    worker_lease = reserve(\n",
        "        { \"type\":\"device\", \"name\":worker_name, \"duration\": { \"days\":1, \"hours\":0 } }\n",
        "    )\n",
        "    worker_reservation_id = worker_lease[\"reservations\"][0][\"id\"]"
      ]
    },
    {
      "cell_type": "markdown",
      "metadata": {},
      "source": [
        "Create networks"
      ]
    },
    {
      "cell_type": "code",
      "execution_count": null,
      "metadata": {},
      "outputs": [],
      "source": [
        "\n",
        "# Create nils-edgenet for talker\n",
        "try: \n",
        "    edge_net = chi.network.get_network(\"nils-edgenet\")\n",
        "    edge_net_subnet = chi.network.get_subnet(\"nils-edgenet-subnet\")\n",
        "    logger.info(\"nils-edgenet already exists.\")\n",
        "except:\n",
        "    edge_net = chi.network.create_network(\"nils-edgenet\")\n",
        "    edge_net_subnet = chi.network.create_subnet(\n",
        "        \"nils-edgenet-subnet\", \n",
        "        edge_net[\"id\"], \n",
        "        \"10.70.70.0/24\", \n",
        "        gateway_ip=\"10.70.70.1\", \n",
        "        enable_dhcp=False\n",
        "    )\n",
        "    logger.success(\"nils-edgenet is created.\")\n",
        "\n",
        "# Create nils-devicenet for listener\n",
        "try:\n",
        "    end_net = chi.network.get_network(\"nils-devicenet\")\n",
        "    end_net_subnet = chi.network.get_subnet(\"nils-devicenet-subnet\")\n",
        "    logger.info(\"nils-devicenet already exists.\")\n",
        "except:\n",
        "    end_net = chi.network.create_network(\"nils-devicenet\")\n",
        "    end_net_subnet = chi.network.create_subnet(\n",
        "        \"nils-devicenet-subnet\", \n",
        "        end_net[\"id\"], \n",
        "        \"10.42.3.0/24\", \n",
        "        gateway_ip=\"10.42.3.1\", \n",
        "        enable_dhcp=False\n",
        "    )\n",
        "    logger.success(\"nils-devicenet is created.\")"
      ]
    },
    {
      "cell_type": "markdown",
      "metadata": {},
      "source": [
        "Create routers"
      ]
    },
    {
      "cell_type": "code",
      "execution_count": null,
      "metadata": {},
      "outputs": [],
      "source": [
        "try:\n",
        "    chi.network.get_router(\"nils-router\")\n",
        "    logger.info(\"Router already exists.\")\n",
        "except:\n",
        "    router = chi.network.create_router(\"nils-router\", \"public\")\n",
        "    chi.network.add_subnet_to_router(router[\"id\"], edge_net_subnet[\"id\"])\n",
        "    chi.network.add_subnet_to_router(router[\"id\"], end_net_subnet[\"id\"])\n",
        "    logger.success(\"Router created and subnets added.\")"
      ]
    },
    {
      "cell_type": "markdown",
      "metadata": {},
      "source": [
        "Project settings"
      ]
    },
    {
      "cell_type": "code",
      "execution_count": null,
      "metadata": {},
      "outputs": [],
      "source": [
        "discovery_addr = \"10.70.70.80\"\n",
        "talker_addr = \"10.70.70.90\"\n",
        "listener_addr = \"10.70.70.100\""
      ]
    },
    {
      "cell_type": "markdown",
      "metadata": {},
      "source": [
        "Start discovery-server"
      ]
    },
    {
      "cell_type": "code",
      "execution_count": null,
      "metadata": {},
      "outputs": [],
      "source": [
        "public_net = chi.network.get_network(\"serverpublic\")\n",
        "\n",
        "discovery_image_name = \"nilsjor/ros-humble-turtlebot:discovery-v0.1\"\n",
        "\n",
        "discovery_env_vars = {\n",
        "    \"ROS_DISCOVERY_SERVER\":\"localhost:11811\",\n",
        "    # \"DNS_IP\":\"1.1.1.1\",\n",
        "    # \"GATEWAY_IP\":\"130.237.11.97\",\n",
        "    # \"PASS\":\"turtlebot\"\n",
        "}\n",
        "\n",
        "discovery_labels = {\n",
        "    \"networks.1.interface\":\"eno12419\",\n",
        "    \"networks.1.ip\":discovery_addr+\"/24\",\n",
        "    \"networks.1.routes\":\"10.42.3.0/24-10.70.70.1\",\n",
        "    # \"networks.2.interface\":\"ens1\",\n",
        "    # \"networks.2.ip\":\"130.237.11.126/27\",\n",
        "    # \"networks.2.gateway\":\"130.237.11.97\",\n",
        "    # \"capabilities.privileged\":\"true\",\n",
        "}\n",
        "\n",
        "discovery_container_name = \"discovery-server\"\n",
        "\n",
        "try:\n",
        "    chi.container.destroy_container(discovery_container_name)\n",
        "    logger.success(\"Previous container destroyed.\")\n",
        "except:\n",
        "    logger.info(\"No previous container found.\")\n",
        "\n",
        "discovery_container = chi.container.create_container(\n",
        "    name = discovery_container_name,\n",
        "    image = discovery_image_name,\n",
        "    reservation_id = worker_reservation_id,\n",
        "    environment = discovery_env_vars,\n",
        "    nets = [\n",
        "        { \"network\" : edge_net['id'] },\n",
        "        # { \"network\" : public_net['id'] },\n",
        "    ],\n",
        "    labels = discovery_labels,\n",
        ")\n",
        "chi.container.wait_for_active(discovery_container_name)\n",
        "logger.success(\"Container deployed and active.\")"
      ]
    },
    {
      "cell_type": "markdown",
      "metadata": {},
      "source": [
        "Start talker"
      ]
    },
    {
      "cell_type": "code",
      "execution_count": null,
      "metadata": {},
      "outputs": [],
      "source": [
        "talker_image_name = \"nilsjor/ros-humble-turtlebot:talker-v0.2\"\n",
        "\n",
        "talker_env_vars = {\n",
        "    \"ROS_DISCOVERY_SERVER\":discovery_addr+\":11811\",\n",
        "}\n",
        "\n",
        "talker_labels = {\n",
        "    \"networks.1.interface\":\"eno12419\",\n",
        "    \"networks.1.ip\":talker_addr+\"/24\",\n",
        "    \"networks.1.routes\":\"10.42.3.0/24-10.70.70.1\",\n",
        "}\n",
        "\n",
        "talker_container_name = \"talker\"\n",
        "\n",
        "try:\n",
        "    chi.container.destroy_container(talker_container_name)\n",
        "    logger.success(\"Previous container destroyed.\")\n",
        "except:\n",
        "    logger.info(\"No previous container found.\")\n",
        "\n",
        "talker_container = chi.container.create_container(\n",
        "    name = talker_container_name,\n",
        "    image = talker_image_name,\n",
        "    reservation_id = worker_reservation_id,\n",
        "    environment = talker_env_vars,\n",
        "    nets = [\n",
        "        { \"network\" : edge_net['id'] },\n",
        "    ],\n",
        "    labels = talker_labels,\n",
        ")\n",
        "\n",
        "chi.container.wait_for_active(talker_container_name)\n",
        "logger.success(\"Container deployed and active.\")"
      ]
    },
    {
      "cell_type": "markdown",
      "metadata": {},
      "source": [
        "Start listener"
      ]
    },
    {
      "cell_type": "code",
      "execution_count": null,
      "metadata": {},
      "outputs": [],
      "source": [
        "listener_image_name = \"nilsjor/ros-humble-turtlebot:listener-v0.2\"\n",
        "\n",
        "listener_env_vars = {\n",
        "    \"ROS_DISCOVERY_SERVER\":discovery_addr+\":11811\",\n",
        "}\n",
        "\n",
        "listener_labels = {\n",
        "    \"networks.1.interface\":\"eno12419\",\n",
        "    \"networks.1.ip\":listener_addr+\"/24\",\n",
        "    \"networks.1.routes\":\"10.42.3.0/24-10.70.70.1\",\n",
        "}\n",
        "\n",
        "listener_container_name = \"listener\"\n",
        "\n",
        "try:\n",
        "    chi.container.destroy_container(listener_container_name)\n",
        "    logger.success(\"Previous container destroyed.\")\n",
        "except:\n",
        "    logger.info(\"No previous container found.\")\n",
        "\n",
        "listener_container = chi.container.create_container(\n",
        "    name = listener_container_name,\n",
        "    image = listener_image_name,\n",
        "    reservation_id = worker_reservation_id,\n",
        "    environment = listener_env_vars,\n",
        "    nets = [\n",
        "        { \"network\" : edge_net['id'] },\n",
        "    ],\n",
        "    labels = listener_labels,\n",
        ")\n",
        "\n",
        "chi.container.wait_for_active(listener_container_name)\n",
        "logger.success(\"Container deployed and active.\")"
      ]
    },
    {
      "cell_type": "markdown",
      "metadata": {},
      "source": [
        "Teardown"
      ]
    },
    {
      "cell_type": "code",
      "execution_count": null,
      "metadata": {},
      "outputs": [],
      "source": [
        "status = get_container_status(listener_container_name)\n",
        "if status:\n",
        "    chi.container.destroy_container(listener_container_name)\n",
        "    wait_until_container_removed(listener_container_name)\n",
        "\n",
        "status = get_container_status(talker_container_name)\n",
        "if status:\n",
        "    chi.container.destroy_container(talker_container_name)\n",
        "    wait_until_container_removed(talker_container_name)\n",
        "\n",
        "logger.info(f\"stopped and removed all containers\")\n",
        "\n",
        "# find the router again\n",
        "router = None\n",
        "try:\n",
        "    router = chi.network.get_router(\"nils-router\")\n",
        "except Exception as ex:\n",
        "    logger.info(f\"could not find nils-router.\")\n",
        "\n",
        "if router:\n",
        "    # remove all routes from the router\n",
        "    chi.network.remove_all_routes_from_router(router[\"id\"])\n",
        "    logger.success(f\"removed all routers from router\")\n",
        "\n",
        "    # remove all subnets from the router\n",
        "    subnets = chi.network.list_subnets()\n",
        "    logger.info(f\"checking all {len(subnets)} subnets.\")\n",
        "    for subnet in subnets:\n",
        "        try:\n",
        "            chi.network.remove_subnet_from_router(router[\"id\"],subnet[\"id\"])\n",
        "        except Exception as ex:\n",
        "            pass\n",
        "    logger.success(f\"removed all subnets from router\")\n",
        "\n",
        "    chi.network.delete_router(router[\"id\"])\n",
        "    logger.success(f\"deleted the router\")\n",
        "\n",
        "edgenet = None\n",
        "try:\n",
        "    edgenet = chi.network.get_network(\"nils-edgenet\")\n",
        "except Exception as ex:\n",
        "    logger.info(f\"could not find nils-edgenet.\")\n",
        "\n",
        "if edgenet:\n",
        "    chi.network.delete_network(edgenet[\"id\"])\n",
        "    logger.success(f\"deleted the nils-edgenet\")\n",
        "\n",
        "endnet = None\n",
        "try:\n",
        "    endnet = chi.network.get_network(\"nils-devicenet\")\n",
        "except Exception as ex:\n",
        "    logger.info(f\"could not find nils-devicenet.\")\n",
        "    \n",
        "if endnet:\n",
        "    chi.network.delete_network(endnet[\"id\"])\n",
        "    logger.success(f\"deleted the nils-devicenet\")\n",
        "\n",
        "unreserve_byid(worker_lease[\"id\"])"
      ]
    }
  ],
  "metadata": {
    "colab": {
      "authorship_tag": "ABX9TyPrq+cg0kilpS84MOIIGCn7",
      "include_colab_link": true,
      "provenance": []
    },
    "kernelspec": {
      "display_name": "Python 3",
      "name": "python3"
    },
    "language_info": {
      "codemirror_mode": {
        "name": "ipython",
        "version": 3
      },
      "file_extension": ".py",
      "mimetype": "text/x-python",
      "name": "python",
      "nbconvert_exporter": "python",
      "pygments_lexer": "ipython3",
      "version": "3.9.5"
    }
  },
  "nbformat": 4,
  "nbformat_minor": 0
}
