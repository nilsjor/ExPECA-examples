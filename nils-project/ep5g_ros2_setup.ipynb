{
  "cells": [
    {
      "cell_type": "markdown",
      "metadata": {
        "id": "W9YICZf_mJBy"
      },
      "source": [
        "Login to Chameleon and download openrc.sh file from [here](https://testbed.expeca.proj.kth.se/project/api_access/openrc/). Upload it here next to this notebook and continue.\n",
        "\n",
        "In the next cell, we setup the authentication method to be able to use Openstack clients."
      ]
    },
    {
      "cell_type": "code",
      "execution_count": null,
      "metadata": {
        "colab": {
          "base_uri": "https://localhost:8080/"
        },
        "id": "KLT-J26lJ5ae",
        "outputId": "09b4a918-6cd9-43e9-8041-000813d5392d"
      },
      "outputs": [],
      "source": [
        "import os, re\n",
        "from getpass import getpass\n",
        "\n",
        "with open('nils-project-openrc.sh', 'r') as f:\n",
        "    script_content = f.read()\n",
        "    pattern = r'export\\s+(\\w+)\\s*=\\s*(\"[^\"]+\"|[^\"\\n]+)'\n",
        "    matches = re.findall(pattern, script_content)\n",
        "\n",
        "    for name, value in matches:\n",
        "        os.environ[name] = value.strip('\"')\n",
        "\n",
        "# password read from file"
      ]
    },
    {
      "cell_type": "markdown",
      "metadata": {},
      "source": [
        "Install required packages and dependencies. Ignore the warnings."
      ]
    },
    {
      "cell_type": "code",
      "execution_count": null,
      "metadata": {},
      "outputs": [],
      "source": [
        "!pip uninstall -q -y moviepy\n",
        "!pip install -q jedi\n",
        "!pip install -q git+https://github.com/KTH-EXPECA/python-chi"
      ]
    },
    {
      "cell_type": "markdown",
      "metadata": {
        "id": "VkDR3RsFpKSv"
      },
      "source": [
        "Import packages"
      ]
    },
    {
      "cell_type": "code",
      "execution_count": null,
      "metadata": {
        "id": "gWqW34Pc7YJp"
      },
      "outputs": [],
      "source": [
        "import json\n",
        "from loguru import logger\n",
        "import chi.network, chi.container\n",
        "from chi.expeca import reserve, list_reservations, unreserve_byid, get_container_status, wait_until_container_removed"
      ]
    },
    {
      "cell_type": "markdown",
      "metadata": {
        "id": "Rd4EsDjdqRFU"
      },
      "source": [
        "Reserve the required equipment and resources"
      ]
    },
    {
      "cell_type": "code",
      "execution_count": null,
      "metadata": {
        "colab": {
          "base_uri": "https://localhost:8080/"
        },
        "id": "1pauMnGZ8KSP",
        "outputId": "d31fca6d-f10a-470a-e298-edd986afca37"
      },
      "outputs": [],
      "source": [
        "# worker reservation\n",
        "worker_lease = reserve(\n",
        "    { \"type\":\"device\", \"name\":\"worker-08\", \"duration\": { \"days\":1, \"hours\":0 } }\n",
        ")\n",
        "\n",
        "worker_reservation_id = worker_lease[\"reservations\"][0][\"id\"]\n",
        "\n",
        "leaseslist = list_reservations(brief=True)\n",
        "print(json.dumps(leaseslist,indent=4))"
      ]
    },
    {
      "cell_type": "markdown",
      "metadata": {},
      "source": [
        "Create networks"
      ]
    },
    {
      "cell_type": "code",
      "execution_count": null,
      "metadata": {
        "colab": {
          "base_uri": "https://localhost:8080/"
        },
        "id": "QV7oHbSu7g5F",
        "outputId": "31bd127c-4d72-46c8-a956-4a3c8a8c84d7"
      },
      "outputs": [],
      "source": [
        "# Create nils-edgenet for talker\n",
        "edge_net = chi.network.create_network(\"nils-edgenet\")\n",
        "edge_net_subnet = chi.network.create_subnet(\n",
        "    \"nils-edgenet-subnet\", \n",
        "    edge_net[\"id\"], \n",
        "    \"10.70.70.0/24\", \n",
        "    gateway_ip=\"10.70.70.1\", \n",
        "    enable_dhcp=False\n",
        ")\n",
        "logger.success(\"nils-edgenet is created.\")\n",
        "\n",
        "# Create nils-devicenet for listener\n",
        "end_net = chi.network.create_network(\"nils-devicenet\")\n",
        "end_net_subnet = chi.network.create_subnet(\n",
        "    \"nils-devicenet-subnet\", \n",
        "    end_net[\"id\"], \n",
        "    \"10.42.3.0/24\", \n",
        "    gateway_ip=\"10.42.3.1\", \n",
        "    enable_dhcp=False\n",
        ")\n",
        "logger.success(\"nils-devicenet is created.\")"
      ]
    },
    {
      "cell_type": "markdown",
      "metadata": {},
      "source": [
        "Create routers"
      ]
    },
    {
      "cell_type": "code",
      "execution_count": null,
      "metadata": {},
      "outputs": [],
      "source": [
        "router = chi.network.create_router(\"nils-router\", \"public\")\n",
        "chi.network.add_subnet_to_router(router[\"id\"], edge_net_subnet[\"id\"])\n",
        "chi.network.add_subnet_to_router(router[\"id\"], end_net_subnet[\"id\"])\n",
        "logger.success(\"Subnets added to the router.\")"
      ]
    },
    {
      "cell_type": "markdown",
      "metadata": {},
      "source": [
        "Start talker"
      ]
    },
    {
      "cell_type": "code",
      "execution_count": null,
      "metadata": {},
      "outputs": [],
      "source": [
        "public_net = chi.network.get_network(\"serverpublic\")\n",
        "\n",
        "talker_image_name = \"nilsjor/ros-humble-turtlebot:talker-v0.1\"\n",
        "talker_env_vars = {\n",
        "    \"DNS_IP\":\"8.8.8.8\",\n",
        "    \"GATEWAY_IP\":\"130.237.11.97\",\n",
        "    \"PASS\":\"turtlebot\"\n",
        "}\n",
        "talker_labels = {\n",
        "    \"networks.1.interface\":\"eno12419\",\n",
        "    \"networks.1.ip\":\"10.70.70.88/24\",\n",
        "    \"networks.1.routes\":\"10.42.3.0/24-10.70.70.1\",\n",
        "    \"capabilities.privileged\":\"true\", \n",
        "}\n",
        "talker_container_name = \"talker\"#talker_image_name.split('/')[-1].split(':')[0]\n",
        "talker_container = chi.container.create_container(\n",
        "    name = talker_container_name,\n",
        "    image = talker_image_name,\n",
        "    reservation_id = worker_reservation_id,\n",
        "    environment = talker_env_vars,\n",
        "    nets = [\n",
        "        { \"network\" : edge_net['id'] },\n",
        "    ],\n",
        "    labels = talker_labels,\n",
        ")\n",
        "chi.container.wait_for_active(talker_container_name)\n",
        "logger.success(\"Container deployed and active.\")"
      ]
    },
    {
      "cell_type": "markdown",
      "metadata": {},
      "source": [
        "Run this cell **only if** the container enters an unready state. The container will need to be deployed manually, use the following parameters:"
      ]
    },
    {
      "cell_type": "code",
      "execution_count": null,
      "metadata": {},
      "outputs": [],
      "source": [
        "if chi.container.get_container(talker_container_name).status == 'Error':\n",
        "    chi.container.destroy_container(talker_container_name)\n",
        "    logger.error(\"Container destroyed.\")\n",
        "\n",
        "    print(\"Name:     \\t\" + talker_container_name)\n",
        "    print(\"Image:    \\t\" + talker_image_name)\n",
        "    print(\"Networks: \\tnils-edgenet\")\n",
        "    print(\"Env-Vars: \\t\" + \",\".join(f\"{key}={val}\" for key, val in talker_env_vars.items()))\n",
        "    print(\"Labels:   \\t\" + \",\".join(f\"{key}={val}\" for key, val in talker_labels.items()))\n",
        "    print(\"Scheduler:\\treservation: \" + worker_reservation_id)\n",
        "else:\n",
        "    logger.success(\"Container is active, no further action taken.\")"
      ]
    },
    {
      "cell_type": "markdown",
      "metadata": {},
      "source": [
        "Start listener"
      ]
    },
    {
      "cell_type": "code",
      "execution_count": null,
      "metadata": {},
      "outputs": [],
      "source": [
        "listener_image_name = \"nilsjor/ros-humble-turtlebot:listener-v0.1\"\n",
        "listener_env_vars = {\n",
        "    \"DNS_IP\":\"8.8.8.8\",\n",
        "    \"GATEWAY_IP\":\"130.237.11.97\",\n",
        "    \"PASS\":\"turtlebot\"\n",
        "}\n",
        "listener_labels = {\n",
        "    \"networks.1.interface\":\"eno12419\",\n",
        "    \"networks.1.ip\":\"10.70.70.99/24\",\n",
        "    \"networks.1.routes\":\"10.42.3.0/24-10.70.70.1\",\n",
        "    \"capabilities.privileged\":\"true\", \n",
        "}\n",
        "listener_container_name = \"listener\"#listener_image_name.split('/')[-1].split(':')[0]\n",
        "listener_container = chi.container.create_container(\n",
        "    name = listener_container_name,\n",
        "    image = listener_image_name,\n",
        "    reservation_id = worker_reservation_id,\n",
        "    environment = listener_env_vars,\n",
        "    nets = [\n",
        "        { \"network\" : edge_net['id'] },\n",
        "    ],\n",
        "    labels = listener_labels,\n",
        ")\n",
        "chi.container.wait_for_active(listener_container_name)\n",
        "logger.success(\"Container deployed and active.\")"
      ]
    },
    {
      "cell_type": "markdown",
      "metadata": {},
      "source": [
        "## Teardown"
      ]
    },
    {
      "cell_type": "code",
      "execution_count": null,
      "metadata": {},
      "outputs": [],
      "source": [
        "status = get_container_status(listener_container_name)\n",
        "if status:\n",
        "    chi.container.destroy_container(listener_container_name)\n",
        "    wait_until_container_removed(listener_container_name)\n",
        "\n",
        "status = get_container_status(talker_container_name)\n",
        "if status:\n",
        "    chi.container.destroy_container(talker_container_name)\n",
        "    wait_until_container_removed(talker_container_name)\n",
        "\n",
        "logger.info(f\"stopped and removed all containers\")\n",
        "\n",
        "# find the router again\n",
        "router = None\n",
        "try:\n",
        "    router = chi.network.get_router(\"nils-router\")\n",
        "except Exception as ex:\n",
        "    logger.info(f\"could not find nils-router.\")\n",
        "\n",
        "if router:\n",
        "    # remove all routes from the router\n",
        "    chi.network.remove_all_routes_from_router(router[\"id\"])\n",
        "    logger.success(f\"removed all routers from router\")\n",
        "\n",
        "    # remove all subnets from the router\n",
        "    subnets = chi.network.list_subnets()\n",
        "    logger.info(f\"checking all {len(subnets)} subnets.\")\n",
        "    for subnet in subnets:\n",
        "        try:\n",
        "            chi.network.remove_subnet_from_router(router[\"id\"],subnet[\"id\"])\n",
        "        except Exception as ex:\n",
        "            pass\n",
        "    logger.success(f\"removed all subnets from router\")\n",
        "\n",
        "    chi.network.delete_router(router[\"id\"])\n",
        "    logger.success(f\"deleted the router\")\n",
        "\n",
        "edgenet = None\n",
        "try:\n",
        "    edgenet = chi.network.get_network(\"nils-edgenet\")\n",
        "except Exception as ex:\n",
        "    logger.info(f\"could not find nils-edgenet.\")\n",
        "\n",
        "if edgenet:\n",
        "    chi.network.delete_network(edgenet[\"id\"])\n",
        "    logger.success(f\"deleted the nils-edgenet\")\n",
        "\n",
        "endnet = None\n",
        "try:\n",
        "    endnet = chi.network.get_network(\"nils-devicenet\")\n",
        "except Exception as ex:\n",
        "    logger.info(f\"could not find nils-devicenet.\")\n",
        "    \n",
        "if endnet:\n",
        "    chi.network.delete_network(endnet[\"id\"])\n",
        "    logger.success(f\"deleted the nils-devicenet\")\n",
        "\n",
        "unreserve_byid(worker_lease[\"id\"])"
      ]
    }
  ],
  "metadata": {
    "colab": {
      "authorship_tag": "ABX9TyPrq+cg0kilpS84MOIIGCn7",
      "include_colab_link": true,
      "provenance": []
    },
    "kernelspec": {
      "display_name": "Python 3",
      "name": "python3"
    },
    "language_info": {
      "codemirror_mode": {
        "name": "ipython",
        "version": 3
      },
      "file_extension": ".py",
      "mimetype": "text/x-python",
      "name": "python",
      "nbconvert_exporter": "python",
      "pygments_lexer": "ipython3",
      "version": "3.9.5"
    }
  },
  "nbformat": 4,
  "nbformat_minor": 0
}
