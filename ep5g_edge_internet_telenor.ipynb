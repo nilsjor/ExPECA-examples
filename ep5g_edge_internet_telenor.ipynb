{
 "cells": [
  {
   "cell_type": "markdown",
   "metadata": {
    "colab_type": "text",
    "id": "view-in-github"
   },
   "source": [
    "<a href=\"https://colab.research.google.com/github/KTH-EXPECA/examples/blob/main/ep5g_edge_internet_telenor.ipynb\" target=\"_parent\"><img src=\"https://colab.research.google.com/assets/colab-badge.svg\" alt=\"Open In Colab\"/></a>"
   ]
  },
  {
   "cell_type": "markdown",
   "metadata": {
    "id": "W9YICZf_mJBy"
   },
   "source": [
    "Login to Chameleon and download openrc.sh file from [here](https://testbed.expeca.proj.kth.se/project/api_access/openrc/). Upload it here next to this notebook and continue.\n",
    "\n",
    "In the next cell, we setup the authentication method to be able to use Openstack clients."
   ]
  },
  {
   "cell_type": "code",
   "execution_count": null,
   "metadata": {
    "colab": {
     "base_uri": "https://localhost:8080/"
    },
    "id": "KLT-J26lJ5ae",
    "outputId": "ff667f81-4f76-4431-ef15-b567ffe8b7d1"
   },
   "outputs": [],
   "source": [
    "import os, re\n",
    "from getpass import getpass\n",
    "\n",
    "with open('demo_project-openrc.sh', 'r') as f:\n",
    "    script_content = f.read()\n",
    "    pattern = r'export\\s+(\\w+)\\s*=\\s*(\"[^\"]+\"|[^\"\\n]+)'\n",
    "    matches = re.findall(pattern, script_content)\n",
    "\n",
    "    for name, value in matches:\n",
    "        os.environ[name] = value.strip('\"')\n",
    "\n",
    "password = getpass('enter your expeca password:')\n",
    "os.environ['OS_PASSWORD'] = password"
   ]
  },
  {
   "cell_type": "markdown",
   "metadata": {
    "id": "5bXlipy4m1bs"
   },
   "source": [
    "Install required packages and dependencies. Ignore the warnings."
   ]
  },
  {
   "cell_type": "code",
   "execution_count": null,
   "metadata": {
    "colab": {
     "base_uri": "https://localhost:8080/"
    },
    "id": "3uZ_rN5iFlhp",
    "outputId": "3c5d479e-d9b5-42a9-8061-afba9372b2fd"
   },
   "outputs": [],
   "source": [
    "!pip uninstall -q -y moviepy\n",
    "!pip install -q jedi\n",
    "!pip install -q git+https://github.com/KTH-EXPECA/python-chi"
   ]
  },
  {
   "cell_type": "markdown",
   "metadata": {
    "id": "VkDR3RsFpKSv"
   },
   "source": [
    "Import packages"
   ]
  },
  {
   "cell_type": "code",
   "execution_count": null,
   "metadata": {
    "id": "gWqW34Pc7YJp"
   },
   "outputs": [],
   "source": [
    "import json\n",
    "from loguru import logger\n",
    "import chi.network, chi.container\n",
    "from chi.expeca import reserve, list_reservations, unreserve_byid, get_container_status, wait_until_container_removed, show_reservation_byname, get_available_publicips, get_segment_ids, get_worker_interfaces"
   ]
  },
  {
   "cell_type": "markdown",
   "metadata": {
    "id": "Rd4EsDjdqRFU"
   },
   "source": [
    "In the next cell, we reserve the required equipment and resources to form an end to end experiment setup. We reserve EP5G network."
   ]
  },
  {
   "cell_type": "code",
   "execution_count": null,
   "metadata": {
    "colab": {
     "base_uri": "https://localhost:8080/"
    },
    "id": "1pauMnGZ8KSP",
    "outputId": "a92be6f4-8ed2-4002-8a66-d4e6c5847378"
   },
   "outputs": [],
   "source": [
    "# ep5g reservation\n",
    "ep5g_lease = show_reservation_byname(\"ep5g-lease\")\n",
    "segment_ids = get_segment_ids('ep5g')\n",
    "if not ep5g_lease:\n",
    "    ep5g_lease = reserve(\n",
    "        { \"type\":\"network\", \"name\": \"ep5g\", \"net_name\": \"ep5g-vip\", \"segment_id\": segment_ids['rj45'], \"duration\": { \"days\":7, \"hours\":0 } }\n",
    "    )\n",
    "\n",
    "\n",
    "leaseslist = list_reservations(brief=True)\n",
    "print(json.dumps(leaseslist,indent=4))"
   ]
  },
  {
   "cell_type": "markdown",
   "metadata": {
    "id": "pw1BdmaW5tGa"
   },
   "source": [
    "In the following section we setup the networking equipment for ep5g, edge-net, Telenor Edge, and Internet (refer to [here](https://kth-expeca.gitbook.io/testbedconfig/enroll/enroll-network-segments/ep5g) for more info)."
   ]
  },
  {
   "cell_type": "code",
   "execution_count": null,
   "metadata": {
    "colab": {
     "base_uri": "https://localhost:8080/"
    },
    "id": "OWxQ0wt65sGV",
    "outputId": "d69ac49f-d838-49ec-f63e-672b09390c3d"
   },
   "outputs": [],
   "source": [
    "# create edge-net\n",
    "edgenet = chi.network.create_network(\"edge-net\")\n",
    "chi.network.create_subnet(\"edge-net-subnet\",edgenet[\"id\"],\"10.70.70.0/24\",gateway_ip=None,enable_dhcp=False)\n",
    "logger.success(\"edge-net is created.\")\n",
    "\n",
    "# create telenor-int-net\n",
    "telintnet = chi.network.create_network(\"telenor-int-net\")\n",
    "chi.network.create_subnet(\"telenor-int-subnet\",telintnet[\"id\"],\"10.80.80.0/24\",gateway_ip=None,enable_dhcp=False)\n",
    "logger.success(\"telenor-int-net is created.\")\n",
    "\n",
    "# create ep5g-vip-router\n",
    "router = chi.network.create_router(\"ep5g-vip-router\", \"public\")\n",
    "logger.success(\"ep5g-vip-router router is created.\")\n",
    "logger.info(f\"{json.dumps(router,indent=4)}\")\n",
    "\n",
    "# connect ep5g-vip-net to ep5g-vip-router\n",
    "ep5gnet = chi.network.get_network(\"ep5g-vip-net\")\n",
    "portadd = chi.network.add_subnet_to_router(router[\"id\"],ep5gnet[\"subnets\"][0])\n",
    "logger.success(\"An interface on ep5g-vip-net is added to the router\")\n",
    "\n",
    "# connect edge-net to ep5g-vip-router\n",
    "edgenet = chi.network.get_network(\"edge-net\")\n",
    "portadd = chi.network.add_subnet_to_router(router[\"id\"],edgenet[\"subnets\"][0])\n",
    "logger.success(\"An interface on edge-net is added to the router\")\n",
    "\n",
    "# connect telenor-int-net to ep5g-vip-router\n",
    "telintnet = chi.network.get_network(\"telenor-int-net\")\n",
    "port = chi.network.create_port(\n",
    "    \"telenor-int-port1\",  # Name of the port\n",
    "    network_id=telintnet[\"id\"],\n",
    "    fixed_ips=[{\"subnet_id\": telintnet[\"subnets\"][0], \"ip_address\": \"10.80.80.1\"}]  # Specify new IP address\n",
    ")\n",
    "port_id = port[\"port\"][\"id\"]\n",
    "chi.network.add_port_to_router(router[\"id\"], port_id)\n",
    "logger.success(\"An interface on telenor-int-net is added to the router\")\n",
    "\n",
    "# add ep5g route to ep5g-vip-router\n",
    "routeadd = chi.network.add_route_to_router(router[\"id\"],\"172.16.0.0/16\",\"10.30.111.10\")\n",
    "logger.success(\"the ep5g route added to the router\")\n",
    "\n",
    "# add telenor route to ep5g-vip-router, which goes to Telenor router\n",
    "routeadd = chi.network.add_route_to_router(router[\"id\"],\"10.2.58.0/24\",\"10.80.80.2\")\n",
    "logger.success(\"the telenor route added to the router\")\n",
    "\n",
    "# create telenor-int-router\n",
    "router = chi.network.create_router(\"telenor-int-router\", \"telenor-net\")\n",
    "logger.success(\"telenor-int-router router is created.\")\n",
    "logger.info(f\"{json.dumps(router,indent=4)}\")\n",
    "\n",
    "# connect telenor-int-net to telenor-int-router\n",
    "telintnet = chi.network.get_network(\"telenor-int-net\")\n",
    "port = chi.network.create_port(\n",
    "    \"telenor-int-port2\",  # Name of the port\n",
    "    network_id=telintnet[\"id\"],\n",
    "    fixed_ips=[{\"subnet_id\": telintnet[\"subnets\"][0], \"ip_address\": \"10.80.80.2\"}]  # Specify new IP address\n",
    ")\n",
    "port_id = port[\"port\"][\"id\"]\n",
    "chi.network.add_port_to_router(router[\"id\"], port_id)\n",
    "logger.success(\"An interface on telenor-int-net is added to the router\")\n",
    "\n",
    "# add ep5g route to telenor-router\n",
    "routeadd = chi.network.add_route_to_router(router[\"id\"],\"172.16.0.0/16\",\"10.80.80.1\")\n",
    "logger.success(\"the ep5g route added to the router\")"
   ]
  }
 ],
 "metadata": {
  "colab": {
   "authorship_tag": "ABX9TyPSGxfDLgT8PEKFLuOo9i7l",
   "include_colab_link": true,
   "provenance": []
  },
  "kernelspec": {
   "display_name": "Python 3",
   "name": "python3"
  },
  "language_info": {
   "name": "python"
  }
 },
 "nbformat": 4,
 "nbformat_minor": 0
}
