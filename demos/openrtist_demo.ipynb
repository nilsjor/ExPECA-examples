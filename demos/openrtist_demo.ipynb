{
  "cells": [
    {
      "cell_type": "markdown",
      "metadata": {
        "colab_type": "text",
        "id": "view-in-github"
      },
      "source": [
        "<a href=\"https://colab.research.google.com/github/KTH-EXPECA/examples/blob/main/demos/openrtist_demo.ipynb\" target=\"_parent\"><img src=\"https://colab.research.google.com/assets/colab-badge.svg\" alt=\"Open In Colab\"/></a>"
      ]
    },
    {
      "cell_type": "markdown",
      "metadata": {
        "id": "W9YICZf_mJBy"
      },
      "source": [
        "Login to Chameleon and download openrc.sh file from [here](https://testbed.expeca.proj.kth.se/project/api_access/openrc/). Upload it here next to this notebook and continue.\n",
        "\n",
        "In the next cell, we setup the authentication method to be able to use Openstack clients."
      ]
    },
    {
      "cell_type": "code",
      "execution_count": null,
      "metadata": {
        "colab": {
          "base_uri": "https://localhost:8080/"
        },
        "id": "KLT-J26lJ5ae",
        "outputId": "ff667f81-4f76-4431-ef15-b567ffe8b7d1"
      },
      "outputs": [],
      "source": [
        "import os, re\n",
        "from getpass import getpass\n",
        "\n",
        "with open('demo_project-openrc.sh', 'r') as f:\n",
        "    script_content = f.read()\n",
        "    pattern = r'export\\s+(\\w+)\\s*=\\s*(\"[^\"]+\"|[^\"\\n]+)'\n",
        "    matches = re.findall(pattern, script_content)\n",
        "\n",
        "    for name, value in matches:\n",
        "        os.environ[name] = value.strip('\"')\n",
        "\n",
        "password = getpass('enter your expeca password:')\n",
        "os.environ['OS_PASSWORD'] = password"
      ]
    },
    {
      "cell_type": "markdown",
      "metadata": {
        "id": "5bXlipy4m1bs"
      },
      "source": [
        "Install required packages and dependencies. Ignore the warnings."
      ]
    },
    {
      "cell_type": "code",
      "execution_count": null,
      "metadata": {
        "colab": {
          "base_uri": "https://localhost:8080/"
        },
        "id": "3uZ_rN5iFlhp",
        "outputId": "3c5d479e-d9b5-42a9-8061-afba9372b2fd"
      },
      "outputs": [],
      "source": [
        "!pip uninstall -q -y moviepy\n",
        "!pip install -q jedi\n",
        "!pip install -q git+https://github.com/KTH-EXPECA/python-chi"
      ]
    },
    {
      "cell_type": "markdown",
      "metadata": {
        "id": "VkDR3RsFpKSv"
      },
      "source": [
        "Import packages"
      ]
    },
    {
      "cell_type": "code",
      "execution_count": null,
      "metadata": {
        "id": "gWqW34Pc7YJp"
      },
      "outputs": [],
      "source": [
        "import json\n",
        "from loguru import logger\n",
        "import chi.network, chi.container, chi.network\n",
        "from chi.expeca import reserve, list_reservations, unreserve_byid, get_container_status, wait_until_container_removed, show_reservation_byname, get_available_publicips, get_segment_ids, get_worker_interfaces"
      ]
    },
    {
      "cell_type": "markdown",
      "metadata": {
        "id": "Rd4EsDjdqRFU"
      },
      "source": [
        "In the next cell, we reserve the required equipment and resources to form an end to end experiment setup. We reserve EP5G network, one Advantech router and one worker to run the workloads."
      ]
    },
    {
      "cell_type": "code",
      "execution_count": null,
      "metadata": {
        "colab": {
          "base_uri": "https://localhost:8080/"
        },
        "id": "1pauMnGZ8KSP",
        "outputId": "a92be6f4-8ed2-4002-8a66-d4e6c5847378"
      },
      "outputs": [],
      "source": [
        "# worker reservation\n",
        "worker_name = \"worker-02\"\n",
        "worker_lease = show_reservation_byname(worker_name + \"-lease\")\n",
        "if not worker_lease:\n",
        "    worker_lease = reserve(\n",
        "        { \"type\":\"device\", \"name\":worker_name, \"duration\": { \"days\":7, \"hours\":0 } }\n",
        "    )\n",
        "worker_reservation_id = worker_lease[\"reservations\"][0][\"id\"]\n",
        "\n",
        "# ep5g reservation\n",
        "ep5g_lease = show_reservation_byname(\"ep5g-lease\")\n",
        "segment_ids = get_segment_ids('ep5g')\n",
        "if not ep5g_lease:\n",
        "    ep5g_lease = reserve(\n",
        "        { \"type\":\"network\", \"name\": \"ep5g\", \"net_name\": \"ep5g-vip\", \"segment_id\": segment_ids['rj45'], \"duration\": { \"days\":7, \"hours\":0 } }\n",
        "    )\n",
        "\n",
        "# advantech router reservation\n",
        "adv_name = \"adv-03\"\n",
        "segment_ids = get_segment_ids(adv_name)\n",
        "adv_lease = show_reservation_byname(adv_name + \"-lease\")\n",
        "if not adv_lease:\n",
        "    adv_lease = reserve(\n",
        "        { \"type\":\"network\", \"name\": adv_name, \"net_name\": adv_name, \"segment_id\": segment_ids['rj45'], \"duration\": { \"days\":7, \"hours\":0 } }\n",
        "    )\n",
        "\n",
        "# advantech router reservation\n",
        "adv_name = \"adv-07\"\n",
        "segment_ids = get_segment_ids(adv_name)\n",
        "adv_lease = show_reservation_byname(adv_name + \"-lease\")\n",
        "if not adv_lease:\n",
        "    adv_lease = reserve(\n",
        "        { \"type\":\"network\", \"name\": adv_name, \"net_name\": adv_name, \"segment_id\": segment_ids['rj45'], \"duration\": { \"days\":7, \"hours\":0 } }\n",
        "    )\n",
        "\n",
        "leaseslist = list_reservations(brief=True)\n",
        "print(json.dumps(leaseslist,indent=4))"
      ]
    },
    {
      "cell_type": "markdown",
      "metadata": {
        "id": "pw1BdmaW5tGa"
      },
      "source": [
        "In the following section we setup the networking equipment for ep5g (refer to [here](https://kth-expeca.gitbook.io/testbedconfig/enroll/enroll-network-segments/ep5g) for more info). It contains creation of an edge-net, a router, and some interfaces on the router and routes."
      ]
    },
    {
      "cell_type": "code",
      "execution_count": null,
      "metadata": {
        "colab": {
          "base_uri": "https://localhost:8080/"
        },
        "id": "OWxQ0wt65sGV",
        "outputId": "d69ac49f-d838-49ec-f63e-672b09390c3d"
      },
      "outputs": [],
      "source": [
        "# create edge-net\n",
        "edgenet = chi.network.create_network(\"edge-net\")\n",
        "chi.network.create_subnet(\"edge-net-subnet\",edgenet[\"id\"],\"10.70.70.0/24\",gateway_ip=\"10.70.70.1\",enable_dhcp=False)\n",
        "logger.success(\"edge-net is created.\")\n",
        "\n",
        "# create ep5g-vip-router\n",
        "router = chi.network.create_router(\"ep5g-vip-router\",\"public\")\n",
        "logger.success(\"ep5g-vip-router router is created.\")\n",
        "logger.info(f\"{json.dumps(router,indent=4)}\")\n",
        "\n",
        "# connect ep5g-vip-net to ep5g-vip-router\n",
        "ep5gnet = chi.network.get_network(\"ep5g-vip-net\")\n",
        "portadd = chi.network.add_subnet_to_router(router[\"id\"],ep5gnet[\"subnets\"][0])\n",
        "logger.success(\"An interface on ep5g-vip-net is added to the router\")\n",
        "\n",
        "# create edge-net to ep5g-vip-router\n",
        "edgenet = chi.network.get_network(\"edge-net\")\n",
        "portadd = chi.network.add_subnet_to_router(router[\"id\"],edgenet[\"subnets\"][0])\n",
        "logger.success(\"An interface on edge-net is added to the router\")\n",
        "\n",
        "# add ep5g route to ep5g-vip-router\n",
        "routeadd = chi.network.add_route_to_router(router[\"id\"],\"172.16.0.0/16\",\"10.30.111.10\")\n",
        "logger.success(\"the route added to the router\")"
      ]
    },
    {
      "cell_type": "markdown",
      "metadata": {
        "id": "qlEedPyQpdZp"
      },
      "source": [
        "Now we start running the container."
      ]
    },
    {
      "cell_type": "code",
      "execution_count": null,
      "metadata": {
        "colab": {
          "base_uri": "https://localhost:8080/"
        },
        "id": "KNPWOgj97oDZ",
        "outputId": "4f0a818c-66f3-40c2-ef4e-43ab2f473e0a"
      },
      "outputs": [],
      "source": [
        "# check available interfaces of the worker\n",
        "interfaces = list(get_worker_interfaces(worker_name).values())[0]\n",
        "available_ifs = []\n",
        "for interface in interfaces.keys():\n",
        "  if len(interfaces[interface]['connections']) == 0:\n",
        "    available_ifs.append(interface)\n",
        "logger.info(f\"Available interfaces on {worker_name}: {available_ifs}\")\n",
        "if len(available_ifs) < 2:\n",
        "  logger.info(f\"{json.dumps(interfaces, indent=4)}\")\n",
        "  raise Exception(f\"Did not find enough interfaces on {worker_name}\")\n",
        "\n",
        "# run container\n",
        "edgenet = chi.network.get_network(\"edge-net\")\n",
        "container_name = \"openrtist-server\"\n",
        "chi.container.create_container(\n",
        "    name = container_name,\n",
        "    image = \"cmusatyalab/openrtist:stable\",\n",
        "    reservation_id = worker_reservation_id,\n",
        "    mounts = [],\n",
        "    nets = [\n",
        "        { \"network\" : edgenet['id'] },\n",
        "    ],\n",
        "    labels = {\n",
        "        \"networks.1.interface\":available_ifs[0],\n",
        "        \"networks.1.ip\":\"10.70.70.30/24\",\n",
        "        \"networks.1.routes\":\"172.16.0.0/16-10.70.70.1\",\n",
        "    },\n",
        ")\n",
        "chi.container.wait_for_active(container_name)\n",
        "logger.success(f\"created {container_name} container\")"
      ]
    }
  ],
  "metadata": {
    "colab": {
      "authorship_tag": "ABX9TyPSGxfDLgT8PEKFLuOo9i7l",
      "include_colab_link": true,
      "provenance": []
    },
    "kernelspec": {
      "display_name": "Python 3",
      "name": "python3"
    },
    "language_info": {
      "name": "python"
    }
  },
  "nbformat": 4,
  "nbformat_minor": 0
}
